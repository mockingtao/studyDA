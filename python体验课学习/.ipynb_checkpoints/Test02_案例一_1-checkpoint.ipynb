{
 "cells": [
  {
   "cell_type": "code",
   "execution_count": 110,
   "metadata": {},
   "outputs": [
    {
     "name": "stdout",
     "output_type": "stream",
     "text": [
      "     省级政区代码 省级政区名称  地市级政区代码 地市级政区名称    年份 党委书记姓名    出生年份  出生月份    籍贯省份代码  \\\n",
      "130  140000    山西省   140100     太原市  2009    申维辰  1956.0   5.0  140000.0   \n",
      "131  140000    山西省   140100     太原市  2010    申维辰  1956.0   5.0  140000.0   \n",
      "132  140000    山西省   140200     大同市  2000    靳善忠  1949.0   5.0  140000.0   \n",
      "\n",
      "    籍贯省份名称   ...    民族  教育 是否是党校教育（是=1，否=0） 专业：人文 专业：社科  专业：理工  专业：农科  专业：医科  \\\n",
      "130    山西省   ...    汉族  本科              0.0   0.0   0.0    0.0    0.0    0.0   \n",
      "131    山西省   ...    汉族  本科              0.0   0.0   0.0    0.0    0.0    0.0   \n",
      "132    山西省   ...    汉族  中专              0.0   0.0   0.0    1.0    0.0    0.0   \n",
      "\n",
      "       入党年份    工作年份  \n",
      "130  1979.0  1969.0  \n",
      "131  1979.0  1969.0  \n",
      "132  1975.0  1969.0  \n",
      "\n",
      "[3 rows x 23 columns]\n"
     ]
    }
   ],
   "source": [
    "# 1、自己先手动将excel文件转化成csv文件；\n",
    "# 2、使用pd.read_csv方法导入数据；\n",
    "import numpy as np\n",
    "import pandas as pd\n",
    "import matplotlib.pyplot as plt\n",
    "\n",
    "data = pd.read_csv(\"/Users/matao/Study/data_analyst/python体验课学习/data_test2.csv\", encoding = \"gb18030\",engine='python')\n",
    "\n",
    "print(data[130:133])\n",
    "\n",
    "\n"
   ]
  },
  {
   "cell_type": "code",
   "execution_count": 111,
   "metadata": {},
   "outputs": [
    {
     "name": "stdout",
     "output_type": "stream",
     "text": [
      "    党委书记姓名 性别\n",
      "130    申维辰  男\n",
      "131    申维辰  男\n",
      "132    靳善忠  男\n"
     ]
    }
   ],
   "source": [
    "data_test = data[130:133]\n",
    "print(data_test[['党委书记姓名','性别']])\n",
    "#这个地方，需要多个列名的时候，是要使用“[[]]”，双方括号，这个地方需要再研究一下。。。。？？？"
   ]
  },
  {
   "cell_type": "code",
   "execution_count": 112,
   "metadata": {},
   "outputs": [
    {
     "name": "stdout",
     "output_type": "stream",
     "text": [
      "['省级政区代码', '省级政区名称', '地市级政区代码', '地市级政区名称', '年份', '党委书记姓名', '出生年份', '出生月份', '籍贯省份代码', '籍贯省份名称', '籍贯地市代码', '籍贯地市名称', '性别', '民族', '教育', '是否是党校教育（是=1，否=0）', '专业：人文', '专业：社科', '专业：理工', '专业：农科', '专业：医科', '入党年份', '工作年份']\n",
      "<class 'list'>\n"
     ]
    }
   ],
   "source": [
    "field = data.columns.tolist()# 将data数据的列名转化为list\n",
    "print(field)\n",
    "print(type(field))"
   ]
  },
  {
   "cell_type": "code",
   "execution_count": 113,
   "metadata": {
    "scrolled": true
   },
   "outputs": [
    {
     "name": "stdout",
     "output_type": "stream",
     "text": [
      "       省级政区名称 地市级政区名称 党委书记姓名 籍贯省份名称 籍贯地市名称    性别    民族    教育\n",
      "count    3663    3663   3021   2624   2615  2708  2517  2550\n",
      "unique     27     333    901     29    240     2     2     7\n",
      "top       广东省     绍兴市    焉荣竹    山东省    威海市     男    汉族    硕士\n",
      "freq      231      11     11    313     58  2633  2351  1381\n"
     ]
    }
   ],
   "source": [
    "# print(data.describe(include=[np.number]))\n",
    "# describe方法：返回基本的数据信息（即，基本信息的统计）\n",
    "# describe():没有参数，则默认只统计数值类型的字段内容，包括：计数（count），平均数（mean），方差（std），最小值（min），最大值（max），四分位数（25%，50%，75%），若其中有字符串数据会报\n",
    "# describe(include=[np.number]): 指定只统计数值类型；\n",
    "\n",
    "\n",
    "print(data.describe(include=[np.object]))\n",
    "# describe(include=[np.object]): 只统计字符串类型的字段内容：计数（count），唯一值数量（unique），出现频率最高的内容（top），最高出现频率（freq）\n"
   ]
  },
  {
   "cell_type": "code",
   "execution_count": 114,
   "metadata": {},
   "outputs": [
    {
     "data": {
      "text/plain": [
       "'问题一 性别构成'"
      ]
     },
     "execution_count": 114,
     "metadata": {},
     "output_type": "execute_result"
    }
   ],
   "source": [
    "'''问题一 性别构成'''"
   ]
  },
  {
   "cell_type": "code",
   "execution_count": 115,
   "metadata": {},
   "outputs": [
    {
     "name": "stdout",
     "output_type": "stream",
     "text": [
      "['男' '女']\n"
     ]
    }
   ],
   "source": [
    "data_gender = data['性别']\n",
    "#print(data_gender[130:150])\n",
    "#print(data_gender.head(10))\n",
    "#print(type(data_gender.notnull())) # 发现data_gender.notnull()返回的是这个类型pandas.core.series.Series\n",
    "#print(data_gender[data_gender.notnull()]) # 所有就可以这样使用:data_gender[data_gender.notnull()]\n",
    "data_gender_re = data_gender[data_gender.notnull()]\n",
    "print(data_gender_re.unique()) "
   ]
  },
  {
   "cell_type": "code",
   "execution_count": 116,
   "metadata": {},
   "outputs": [
    {
     "name": "stdout",
     "output_type": "stream",
     "text": [
      "2708 2633 75\n",
      "0.9723042836041359\n",
      "0.027695716395864108\n"
     ]
    }
   ],
   "source": [
    "count = len(data_gender_re)\n",
    "count_m = len(data_gender_re[data_gender_re == '男'])\n",
    "count_w = len(data_gender_re[data_gender_re == '女'])\n",
    "print(count, count_m, count_w)\n",
    "count == count_m + count_w\n",
    "rate_m = count_m / count\n",
    "rate_w = count_w /count\n",
    "print(rate_m)\n",
    "print(rate_w)\n"
   ]
  },
  {
   "cell_type": "code",
   "execution_count": 91,
   "metadata": {
    "scrolled": true
   },
   "outputs": [
    {
     "name": "stdout",
     "output_type": "stream",
     "text": [
      "121    山西省\n",
      "122    山西省\n",
      "123    山西省\n",
      "124    山西省\n",
      "125    山西省\n",
      "Name: 省级政区名称, dtype: object\n",
      "121    男\n",
      "122    男\n",
      "123    男\n",
      "124    男\n",
      "125    男\n",
      "Name: 性别, dtype: object\n",
      "性别       女    男\n",
      "省级政区名称         \n",
      "云南省      2   73\n",
      "内蒙古自治区   0   86\n",
      "吉林省      4   72\n",
      "四川省      8  155\n",
      "宁夏回族自治区  0   49\n",
      "----------\n",
      "省级政区名称\n",
      "辽宁省    0.097015\n",
      "陕西省    0.088235\n",
      "吉林省    0.052632\n",
      "山西省    0.050847\n",
      "四川省    0.049080\n",
      "安徽省    0.040230\n",
      "江西省    0.034188\n",
      "山东省    0.032609\n",
      "福建省    0.030303\n",
      "云南省    0.026667\n",
      "Name: 女性占比, dtype: float64\n"
     ]
    }
   ],
   "source": [
    "# 按省份分析市委书记女性比例\n",
    "\n",
    "data_gender2 = data[[\"省级政区名称\",'性别','民族']]\n",
    "# print(type(data_gender2))\n",
    "data_gender2_re = data_gender2[data_gender2['性别'].notnull()]\n",
    "# print(len(data_gender2_re))\n",
    "# print(data_gender2_re.head())\n",
    "# print('----------')\n",
    "\n",
    "# 按照省份统计出男女人数\n",
    "pt = pd.crosstab(data_gender2_re['省级政区名称'],data_gender2_re['性别'])\n",
    "print(data_gender2_re['省级政区名称'].head())\n",
    "print(data_gender2_re['性别'].head())\n",
    "print(pt.head())\n",
    "print('----------')\n",
    "#print(pt['女'])\n",
    "# crosstab(参数1, 参数2)：按照参数1，统计出参数2的数量\n",
    "\n",
    "# 计算出女性占比\n",
    "pt['女性占比'] = pt['女'] / (pt['女']+pt['男'])\n",
    "#print(pt['女性占比'].head())\n",
    "pt2 = pt.sort_values(by=['女性占比'],ascending=False)\n",
    "print(pt2['女性占比'][:10])\n",
    "\n",
    "                        "
   ]
  },
  {
   "cell_type": "code",
   "execution_count": 119,
   "metadata": {},
   "outputs": [
    {
     "name": "stdout",
     "output_type": "stream",
     "text": [
      "Index(['辽宁省', '陕西省', '吉林省', '山西省', '四川省', '安徽省', '江西省', '山东省', '福建省', '云南省'], dtype='object', name='省级政区名称')\n"
     ]
    },
    {
     "data": {
      "image/png": "[encoded data removed]",
      "text/plain": [
       "<matplotlib.figure.Figure at 0x11397e390>"
      ]
     },
     "metadata": {},
     "output_type": "display_data"
    }
   ],
   "source": [
    "# 绘制图表1：不同省份女性市委书记占比\n",
    "fig_q1_1 = plt.figure(figsize=(8, 4))\n",
    "\n",
    "index = pt2.index[:10]\n",
    "print(index)\n",
    "plt.bar(range(10),pt2['女性占比'][:10],tick_label=index,color='gray')\n",
    "# plt.bar() 创建柱状图\n",
    "# ple.bar(横坐标，纵坐标，标签（x轴），颜色)\n",
    "plt.title('women leader')\n",
    "plt.xlabel('province')\n",
    "plt.ylabel('women_rate')\n",
    "plt.show()"
   ]
  },
  {
   "cell_type": "code",
   "execution_count": 120,
   "metadata": {},
   "outputs": [
    {
     "data": {
      "image/png": "[encoded data removed]",
      "text/plain": [
       "<matplotlib.figure.Figure at 0x11397e518>"
      ]
     },
     "metadata": {},
     "output_type": "display_data"
    }
   ],
   "source": [
    "#绘制图表2：女性市委书记占比结构\n",
    "fig_q1_2 = plt.figure(figsize=(4, 4))\n",
    "plt.boxplot(pt2['女性占比'],vert=True,showmeans=True)\n",
    "plt.title(\"women leader\")\n",
    "plt.xticks([])\n",
    "plt.ylabel('women %')\n",
    "plt.show()\n",
    "\n"
   ]
  },
  {
   "cell_type": "code",
   "execution_count": null,
   "metadata": {
    "collapsed": true
   },
   "outputs": [],
   "source": [
    "'''\n",
    "Part3 年龄情况，专业问题\n",
    "'''"
   ]
  },
  {
   "cell_type": "code",
   "execution_count": 124,
   "metadata": {},
   "outputs": [
    {
     "name": "stdout",
     "output_type": "stream",
     "text": [
      "121    73.0\n",
      "123    68.0\n",
      "127    62.0\n",
      "132    69.0\n",
      "134    73.0\n",
      "Name: 出生年份, dtype: float64\n",
      "       党委书记姓名    年份\n",
      "党委书记姓名             \n",
      "丁海中       丁海中  2003\n",
      "丁耀民       丁耀民  2000\n",
      "丁解民       丁解民  2001\n",
      "万庆良       万庆良  2005\n",
      "丰立祥       丰立祥  2008\n",
      "乔延春       乔延春  2000\n",
      "于伟         于伟  2003\n",
      "于伟国       于伟国  2009\n",
      "于建成       于建成  2006\n",
      "于捷         于捷  2000\n",
      "年份\n",
      "2000    190\n",
      "2001     69\n",
      "2002     65\n",
      "2003     88\n",
      "2004     51\n",
      "2005     55\n",
      "2006     50\n",
      "2007     59\n",
      "2008     99\n",
      "2009     23\n",
      "Name: 年份, dtype: int64\n",
      "-------------\n",
      "       党委书记姓名    年份\n",
      "党委书记姓名             \n",
      "丁海中       丁海中  2009\n",
      "丁耀民       丁耀民  2003\n",
      "丁解民       丁解民  2007\n",
      "万庆良       万庆良  2007\n",
      "丰立祥       丰立祥  2010\n",
      "乔延春       乔延春  2002\n",
      "于伟         于伟  2007\n",
      "于伟国       于伟国  2010\n",
      "于建成       于建成  2010\n",
      "于捷         于捷  2002\n",
      "年份\n",
      "2000     47\n",
      "2001     44\n",
      "2002     71\n",
      "2003     38\n",
      "2004     48\n",
      "2005     49\n",
      "2006     58\n",
      "2007    105\n",
      "2008     25\n",
      "2009     41\n",
      "2010    223\n",
      "Name: 年份, dtype: int64\n"
     ]
    }
   ],
   "source": [
    "# # 年龄情况：整体年龄分布 / 入职年份分布 / 卸任年份分布\n",
    "data_age = data[['出生年份', '党委书记姓名', '年份']]\n",
    "data_age_re = data_age[data_age['出生年份'].notnull()]\n",
    "# #print(data_age['出生年份'].notnull()[130:150])\n",
    "# #print(data_age_re.head())\n",
    "data_age_re2 = data_age_re[['出生年份','党委书记姓名']].drop_duplicates()\n",
    "# print(data_age_re2)\n",
    "# #print(data_age_re['党委书记姓名'].unique())\n",
    "# # print(data_age_re.describe())\n",
    "# print('----------------')\n",
    "\n",
    "# df1 = 2018 - data_age_re['出生年份']\n",
    "# print(df1.head())\n",
    "df1_re = 2018 - data_age_re2['出生年份']\n",
    "print(df1_re.head())\n",
    "# # print('----------------')\n",
    "# #print(df1_re)\n",
    "\n",
    "#df_yearmin 可以看做是一张表，表的结构是：先拿出“党委书记姓名”和“年份”的数据，然后按照“党委书记姓名”的姓名排序(排序规则暂时不太懂？？？)\n",
    "df_yearmin = data_age_re[['党委书记姓名', '年份']].groupby(data_age_re['党委书记姓名']).min() #代表 新任职的年份【党委书记姓名+年份】\n",
    "print(df_yearmin.head(10))\n",
    "# #将df_yearmin表拿出来，使用“年份”排序之后，再对“年份”计算count\n",
    "df2 = df_yearmin['年份'].groupby(df_yearmin['年份']).count() #这个就表示在200X年，新任职的有count人，这个没有重复数据。取了最小值。\n",
    "print(df2)\n",
    "print(\"-------------\")\n",
    "\n",
    "df_yearmax = data_age_re[['党委书记姓名', '年份']].groupby(data_age_re['党委书记姓名']).max() #代表 卸任的年份【党委书记姓名+年份】\n",
    "print(df_yearmax.head(10))\n",
    "df3 = df_yearmax['年份'].groupby(df_yearmax['年份']).count() #这个就表是在200X年，卸任的有count人\n",
    "print(df3)\n"
   ]
  },
  {
   "cell_type": "code",
   "execution_count": 127,
   "metadata": {
    "scrolled": true
   },
   "outputs": [
    {
     "name": "stdout",
     "output_type": "stream",
     "text": [
      "专业\n",
      "专业：人文    187\n",
      "专业：农科     21\n",
      "专业：医科      5\n",
      "专业：理工    127\n",
      "专业：社科    347\n",
      "Name: 专业, dtype: int64\n",
      "专业    专业：人文  专业：农科  专业：医科  专业：理工  专业：社科\n",
      "年份                                     \n",
      "2000     33      7      2     43     53\n",
      "2001     42      6      3     35     79\n",
      "2002     56      5      4     35     90\n",
      "2003     67      7      2     25    106\n",
      "2004     68      7      2     28    118\n",
      "2005     63      7      2     31    123\n",
      "2006     67      9      2     34    123\n",
      "2007     69      8      2     34    128\n",
      "2008     68      8      0     44    130\n",
      "2009     67      8      0     42    131\n",
      "2010     71      7      0     38    131\n"
     ]
    },
    {
     "name": "stderr",
     "output_type": "stream",
     "text": [
      "/Users/matao/anaconda3/lib/python3.6/site-packages/ipykernel_launcher.py:8: SettingWithCopyWarning: \n",
      "A value is trying to be set on a copy of a slice from a DataFrame.\n",
      "Try using .loc[row_indexer,col_indexer] = value instead\n",
      "\n",
      "See the caveats in the documentation: http://pandas.pydata.org/pandas-docs/stable/indexing.html#indexing-view-versus-copy\n",
      "  \n"
     ]
    }
   ],
   "source": [
    "# 专业情况：专业结构 / 专业整体情况 / 专业大类分布 \n",
    "data_major = data[['党委书记姓名','年份','专业：人文','专业：社科','专业：理工','专业：农科','专业：医科']]\n",
    "data_major_re = data_major[data_major['专业：人文'].notnull()]\n",
    "#print(data_major_re.head())\n",
    "#print(data_major_re.describe())\n",
    "\n",
    "# 统计每个人的专业。。下面方法有个问题：遇到双专业的怎么办？？？？\n",
    "data_major_re['专业'] = data_major_re[['专业：人文', '专业：社科', '专业：理工', '专业：农科', '专业：医科']].idxmax(axis=1)\n",
    "#print(data_major_re.head(10))\n",
    "\n",
    "data_major_st = data_major_re[['专业', '党委书记姓名']].drop_duplicates()\n",
    "#print(data_major_st.head(10))\n",
    "\n",
    "df4 = data_major_st['专业'].groupby(data_major_st['专业']).count()\n",
    "print(df4)\n",
    "\n",
    "df5 = pd.crosstab(data_major_re['年份'], data_major_re['专业'])\n",
    "print(df5)\n",
    "\n",
    "df5['社科比例'] = df5['专业：社科'] / (df5['专业：理工'] + df5['专业：医科'] + df5['专业：社科'] + df5['专业：农科'] + df5['专业：人文'])\n",
    "df5['人文比例'] = df5['专业：人文'] / (df5['专业：理工'] + df5['专业：医科'] + df5['专业：社科'] + df5['专业：农科'] + df5['专业：人文'])\n",
    "df5['理工农医比例'] = (df5['专业：理工'] + df5['专业：医科'] + df5['专业：农科'])/ (df5['专业：理工'] + df5['专业：医科'] + df5['专业：社科'] + df5['专业：农科'] + df5['专业：人文'])\n",
    "#print(df5[['社科比例','人文比例','理工农医比例']])\n",
    "\n",
    "\n"
   ]
  },
  {
   "cell_type": "code",
   "execution_count": 129,
   "metadata": {},
   "outputs": [
    {
     "data": {
      "image/png": "[encoded data removed]",
      "text/plain": [
       "<matplotlib.figure.Figure at 0x1139ed860>"
      ]
     },
     "metadata": {},
     "output_type": "display_data"
    }
   ],
   "source": [
    "# 年龄情况：图表绘制\n",
    "\n",
    "fig_q2 = plt.figure(figsize=(12, 8))\n",
    "\n",
    "ax1 = fig_q2.add_subplot(2, 3, 1)\n",
    "ax2 = fig_q2.add_subplot(2, 3, 2)\n",
    "ax3 = fig_q2.add_subplot(2, 3, 3)\n",
    "ax4 = fig_q2.add_subplot(2, 3, 4)\n",
    "ax5 = fig_q2.add_subplot(2, 3, 5)\n",
    "ax6 = fig_q2.add_subplot(2, 3, 6)\n",
    "\n",
    "ax1.hist(df1_re, bins=11, color='gray', alpha=0.9) #df1的数据应该有一些重复数据,所以这里我做了优化用df1_re ，剔除重复数据\n",
    "ax1.set_title(\"age\")\n",
    "ax1.grid(True)\n",
    "\n",
    "#入职年份分布\n",
    "ax2.plot(df2, color='r', marker='o',alpha=0.9)\n",
    "ax2.set_title(\"join a company\")\n",
    "ax2.set_xticks(range(2000,2011,2))\n",
    "ax2.grid(True)\n",
    "\n",
    "#卸任年份分布\n",
    "ax3.plot(df3, color='g', marker='o',linestyle='dashed', alpha=0.9)\n",
    "ax3.set_title(\"leave the job\")\n",
    "ax3.set_xticks(range(2000, 2011,2))\n",
    "ax3.grid(True)\n",
    "\n",
    "#以上两个数据有点意思，说明了领导班子这十年是稳定的，2000年入职的，十年后离职\n",
    "#奇怪的一点是，有点对数据怀疑。比如以2000年为例，似乎缺少了离职数据。上一代的领导班子呢？？？？？\n",
    "\n",
    "ax4.bar(range(len(df4)), df4, color='y')\n",
    "ax4.set_xticklabels(['','nongke','yike','ligong', 'sheke','ddd']) #神奇，为什么要传最前面的空字符串？？？？\n",
    "ax4.grid(True)\n",
    "ax4.set_title('major')\n",
    "\n",
    "ax5.plot(df5.index, df5[['专业：人文','专业：农科','专业：医科','专业：理工','专业：社科']])\n",
    "ax5.grid(True)\n",
    "ax5.set_title('whole major ')\n",
    "\n",
    "ax6.bar(df5.index, df5['社科比例'],color='darkred', alpha=0.7)\n",
    "ax6.bar(df5.index, df5['人文比例'], color='darkred', bottom=df5['社科比例'], alpha=0.5)\n",
    "ax6.bar(df5.index, df5['理工农医比例'], color='darkred', bottom=df5['人文比例'] + df5['社科比例'], alpha=0.3)\n",
    "ax6.set_title('专业大类分布：社科、人文、理工农医')\n",
    "ax6.grid(True)\n",
    "plt.show()\n",
    "\n"
   ]
  },
  {
   "cell_type": "code",
   "execution_count": null,
   "metadata": {
    "collapsed": true
   },
   "outputs": [],
   "source": [
    "'''\n",
    "Part4  问题三_任期情况\n",
    "'''"
   ]
  },
  {
   "cell_type": "code",
   "execution_count": 128,
   "metadata": {},
   "outputs": [
    {
     "name": "stdout",
     "output_type": "stream",
     "text": [
      "\n",
      "第③个===========\n",
      "          出生年份  年份max   姓名\n",
      "党委书记姓名                    \n",
      "丁海中     1951.0   2009  丁海中\n",
      "丁耀民     1948.0   2003  丁耀民\n",
      "丁解民     1951.0   2007  丁解民\n",
      "万庆良     1964.0   2007  万庆良\n",
      "丰立祥     1957.0   2010  丰立祥\n",
      "\n",
      "第④个===========\n",
      "          出生年份  年份min   姓名\n",
      "党委书记姓名                    \n",
      "丁海中     1951.0   2003  丁海中\n",
      "丁耀民     1948.0   2000  丁耀民\n",
      "丁解民     1951.0   2001  丁解民\n",
      "万庆良     1964.0   2005  万庆良\n",
      "丰立祥     1957.0   2008  丰立祥\n",
      "\n",
      "第⑤个===========\n",
      "     出生年份  年份max   姓名  年份min\n",
      "0  1951.0   2009  丁海中   2003\n",
      "1  1948.0   2003  丁耀民   2000\n",
      "2  1951.0   2007  丁解民   2001\n",
      "3  1964.0   2007  万庆良   2005\n",
      "4  1957.0   2010  丰立祥   2008\n",
      "\n",
      "第⑥个===========\n",
      "     出生年份  年份max   姓名  年份min  任期\n",
      "0  1951.0   2009  丁海中   2003   6\n",
      "1  1948.0   2003  丁耀民   2000   3\n",
      "2  1951.0   2007  丁解民   2001   6\n",
      "3  1964.0   2007  万庆良   2005   2\n",
      "4  1957.0   2010  丰立祥   2008   2\n",
      "\n",
      "第⑦个===========\n",
      "出生年份     float64\n",
      "年份max      int64\n",
      "姓名        object\n",
      "年份min      int64\n",
      "任期         int64\n",
      "dtype: object\n"
     ]
    }
   ],
   "source": [
    "#这里研究一下出生年份和任期的关系\n",
    "\n",
    "data_term = data[['年份','党委书记姓名','出生年份']]\n",
    "data_term_re = data_term[data_term['出生年份'].notnull()]\n",
    "#print(data_term_re.head())\n",
    "#print(data_term_re['出生年份'].unique())\n",
    "\n",
    "print(\"\\n第③个===========\")\n",
    "year_max = data_term_re[['出生年份','年份']].groupby(data_term_re['党委书记姓名']).max() \n",
    "#groupby之后，其实已经更改了“索引”，比如现在的索引就是 “党委书记姓名”\n",
    "year_max.rename(columns={'年份':'年份max'},inplace=True)\n",
    "year_max['姓名'] = year_max.index\n",
    "print(year_max.head())\n",
    "\n",
    "print(\"\\n第④个===========\")\n",
    "year_min = data_term_re[['出生年份','年份']].groupby(data_term_re['党委书记姓名']).min()\n",
    "year_min.rename(columns={'年份':'年份min'}, inplace=True)\n",
    "year_min['姓名'] = year_min.index\n",
    "print(year_min.head())\n",
    "\n",
    "print(\"\\n第⑤个===========\")\n",
    "data_term_fin = pd.merge(year_max, year_min)\n",
    "#merge之后，index序号从之前的121变成了0，\n",
    "#也就是说对原来的顺序进行了重新排序，并重置为0\n",
    "# merge建立在两张表的索引完全一致吗？？？？？？\n",
    "print(data_term_fin.head())\n",
    "\n",
    "print(\"\\n第⑥个===========\")\n",
    "data_term_fin['任期'] = data_term_fin['年份max'] - data_term_fin['年份min']\n",
    "print(data_term_fin.head())\n",
    "\n",
    "print(\"\\n第⑦个===========\")\n",
    "print(data_term_fin.dtypes)\n",
    "\n"
   ]
  },
  {
   "cell_type": "code",
   "execution_count": 35,
   "metadata": {},
   "outputs": [
    {
     "data": {
      "image/png": "[encoded data removed]",
      "text/plain": [
       "<matplotlib.figure.Figure at 0x113e50c18>"
      ]
     },
     "metadata": {},
     "output_type": "display_data"
    },
    {
     "name": "stdout",
     "output_type": "stream",
     "text": [
      "0    1951.0\n",
      "1    1948.0\n",
      "2    1951.0\n",
      "3    1964.0\n",
      "4    1957.0\n",
      "5    1948.0\n",
      "6    1955.0\n",
      "7    1955.0\n",
      "8    1953.0\n",
      "9    1949.0\n",
      "Name: 出生年份, dtype: float64\n",
      "0    6\n",
      "1    3\n",
      "2    6\n",
      "3    2\n",
      "4    2\n",
      "5    2\n",
      "6    4\n",
      "7    1\n",
      "8    4\n",
      "9    2\n",
      "Name: 任期, dtype: int64\n"
     ]
    }
   ],
   "source": [
    "# 绘制图表1：任期与出生年份关系\n",
    "fig_q3_1 = plt.figure(figsize=(8, 4))\n",
    "\n",
    "# 创建散点图，\n",
    "plt.scatter(data_term_fin['出生年份'], data_term_fin['任期'], color='r',alpha=0.2, s=20)\n",
    "# 参数1：横坐标\n",
    "# 参数2，纵坐标\n",
    "plt.title('ren qi he birthday relationship')\n",
    "plt.xlabel('birthday')\n",
    "plt.ylabel('renqi(year)')\n",
    "plt.grid(True)\n",
    "plt.show()\n",
    "\n",
    "print(data_term_fin['出生年份'].head(10))\n",
    "print(data_term_fin['任期'].head(10))\n",
    "\n"
   ]
  },
  {
   "cell_type": "code",
   "execution_count": 89,
   "metadata": {},
   "outputs": [
    {
     "data": {
      "image/png": "[encoded data removed]",
      "text/plain": [
       "<matplotlib.figure.Figure at 0x11c529d30>"
      ]
     },
     "metadata": {},
     "output_type": "display_data"
    }
   ],
   "source": [
    "# 绘制图表2：任期与出生年份关系 - 热图\n",
    "\n",
    "fig_q3_2 = plt.figure(figsize=(8,4))\n",
    "df = pd.crosstab(data_term_fin['任期'], data_term_fin['出生年份'])\n",
    "# print(\"\\n第①个===========\")\n",
    "# print(data_term_fin['任期'].head())\n",
    "\n",
    "# print(\"\\n第②个===========\")\n",
    "# print(data_term_fin['出生年份'].head())\n",
    "\n",
    "# print(\"\\n第③个===========\")\n",
    "# print(df.head())\n",
    "\n",
    "ax = fig_q3_2.add_subplot(111) #图的大小\n",
    "cax = ax.pcolor(df, cmap='Reds') #颜色，必须大小写，且加s\n",
    "#cax = ax.matshow(df, cmap='Reds_r')  # Reds_r 表示Reds颜色的反转\n",
    "fig_q3_2.colorbar(cax)\n",
    "plt.title('renqi and birthday relationship - hot pic\\n')\n",
    "ax.set_xticklabels(data_term_fin['出生年份'].tolist())\n",
    "plt.show()"
   ]
  },
  {
   "cell_type": "code",
   "execution_count": 93,
   "metadata": {},
   "outputs": [
    {
     "data": {
      "text/plain": [
       "<matplotlib.figure.Figure at 0x11398a198>"
      ]
     },
     "metadata": {},
     "output_type": "display_data"
    }
   ],
   "source": [
    "fig_test = plt.figure(figsize=(8, 4))\n",
    "plt.show()\n"
   ]
  },
  {
   "cell_type": "code",
   "execution_count": null,
   "metadata": {
    "collapsed": true
   },
   "outputs": [],
   "source": []
  },
  {
   "cell_type": "code",
   "execution_count": null,
   "metadata": {
    "collapsed": true
   },
   "outputs": [],
   "source": []
  },
  {
   "cell_type": "code",
   "execution_count": null,
   "metadata": {
    "collapsed": true
   },
   "outputs": [],
   "source": []
  },
  {
   "cell_type": "code",
   "execution_count": null,
   "metadata": {
    "collapsed": true
   },
   "outputs": [],
   "source": []
  }
 ],
 "metadata": {
  "kernelspec": {
   "display_name": "Python 3",
   "language": "python",
   "name": "python3"
  },
  "language_info": {
   "codemirror_mode": {
    "name": "ipython",
    "version": 3
   },
   "file_extension": ".py",
   "mimetype": "text/x-python",
   "name": "python",
   "nbconvert_exporter": "python",
   "pygments_lexer": "ipython3",
   "version": "3.6.3"
  }
 },
 "nbformat": 4,
 "nbformat_minor": 2
}
