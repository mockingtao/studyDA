{
 "cells": [
  {
   "cell_type": "code",
   "execution_count": 1,
   "metadata": {},
   "outputs": [
    {
     "data": {
      "text/plain": [
       "'\\n“假设20个人看完电影后上厕所，在只有一个厕所的情况下，排队的平均等待时间是多少？”\\n\\n（1）通过设定随机值，及构建模拟算法，求出排队的平均等待时间；\\n\\n（2）制作排队时间的折线图；\\n\\n（3）用Seaborn做数据可视化可加分哦！\\n\\n答题要求：将所有代码复制粘贴在答题框内，并把相关图表截图上传至附件\\n'"
      ]
     },
     "execution_count": 1,
     "metadata": {},
     "output_type": "execute_result"
    }
   ],
   "source": [
    "'''\n",
    "“假设20个人看完电影后上厕所，在只有一个厕所的情况下，排队的平均等待时间是多少？”\n",
    "\n",
    "（1）通过设定随机值，及构建模拟算法，求出排队的平均等待时间；\n",
    "\n",
    "（2）制作排队时间的折线图；\n",
    "\n",
    "（3）用Seaborn做数据可视化可加分哦！\n",
    "\n",
    "答题要求：将所有代码复制粘贴在答题框内，并把相关图表截图上传至附件\n",
    "'''"
   ]
  },
  {
   "cell_type": "code",
   "execution_count": 11,
   "metadata": {},
   "outputs": [
    {
     "name": "stdout",
     "output_type": "stream",
     "text": [
      "[ 0.01974185  0.1695569   0.45806957  0.51774668  0.62290547  0.94851203\n",
      "  2.86485578  3.48885881  3.91197243  4.51324847  4.7311309   5.01827023\n",
      "  5.21844688  5.75352944  6.2993846   6.54765197  6.85161837  8.12328258\n",
      "  8.42822531  8.9231314 ]\n",
      "第1个人：到达时间     开始时间     解决时间     完成时间     等待时间\n",
      " 0.169556896323 4.00346937378 6.73709998826 10.740569362 3.83391247745 \n",
      "\n",
      "第2个人：到达时间     开始时间     解决时间     完成时间     等待时间\n",
      " 0.458069571275 10.740569362 6.82773255912 17.5683019212 10.2824997908 \n",
      "\n",
      "第3个人：到达时间     开始时间     解决时间     完成时间     等待时间\n",
      " 0.517746682292 17.5683019212 4.05030937107 21.6186112922 17.0505552389 \n",
      "\n",
      "第4个人：到达时间     开始时间     解决时间     完成时间     等待时间\n",
      " 0.622905472146 21.6186112922 7.57835323519 29.1969645274 20.9957058201 \n",
      "\n",
      "第5个人：到达时间     开始时间     解决时间     完成时间     等待时间\n",
      " 0.948512028793 29.1969645274 0.333941568247 29.5309060957 28.2484524986 \n",
      "\n",
      "第6个人：到达时间     开始时间     解决时间     完成时间     等待时间\n",
      " 2.86485578112 29.5309060957 8.07789175891 37.6087978546 26.6660503146 \n",
      "\n",
      "第7个人：到达时间     开始时间     解决时间     完成时间     等待时间\n",
      " 3.48885880531 37.6087978546 8.9284672813 46.5372651359 34.1199390493 \n",
      "\n",
      "第8个人：到达时间     开始时间     解决时间     完成时间     等待时间\n",
      " 3.91197243205 46.5372651359 7.42826689739 53.9655320333 42.6252927038 \n",
      "\n",
      "第9个人：到达时间     开始时间     解决时间     完成时间     等待时间\n",
      " 4.51324846621 53.9655320333 1.43552664887 55.4010586822 49.4522835671 \n",
      "\n",
      "第10个人：到达时间     开始时间     解决时间     完成时间     等待时间\n",
      " 4.731130904 55.4010586822 4.7236910948 60.124749777 50.6699277782 \n",
      "\n",
      "第11个人：到达时间     开始时间     解决时间     完成时间     等待时间\n",
      " 5.01827023493 60.124749777 6.60524620855 66.7299959855 55.106479542 \n",
      "\n",
      "第12个人：到达时间     开始时间     解决时间     完成时间     等待时间\n",
      " 5.21844688381 66.7299959855 6.15988504441 72.8898810299 61.5115491017 \n",
      "\n",
      "第13个人：到达时间     开始时间     解决时间     完成时间     等待时间\n",
      " 5.75352944455 72.8898810299 2.49048931056 75.3803703405 67.1363515854 \n",
      "\n",
      "第14个人：到达时间     开始时间     解决时间     完成时间     等待时间\n",
      " 6.29938460256 75.3803703405 5.17952866572 80.5598990062 69.0809857379 \n",
      "\n",
      "第15个人：到达时间     开始时间     解决时间     完成时间     等待时间\n",
      " 6.54765197285 80.5598990062 6.75399324993 87.3138922561 74.0122470333 \n",
      "\n",
      "第16个人：到达时间     开始时间     解决时间     完成时间     等待时间\n",
      " 6.85161837341 87.3138922561 6.87637005846 94.1902623146 80.4622738827 \n",
      "\n",
      "第17个人：到达时间     开始时间     解决时间     完成时间     等待时间\n",
      " 8.12328258469 94.1902623146 6.00364992998 100.193912245 86.0669797299 \n",
      "\n",
      "第18个人：到达时间     开始时间     解决时间     完成时间     等待时间\n",
      " 8.42822530763 100.193912245 5.76331552607 105.957227771 91.7656869369 \n",
      "\n",
      "第19个人：到达时间     开始时间     解决时间     完成时间     等待时间\n",
      " 8.92313139987 105.957227771 5.50217777027 111.459405541 97.0340963708 \n",
      "\n",
      "排队的平均等待时间：48.410751 s\n"
     ]
    }
   ],
   "source": [
    "# 通过设定随机值，及构建模拟算法，求出排队的平均等待时间；\n",
    "\n",
    "import numpy as np\n",
    "import pandas as pf\n",
    "import matplotlib.pyplot as plt\n",
    "import seaborn as sns\n",
    "\n",
    "arrivingtime = np.random.uniform(0, 10, size=20)\n",
    "arrivingtime.sort()\n",
    "print(arrivingtime)\n",
    "wctime = np.random.uniform(0, 10, size=20)\n",
    "startingtime = [0 for i in range(20)]\n",
    "finishtime = [0 for i in range(20)]\n",
    "waitingtime = [0 for i in range(20)]\n",
    "emptytime = [0 for i in range(20)]\n",
    "\n",
    "#第一个人上厕所\n",
    "startingtime[0] = arrivingtime[0]\n",
    "finishtime[0] = startingtime[0] + wctime[0]\n",
    "waitingtime[0] = startingtimes[0] - arrivingtime[0]\n",
    "\n",
    "#后面的人上厕所\n",
    "for i in range(1, 20):\n",
    "    if finishtime[i-1] > arrivingtime[i]:\n",
    "        startingtime[i] = finishtime[i-1]\n",
    "    else:\n",
    "        startingtime[i] = arrivingtime[i]\n",
    "        emptytime[i] = arrivingtime[i] - finishtime[i-1]\n",
    "        \n",
    "    finishtime[i] = startingtime[i] + wctime[i]\n",
    "    waitingtime[i] = startingtime[i] - arrivingtime[i]\n",
    "    print('第%d个人：到达时间     开始时间     解决时间     完成时间     等待时间\\n' %i,\n",
    "         arrivingtime[i],\n",
    "         startingtime[i],\n",
    "         wctime[i],\n",
    "         finishtime[i],\n",
    "         waitingtime[i],\n",
    "         '\\n')\n",
    "    \n",
    "print('排队的平均等待时间：%f s' %np.mean(waitingtime))\n",
    "\n"
   ]
  },
  {
   "cell_type": "code",
   "execution_count": 17,
   "metadata": {},
   "outputs": [
    {
     "data": {
      "image/png": "[encoded data removed]",
      "text/plain": [
       "<matplotlib.figure.Figure at 0x1a134548d0>"
      ]
     },
     "metadata": {},
     "output_type": "display_data"
    }
   ],
   "source": [
    "# 制作排队时间的折线图,用Seaborn做数据可视化\n",
    "sns.set(style='darkgrid')\n",
    "fig = plt.figure(figsize=(6, 4))\n",
    "plt.plot(waitingtime)\n",
    "#plt.grid(True, linestyle='--', linewidth='0.8')\n",
    "plt.show()\n",
    "\n"
   ]
  }
 ],
 "metadata": {
  "kernelspec": {
   "display_name": "Python 3",
   "language": "python",
   "name": "python3"
  },
  "language_info": {
   "codemirror_mode": {
    "name": "ipython",
    "version": 3
   },
   "file_extension": ".py",
   "mimetype": "text/x-python",
   "name": "python",
   "nbconvert_exporter": "python",
   "pygments_lexer": "ipython3",
   "version": "3.6.3"
  }
 },
 "nbformat": 4,
 "nbformat_minor": 2
}
