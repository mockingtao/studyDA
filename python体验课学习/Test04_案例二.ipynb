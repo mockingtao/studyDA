{
 "cells": [
  {
   "cell_type": "code",
   "execution_count": 1,
   "metadata": {},
   "outputs": [
    {
     "data": {
      "text/plain": [
       "'\\n基于“蒙特卡罗思想”，求解排队等待时间问题\\n\\n场景：厕所排队问题\\n1、两场电影结束时间相隔较长，互不影响；\\n2、每场电影结束之后会有20个人想上厕所；\\n3、这20个人会在0到10分钟之内全部到达厕所）；\\n4、每个人上厕所时间在1-3分钟之间\\n首先模拟最简单的情况，也就是厕所只有一个位置，不考虑两人共用的情况则每人必须等上一人出恭完毕方可进行。\\n分析：对于每个人都有如下几个参数：\\n到达时间 / 等待时间 / 开始上厕所时间 / 结束时间\\n'"
      ]
     },
     "execution_count": 1,
     "metadata": {},
     "output_type": "execute_result"
    }
   ],
   "source": [
    "'''\n",
    "基于“蒙特卡罗思想”，求解排队等待时间问题\n",
    "\n",
    "场景：厕所排队问题\n",
    "1、两场电影结束时间相隔较长，互不影响；\n",
    "2、每场电影结束之后会有20个人想上厕所；\n",
    "3、这20个人会在0到10分钟之内全部到达厕所）；\n",
    "4、每个人上厕所时间在1-3分钟之间\n",
    "首先模拟最简单的情况，也就是厕所只有一个位置，不考虑两人共用的情况则每人必须等上一人出恭完毕方可进行。\n",
    "分析：对于每个人都有如下几个参数：\n",
    "到达时间 / 等待时间 / 开始上厕所时间 / 结束时间\n",
    "'''"
   ]
  },
  {
   "cell_type": "code",
   "execution_count": 2,
   "metadata": {},
   "outputs": [
    {
     "data": {
      "text/plain": [
       "'Part1 设置随机值'"
      ]
     },
     "execution_count": 2,
     "metadata": {},
     "output_type": "execute_result"
    }
   ],
   "source": [
    "'''Part1 设置随机值'''"
   ]
  },
  {
   "cell_type": "code",
   "execution_count": 38,
   "metadata": {
    "scrolled": false
   },
   "outputs": [
    {
     "data": {
      "image/png": "[encoded data removed]",
      "text/plain": [
       "<matplotlib.figure.Figure at 0x1a19c2d0b8>"
      ]
     },
     "metadata": {},
     "output_type": "display_data"
    },
    {
     "name": "stdout",
     "output_type": "stream",
     "text": [
      "arrivingtime\n",
      " [ 0.52944692  0.88730959  1.27638468  1.5557306   2.32851397  2.399692\n",
      "  2.97207505  3.31579312  3.3807906   3.64499092  4.34852854  4.6657688\n",
      "  5.23064081  5.91271656  6.25829533  6.63226961  6.71399583  7.17374173\n",
      "  7.94818935  8.05062116] \n",
      "\n",
      "workingtime\n",
      " [ 1.52343258  1.29280452  2.67369287 ...,  1.45313929  2.56046983\n",
      "  1.79305174] \n",
      "\n",
      "startingtime\n",
      " [0, 0, 0, 0, 0, 0, 0, 0, 0, 0, 0, 0, 0, 0, 0, 0, 0, 0, 0, 0] \n",
      "\n",
      "finishtime\n",
      " [0, 0, 0, 0, 0, 0, 0, 0, 0, 0, 0, 0, 0, 0, 0, 0, 0, 0, 0, 0] \n",
      "\n",
      "waitingtime\n",
      " [0, 0, 0, 0, 0, 0, 0, 0, 0, 0, 0, 0, 0, 0, 0, 0, 0, 0, 0, 0] \n",
      "\n",
      "emptytime\n",
      " [0, 0, 0, 0, 0, 0, 0, 0, 0, 0, 0, 0, 0, 0, 0, 0, 0, 0, 0, 0] \n",
      "\n"
     ]
    }
   ],
   "source": [
    "import numpy as np\n",
    "import pandas as pd\n",
    "import matplotlib.pyplot as plt\n",
    "import seaborn as sns\n",
    "\n",
    "# sns.set(style='ticks', context='notebook')\n",
    "arrivingtime = np.random.uniform(0, 10, size=20)\n",
    "# plt.plot(arrivingtime)\n",
    "# plt.show()\n",
    "\n",
    "\n",
    "arrivingtime.sort()\n",
    "#sns.set(style='ticks', context='notebook')\n",
    "workingtime = np.random.uniform(1, 3, size=2000)\n",
    "# plt.plot(workingtime)\n",
    "# plt.show()\n",
    "# workingtime2 = np.random.uniform(1, 3, size=2000)\n",
    "# a = np.random.randn(500)\n",
    "# b = np.random.randn(500)\n",
    "# plt.plot(workingtime, workingtime2, 'ro')\n",
    "# plt.show()\n",
    "\n",
    "startingtime = [0 for i in range(20)]\n",
    "finishtime = [0 for i in range(20)]\n",
    "waitingtime = [0 for i in range(20)]\n",
    "emptytime = [0 for i in range(20)]\n",
    "\n",
    "print('arrivingtime\\n', arrivingtime, '\\n')\n",
    "print('workingtime\\n', workingtime, '\\n')\n",
    "print('startingtime\\n', startingtime,'\\n')\n",
    "print('finishtime\\n', finishtime,'\\n')\n",
    "print('waitingtime\\n', waitingtime, '\\n')\n",
    "print('emptytime\\n', emptytime, '\\n')"
   ]
  },
  {
   "cell_type": "code",
   "execution_count": 8,
   "metadata": {},
   "outputs": [
    {
     "data": {
      "text/plain": [
       "'\\nPart2  第一人上厕所时间\\n'"
      ]
     },
     "execution_count": 8,
     "metadata": {},
     "output_type": "execute_result"
    }
   ],
   "source": [
    "'''\n",
    "Part2  第一人上厕所时间\n",
    "'''"
   ]
  },
  {
   "cell_type": "code",
   "execution_count": 14,
   "metadata": {},
   "outputs": [],
   "source": [
    "startingtime[0] = arrivingtime[0]\n",
    "\n",
    "finishtime[0] = startingtime[0] + workingtime[0]\n",
    "\n",
    "waitingtime[0] = startingtime[0] - arrivingtime[0]\n",
    "\n"
   ]
  },
  {
   "cell_type": "code",
   "execution_count": 12,
   "metadata": {},
   "outputs": [
    {
     "data": {
      "text/plain": [
       "'\\nPart3  第二人之后\\n'"
      ]
     },
     "execution_count": 12,
     "metadata": {},
     "output_type": "execute_result"
    }
   ],
   "source": [
    "'''\n",
    "Part3  第二人之后\n",
    "'''"
   ]
  },
  {
   "cell_type": "code",
   "execution_count": 24,
   "metadata": {},
   "outputs": [
    {
     "name": "stdout",
     "output_type": "stream",
     "text": [
      "第1个人：到达时间        开始时间      解决时间       完成时间     等待时间\n",
      " 0.346170299293 1.37043415565 1.30105802346 2.67149217911 1.02426385636 \n",
      "\n",
      "第2个人：到达时间        开始时间      解决时间       完成时间     等待时间\n",
      " 1.1077017548 2.67149217911 2.27758485683 4.94907703594 1.56379042431 \n",
      "\n",
      "第3个人：到达时间        开始时间      解决时间       完成时间     等待时间\n",
      " 1.19566946367 4.94907703594 2.85339532783 7.80247236377 3.75340757227 \n",
      "\n",
      "第4个人：到达时间        开始时间      解决时间       完成时间     等待时间\n",
      " 1.38003434628 7.80247236377 2.00891723625 9.81138960003 6.42243801749 \n",
      "\n",
      "第5个人：到达时间        开始时间      解决时间       完成时间     等待时间\n",
      " 1.41758743898 9.81138960003 2.70717874538 12.5185683454 8.39380216105 \n",
      "\n",
      "第6个人：到达时间        开始时间      解决时间       完成时间     等待时间\n",
      " 2.60479312059 12.5185683454 2.22329411367 14.7418624591 9.91377522482 \n",
      "\n",
      "第7个人：到达时间        开始时间      解决时间       完成时间     等待时间\n",
      " 3.00894546132 14.7418624591 1.98776356688 16.729626026 11.7329169978 \n",
      "\n",
      "第8个人：到达时间        开始时间      解决时间       完成时间     等待时间\n",
      " 3.04773573216 16.729626026 1.35032684267 18.0799528686 13.6818902938 \n",
      "\n",
      "第9个人：到达时间        开始时间      解决时间       完成时间     等待时间\n",
      " 4.84527821095 18.0799528686 2.0671735907 20.1471264593 13.2346746577 \n",
      "\n",
      "第10个人：到达时间        开始时间      解决时间       完成时间     等待时间\n",
      " 5.60663335538 20.1471264593 2.96173184758 23.1088583069 14.5404931039 \n",
      "\n",
      "第11个人：到达时间        开始时间      解决时间       完成时间     等待时间\n",
      " 6.87446141908 23.1088583069 2.01991641532 25.1287747222 16.2343968878 \n",
      "\n",
      "第12个人：到达时间        开始时间      解决时间       完成时间     等待时间\n",
      " 6.93079017479 25.1287747222 2.8459783249 27.9747530471 18.1979845474 \n",
      "\n",
      "第13个人：到达时间        开始时间      解决时间       完成时间     等待时间\n",
      " 6.93372065001 27.9747530471 2.33616978953 30.3109228366 21.0410323971 \n",
      "\n",
      "第14个人：到达时间        开始时间      解决时间       完成时间     等待时间\n",
      " 7.22271177288 30.3109228366 2.36190460488 32.6728274415 23.0882110638 \n",
      "\n",
      "第15个人：到达时间        开始时间      解决时间       完成时间     等待时间\n",
      " 7.42105802024 32.6728274415 1.87347203619 34.5462994777 25.2517694213 \n",
      "\n",
      "第16个人：到达时间        开始时间      解决时间       完成时间     等待时间\n",
      " 7.47776057046 34.5462994777 1.9460286912 36.4923281689 27.0685389073 \n",
      "\n",
      "第17个人：到达时间        开始时间      解决时间       完成时间     等待时间\n",
      " 8.955994616 36.4923281689 1.14233420364 37.6346623726 27.5363335529 \n",
      "\n",
      "第18个人：到达时间        开始时间      解决时间       完成时间     等待时间\n",
      " 8.96631047209 37.6346623726 1.42885794241 39.063520315 28.6683519005 \n",
      "\n",
      "第19个人：到达时间        开始时间      解决时间       完成时间     等待时间\n",
      " 9.24488550775 39.063520315 2.47196070735 41.5354810223 29.8186348072 \n",
      "\n",
      "average waiting time is 15.058335\n"
     ]
    },
    {
     "data": {
      "image/png": "[encoded data removed]",
      "text/plain": [
       "<matplotlib.figure.Figure at 0x1a199c2390>"
      ]
     },
     "metadata": {},
     "output_type": "display_data"
    }
   ],
   "source": [
    "for i in range(1, len(arrivingtime)):\n",
    "    if finishtime[i-1] > arrivingtime[i]:\n",
    "        startingtime[i] = finishtime[i-1]\n",
    "    else:\n",
    "        startingtime[i] = arrivingtime[i]\n",
    "        emptytime[i] = arrivingtime[i] - finishtime[i-1]\n",
    "        \n",
    "    finishtime[i] = startingtime[i] + workingtime[i]\n",
    "    waitingtime[i] = startingtime[i] - arrivingtime[i]\n",
    "    print('第%d个人：到达时间        开始时间      解决时间       完成时间     等待时间\\n' %i, \n",
    "          arrivingtime[i], \n",
    "          startingtime[i], \n",
    "          workingtime[i],\n",
    "         finishtime[i],\n",
    "         waitingtime[i],\n",
    "         '\\n')\n",
    "print('average waiting time is %f' %np.mean(waitingtime))\n",
    "    \n",
    "sns.set(style='whitegrid')\n",
    "fig = plt.figure(figsize=(5, 3))\n",
    "plt.plot(waitingtime)\n",
    "plt.grid(True, linestyle='--', linewidth='0.8')\n",
    "plt.show()"
   ]
  }
 ],
 "metadata": {
  "kernelspec": {
   "display_name": "Python 3",
   "language": "python",
   "name": "python3"
  },
  "language_info": {
   "codemirror_mode": {
    "name": "ipython",
    "version": 3
   },
   "file_extension": ".py",
   "mimetype": "text/x-python",
   "name": "python",
   "nbconvert_exporter": "python",
   "pygments_lexer": "ipython3",
   "version": "3.6.3"
  }
 },
 "nbformat": 4,
 "nbformat_minor": 2
}
