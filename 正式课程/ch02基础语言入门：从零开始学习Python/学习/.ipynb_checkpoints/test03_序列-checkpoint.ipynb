{
 "cells": [
  {
   "cell_type": "code",
   "execution_count": 1,
   "metadata": {},
   "outputs": [
    {
     "data": {
      "text/plain": [
       "'\\n【课程3.2】  序列通用操作\\n\\n序列分类：可变序列list，不可变序列tuple、str\\n\\n'"
      ]
     },
     "execution_count": 1,
     "metadata": {},
     "output_type": "execute_result"
    }
   ],
   "source": [
    "'''\n",
    "【课程3.2】  序列通用操作\n",
    "\n",
    "序列分类：可变序列list，不可变序列tuple、str\n",
    "\n",
    "'''"
   ]
  },
  {
   "cell_type": "code",
   "execution_count": 4,
   "metadata": {},
   "outputs": [
    {
     "name": "stdout",
     "output_type": "stream",
     "text": [
      "[3, 4, 5]\n"
     ]
    }
   ],
   "source": [
    "# 切片\n",
    "lst = [1,2,3,4,5,6]\n",
    "\n",
    "print(lst[2:5]) #切片可以理解成列表的值区间，且是一个左闭右开区间，这里lst[2:5]代表的区间是：索引2的值 - 索引4的值"
   ]
  },
  {
   "cell_type": "code",
   "execution_count": 6,
   "metadata": {},
   "outputs": [
    {
     "name": "stdout",
     "output_type": "stream",
     "text": [
      "[1, 3, 5]\n",
      "[1, 3, 5, 7, 9]\n",
      "[2, 4, 6, 8, 0]\n"
     ]
    }
   ],
   "source": [
    "# 步长\n",
    "lst = [1,2,3,4,5,6,7,8,9,0]\n",
    "print(lst[0:5:2])  # List[i:j:n]代表：索引i - 索引j，以n为步长\n",
    "print(lst[::2])  # 按照2为步长，从第一个值开始截取lst数据\n",
    "print(lst[1::2])  # 按照2为步长，从第二个值开始截取lst数据\n",
    "\n",
    "# 提一点：方法和函数\n",
    "# aaa() ---方法\n",
    "# aaa.bbb() --- bbb为函数"
   ]
  },
  {
   "cell_type": "code",
   "execution_count": 7,
   "metadata": {},
   "outputs": [
    {
     "data": {
      "text/plain": [
       "'\\n小作业\\n\\n① x=[1,2,3,1,[1],[1,1]]，请问x.count(1)为多少？\\n\\n② x=[1,2,5,1,“1”，“1”]，请问x.count(1)为多少？\\n\\n③ y=[45,67,89,45,34,22,1],请问y.index(45)等于多少？\\n\\n④ 创建一个列表，用type函数判断list[1]和list[2:5]的区别\\n'"
      ]
     },
     "execution_count": 7,
     "metadata": {},
     "output_type": "execute_result"
    }
   ],
   "source": [
    "# 小作业\n",
    "'''\n",
    "小作业\n",
    "\n",
    "① x=[1,2,3,1,[1],[1,1]]，请问x.count(1)为多少？\n",
    "\n",
    "② x=[1,2,5,1,“1”，“1”]，请问x.count(1)为多少？\n",
    "\n",
    "③ y=[45,67,89,45,34,22,1],请问y.index(45)等于多少？\n",
    "\n",
    "④ 创建一个列表，用type函数判断list[1]和list[2:5]的区别\n",
    "'''\n",
    "\n"
   ]
  },
  {
   "cell_type": "code",
   "execution_count": 21,
   "metadata": {},
   "outputs": [
    {
     "name": "stdout",
     "output_type": "stream",
     "text": [
      "False\n"
     ]
    }
   ],
   "source": [
    "# x=[1,2,3,1,[1],[1,1]]\n",
    "# print(x.count(1))\n",
    "\n",
    "# x=[1,2,5,1,\"1\",\"1\"]\n",
    "# print(x.count(1))\n",
    "\n",
    "# y=[45,67,89,45,34,22,1]\n",
    "# print(y.index(45))\n",
    "\n",
    "lst = [1,2,3,4,5,6,7,8,9,0]\n",
    "print(type(lst[1]) == type(lst[2:5]))\n"
   ]
  },
  {
   "cell_type": "code",
   "execution_count": null,
   "metadata": {
    "collapsed": true
   },
   "outputs": [],
   "source": [
    "'''\n",
    "【课程3.3】  列表list常用操作\n",
    "\n",
    "序列是Python中最基本的数据结构，它支持字符，数字，字符串甚至可以包含列表（即嵌套）\n",
    "列表用 [ ] 标识，是 python 最通用的复合数据类型。\n",
    "列表中值的切片也可以用到变量 [头下标:尾下标] ，就可以截取相应的列表，从左到右索引默认 0 开始，从右到左索引默认 -1 开始，下标可以为空表示取到头或尾。\n",
    "加号 + 是列表连接运算符，星号 * 是重复操作\n",
    "'''"
   ]
  },
  {
   "cell_type": "code",
   "execution_count": 23,
   "metadata": {},
   "outputs": [
    {
     "data": {
      "text/plain": [
       "\"\\n小作业\\n\\n① [1,2,3]和[“1”, “2”, “3”]什么区别\\n\\n② 创建一个列表，包括3个人的数学成绩100，89,78\\n\\n③ 创建一个列表，包括5个中国城市名称\\n\\n④ 现有一个列表name = ['小明', '小红'] ,增加“团支书”的名字上去\\n\\n⑤ 现有一个列表m=[3.1,5.5,4,3,77,8]，用print分别输出第2、4个元素\""
      ]
     },
     "execution_count": 23,
     "metadata": {},
     "output_type": "execute_result"
    }
   ],
   "source": [
    "# 小作业\n",
    "\n",
    "'''\n",
    "小作业\n",
    "\n",
    "① [1,2,3]和[“1”, “2”, “3”]什么区别\n",
    "\n",
    "② 创建一个列表，包括3个人的数学成绩100，89,78\n",
    "\n",
    "③ 创建一个列表，包括5个中国城市名称\n",
    "\n",
    "④ 现有一个列表name = ['小明', '小红'] ,增加“团支书”的名字上去\n",
    "\n",
    "⑤ 现有一个列表m=[3.1,5.5,4,3,77,8]，用print分别输出第2、4个元素'''\n",
    "\n"
   ]
  },
  {
   "cell_type": "code",
   "execution_count": 27,
   "metadata": {},
   "outputs": [
    {
     "name": "stdout",
     "output_type": "stream",
     "text": [
      "答案一：都是list，但是里面的元素类型不同，第一个列表里面元素是int型，第二个列表里面元素是字符串\n",
      "答案二：\n",
      "[100, 89, 78]\n",
      "答案三：\n",
      "['杭州', '固原', '上海', '北京', '广州']\n",
      "答案四：\n",
      "['小明', '小红', '团支书']\n",
      "答案五：\n",
      "5.5\n",
      "3\n"
     ]
    }
   ],
   "source": [
    "print('答案一：都是list，但是里面的元素类型不同，第一个列表里面元素是int型，第二个列表里面元素是字符串')\n",
    "lst1 = [100, 89, 78]\n",
    "print('答案二：')\n",
    "print(lst1)\n",
    "lst2 = ['杭州','固原','上海','北京','广州']\n",
    "print('答案三：')\n",
    "print(lst2)\n",
    "name = ['小明', '小红']\n",
    "name.append('团支书')\n",
    "print('答案四：')\n",
    "print(name)\n",
    "m=[3.1,5.5,4,3,77,8]\n",
    "print('答案五：')\n",
    "print(m[1])\n",
    "print(m[3])"
   ]
  },
  {
   "cell_type": "code",
   "execution_count": 28,
   "metadata": {
    "collapsed": true
   },
   "outputs": [],
   "source": [
    "# 列表生成器\n",
    "\n",
    "# range()是生成器，指向了一个范围\n",
    "# range(5)代表指向了0,1,2,3,4这几个值\n",
    "# range(2,5)代表指向了2,3,4这几个值，注意这里不是使用:\n",
    "# range(0,10,2)代表指向了0,2,4,6,8这几个值，最后的2代表步长\n",
    "\n"
   ]
  },
  {
   "cell_type": "code",
   "execution_count": 29,
   "metadata": {},
   "outputs": [
    {
     "data": {
      "text/plain": [
       "'小作业\\n\\n① range()生成的是不是都是整数?\\n\\n② 创建一个range，用type()函数查看其类型\\n\\n③ 哪种方式书写正确：x=range(5), x=range(4:7), x=range(4,8)\\n\\n④ 创建一个range，用print输出其值，看一下输出结果\\n\\n⑤ 用list()函数，将一个range范围变为列表\\n\\n⑥ m=range(10),请问m[2],m[-1],m[5]是多少'"
      ]
     },
     "execution_count": 29,
     "metadata": {},
     "output_type": "execute_result"
    }
   ],
   "source": [
    "'''小作业\n",
    "\n",
    "① range()生成的是不是都是整数?\n",
    "\n",
    "② 创建一个range，用type()函数查看其类型\n",
    "\n",
    "③ 哪种方式书写正确：x=range(5), x=range(4:7), x=range(4,8)\n",
    "\n",
    "④ 创建一个range，用print输出其值，看一下输出结果\n",
    "\n",
    "⑤ 用list()函数，将一个range范围变为列表\n",
    "\n",
    "⑥ m=range(10),请问m[2],m[-1],m[5]是多少'''"
   ]
  },
  {
   "cell_type": "code",
   "execution_count": 36,
   "metadata": {},
   "outputs": [
    {
     "name": "stdout",
     "output_type": "stream",
     "text": [
      "答案一：\n",
      "是的\n",
      "答案二：\n",
      "<class 'range'>\n",
      "答案三：\n",
      "range(0, 5)\n",
      "range(4, 8)\n",
      "答案四：\n",
      "range(1, 10, 2)\n",
      "答案五：\n",
      "[1, 3, 5, 7, 9]\n",
      "答案六：\n",
      "[0, 1, 2, 3, 4, 5, 6, 7, 8, 9]\n",
      "2\n",
      "9\n",
      "5\n"
     ]
    }
   ],
   "source": [
    "print('答案一：')\n",
    "print(\"是的\")\n",
    "a = range(10)\n",
    "print('答案二：')\n",
    "print(type(a))\n",
    "print('答案三：')\n",
    "x=range(5)\n",
    "print(x)\n",
    "x2=range(4,8)\n",
    "print(x2)\n",
    "print('答案四：')\n",
    "x3 = range(1,10,2)\n",
    "print(x3)\n",
    "print('答案五：')\n",
    "print(list(x3))\n",
    "print('答案六：')\n",
    "m=range(10)\n",
    "print(list(m))\n",
    "print(m[2])\n",
    "print(m[-1])\n",
    "print(m[5])"
   ]
  },
  {
   "cell_type": "code",
   "execution_count": 40,
   "metadata": {},
   "outputs": [
    {
     "name": "stdout",
     "output_type": "stream",
     "text": [
      "[0, 1, 2, 3, 4, 5, 6, 7, 8, 9, 1, 2, 3]\n",
      "[0, 1, 2, 3, 4, 5, 6, 7, 8, 9]\n",
      "[0, 1, 2, 3, 4, 5, 6, 7, 8, 9, 'a']\n",
      "[1, 2, 3, [3, 4, 5]]\n",
      "[1, 2, 3, 3, 4, 5]\n"
     ]
    }
   ],
   "source": [
    "# 可变列表list常用操作 - 添加元素\n",
    "lst = list(range(10))\n",
    "print(lst + [1,2,3]) # “+”号是对原来的lst 后面加元素，但是不会改变原来的lst\n",
    "print(lst)\n",
    "lst.append('a') # 这里就要区分 “+” 和 append的区别，append是对原来的lst加元素，并且修改的是原来的lst\n",
    "print(lst)\n",
    "\n",
    "a = [1,2,3]\n",
    "b = [3,4,5]\n",
    "a.append(b)\n",
    "print(a) #append将b里的元素统一做为一个元素，加入到a中\n",
    "\n",
    "c = [1,2,3]\n",
    "d = [3,4,5]\n",
    "c.extend(d)\n",
    "print(c) # extend将b里的元素分别加入到a中\n",
    "\n"
   ]
  },
  {
   "cell_type": "code",
   "execution_count": 51,
   "metadata": {},
   "outputs": [
    {
     "name": "stdout",
     "output_type": "stream",
     "text": [
      "['Jack', 'Jack', 'Tom', 'Tracy', 'Alex', 'White']\n",
      "['Jack', 'Tom', 'Tracy', 'Alex', 'White']\n",
      "['Jack', 'Tracy', 'Alex', 'White']\n",
      "['Jack', 'Tracy', 'White']\n",
      "[]\n"
     ]
    }
   ],
   "source": [
    "# 可变列表list常用操作 - 删除元素\n",
    "\n",
    "lst = ['Jack','Jack','Tom','Tracy','Alex','White']\n",
    "print(lst)\n",
    "\n",
    "lst.remove('Jack')\n",
    "print(lst)\n",
    "\n",
    "del lst[1]\n",
    "print(lst)\n",
    "\n",
    "del lst[2:3]\n",
    "print(lst)\n",
    "\n",
    "lst.clear()\n",
    "print(lst)"
   ]
  },
  {
   "cell_type": "code",
   "execution_count": 55,
   "metadata": {},
   "outputs": [
    {
     "name": "stdout",
     "output_type": "stream",
     "text": [
      "[0, 1, 2, 3, 4, 5, 6, 7, 8, 9]\n",
      "[0, 1, 2, 'a', 3, 4, 5, 6, 7, 8, 9]\n"
     ]
    }
   ],
   "source": [
    "# 可变列表list常用操作 - 插入元素\n",
    "\n",
    "lst = list(range(10))\n",
    "print(lst)\n",
    "lst.insert(3, 'a')\n",
    "print(lst)\n",
    "\n",
    "# x.insert(i,m)方法：在索引i处插入m，这里索引3代表第四个值\n",
    "\n",
    "\n"
   ]
  },
  {
   "cell_type": "code",
   "execution_count": 62,
   "metadata": {},
   "outputs": [
    {
     "name": "stdout",
     "output_type": "stream",
     "text": [
      "[0, 1, 2, 3, 4, 5, 6, 7, 8, 9]\n",
      "[0, 1, 2, 3, 4, 5, 6, 7, 8, 9]\n",
      "[0, 1, 101, 3, 4, 5, 6, 7, 8, 9]\n",
      "[0, 1, 101, 3, 4, 5, 6, 7, 8, 9]\n",
      "\n",
      "=======================\n",
      "[0, 1, 2, 3, 4, 5, 6, 7, 8, 9]\n",
      "[0, 1, 2, 3, 4, 5, 6, 7, 8, 9]\n",
      "[0, 1, 101, 3, 4, 5, 6, 7, 8, 9]\n",
      "[0, 1, 2, 3, 4, 5, 6, 7, 8, 9]\n"
     ]
    }
   ],
   "source": [
    "# 可变列表list常用操作 - 复制\n",
    "\n",
    "\n",
    "x = list(range(10))\n",
    "m = x\n",
    "print(x)\n",
    "print(m)\n",
    "x[2] = 101\n",
    "print(x)\n",
    "print(m)\n",
    "print(\"\\n=======================\")\n",
    "# 以上并不是复制，而是修改了索引，让x,m拥有了相同的索引，所以修改x[2]的值，相当有修改2索引的对应的值，所以m[2]也会相应修改\n",
    "\n",
    "#如果只是复制，这个时候可以用copy\n",
    "x2 = list(range(10))\n",
    "m2 = x2.copy() ## list.copy()方法：复制一个新的列表，lst，lst2指向两个列表（虽然两个列表值相同）\n",
    "print(x2)\n",
    "print(m2)\n",
    "x2[2] = 101\n",
    "print(x2)\n",
    "print(m2)\n",
    "\n"
   ]
  },
  {
   "cell_type": "code",
   "execution_count": 78,
   "metadata": {},
   "outputs": [
    {
     "name": "stdout",
     "output_type": "stream",
     "text": [
      "[1, 3, 4, 5, 66, 222] ['asd', 'fyy', 'zll']\n",
      "[1, 3, 4, 5, 66, 222]\n",
      "[1, 6, 3, 4, 66, 5]\n",
      "[1, 3, 4, 5, 66, 222]\n"
     ]
    }
   ],
   "source": [
    "# 可变列表list常用操作 - 排序\n",
    "\n",
    "lst1 = [1, 222, 3, 4 ,66,5]\n",
    "lst2 = ['asd', 'zll','fyy']\n",
    "lst1.sort()\n",
    "lst2.sort()\n",
    "print(lst1, lst2)\n",
    "\n",
    "lst1 = [1, 222, 3, 4 ,66,5]\n",
    "lst3 = sorted(lst1)  #可见，sorted()函数：排序并复制\n",
    "print(lst3)\n",
    "lst1[1] = 6\n",
    "print(lst1)\n",
    "print(lst3)"
   ]
  },
  {
   "cell_type": "code",
   "execution_count": 72,
   "metadata": {},
   "outputs": [
    {
     "name": "stdout",
     "output_type": "stream",
     "text": [
      "1997 ('a', 'b')\n",
      "('a', 'b', 'c', 'd')\n",
      "(0, 1, 2, 3, 4, 5, 6, 7, 8, 9)\n"
     ]
    }
   ],
   "source": [
    "# 讲一讲元祖tuple ：不可变的“列表”\n",
    "\n",
    "tup1 = ('physics', 'chemistry', 1997, 2000);\n",
    "tup2 = (1, 2, 3, 4, 5 );\n",
    "tup3 = \"a\", \"b\", \"c\", \"d\"  # 可以不加括号\n",
    "tup4 = (50,)  # 元组中只包含一个元素时，需要在元素后面添加逗号\n",
    "\n",
    "print(tup1[2],tup3[:2])  # 索引、切片和list一样\n",
    "print(tup3)\n",
    "\n",
    "del tup3 # 元祖不能单独删除内部元素（不可变性），但可以del语句来删除整个元祖\n",
    "#print(tup3)\n",
    "\n",
    "\n",
    "lst = list(range(10))\n",
    "tup5 = tuple(lst)\n",
    "print(tup5)\n",
    "# tuple()函数：将列表转换为元组\n",
    "\n"
   ]
  },
  {
   "cell_type": "code",
   "execution_count": 112,
   "metadata": {},
   "outputs": [
    {
     "name": "stdout",
     "output_type": "stream",
     "text": [
      "[32, 63, 12, 45, 89, 77]\n",
      "[32, 45, 12, 45, 89, 77]\n",
      "[32, 45, 63, 12, 89, 77]\n",
      "\n",
      "题8：\n",
      "[4, 5, 6, 73, 4, 4, 4, 4]\n",
      "[5, 6, 73]\n",
      "[5, 6, 73]\n",
      "[5, 6, 73, 4, 4]\n",
      "[4, 5, 6, 73]\n"
     ]
    }
   ],
   "source": [
    "\n",
    "# 小作业\n",
    "\n",
    "# ① 分别用append、extend方法，给一个序列增加一个元素1\n",
    "\n",
    "# ② x.append([1,2,3])和x.extend([1,2,3])的区别\n",
    "\n",
    "# ③ x.append('abc')和x.extend('abc')的区别\n",
    "\n",
    "# ④ 创建某一列表，在列表中间插入一个值\n",
    "\n",
    "# ⑤ 创建一个随机数值列表，按照降序排列\n",
    "\n",
    "# ⑥ sort()和sorted()什么区别\n",
    "# sort()没有参数，sorted()可以传参数\n",
    "\n",
    "# ⑦ s=[32,45,63,12,45,89,77], s.remove(45), del s[2], s.pop(4)分别什么区别\n",
    "s=[32,45,63,12,45,89,77]\n",
    "s.remove(45) #删除列表中，第一个符合条件的值->45\n",
    "print(s)\n",
    "\n",
    "s=[32,45,63,12,45,89,77]\n",
    "del s[2] #删除列表中索引为2的值->63\n",
    "print(s)\n",
    "\n",
    "s=[32,45,63,12,45,89,77]\n",
    "s.pop(4)\n",
    "print(s) #将索引为4的值，从列表中拿走\n",
    "\n",
    "\n",
    "# ⑧ m=[4,5,6,73,4,4,4,4,2]，删除2，删除所有的4\n",
    "print('\\n题8：')\n",
    "m=[4,5,6,73,4,4,4,4,2]\n",
    "del m[-1]\n",
    "print(m)\n",
    "\n",
    "#删除所有的4\n",
    "#方法一：\n",
    "while 4 in m:\n",
    "    m.remove(4)\n",
    "print(m)\n",
    "\n",
    "#方法二：\n",
    "m=[4,5,6,73,4,4,4,4]\n",
    "m = [x for x in m if x!=4]\n",
    "print(m)\n",
    "\n",
    "# 方法三： 这个方法不行，因为x in m刚开始就确定了初始的位置和值，但是在remove过程中，m的索引是会发生变化的。\n",
    "m=[4,5,6,73,4,4,4,4]\n",
    "for x in m:\n",
    "    if x == 4:\n",
    "        m.remove(x)\n",
    "        #print(m)\n",
    "print(m)\n",
    "\n",
    "#总结：方法一和 方法二很有用，牢记。\n",
    "\n",
    "# 另外，再额外加一个去重的方法，建议面试使用！！！！！！！！！！！！！！！！！\n",
    "m=[4,5,6,73,4,4,4,4]\n",
    "def dedup_list(li):\n",
    "    \"\"\"定义一个列表去重的函数\"\"\"\n",
    "    # 定义一个空列表用于接受不重复的列表元素\n",
    "    dedup_li = list()\n",
    "    \n",
    "    #定义一个相关变量\n",
    "    index = 0\n",
    "    \n",
    "    # 如下，以4为例，如果temp=第二个4的时候，但是li.index(4)返回的却是第一个索引，这个时候li.index(4)=0,但是index=4 （因为每次都index+=1）\n",
    "    # 此时li.index(4) 和index的值不相等，则不会把第二个4 append到dedup_li的列表中，所以就避免的重复的值，最后返回的是dedup_li，已经经过查重的数据\n",
    "    for temp in li:\n",
    "        if li.index(temp) == index:\n",
    "            dedup_li.append(temp)\n",
    "        index += 1\n",
    "    return dedup_li\n",
    "\n",
    "print(dedup_list(m))\n",
    "    \n",
    "\n",
    "\n"
   ]
  },
  {
   "cell_type": "code",
   "execution_count": null,
   "metadata": {
    "collapsed": true
   },
   "outputs": [],
   "source": [
    "'''\n",
    "【课程3.4】  文本序列str常用操作\n",
    "\n",
    "字符串是 Python 中最常用的数据类型。我们可以使用引号('或\")来创建字符串\n",
    "字符串也是序列：文本序列\n",
    "\n",
    "'''"
   ]
  },
  {
   "cell_type": "code",
   "execution_count": 123,
   "metadata": {},
   "outputs": [
    {
     "name": "stdout",
     "output_type": "stream",
     "text": [
      "c:/use/hid/desktop\n",
      "c:\\use\\hid\\desktop\n",
      "c:\\use\\hid\\desktop\n"
     ]
    }
   ],
   "source": [
    "# 转义字符\n",
    "\n",
    "print(\"c:/use/hid/desktop\")\n",
    "print(\"c:\\\\use\\\\hid\\\\desktop\")\n",
    "print(r\"c:\\use\\hid\\desktop\")\n",
    "# 这三种等价\n",
    "\n"
   ]
  },
  {
   "cell_type": "code",
   "execution_count": 124,
   "metadata": {},
   "outputs": [
    {
     "name": "stdout",
     "output_type": "stream",
     "text": [
      "i`m handsome!\n",
      "i`m ugly!\n",
      "heheha\n",
      "['poi01', '116.446238', '39.940166']\n",
      "poi01-116.446238-39.940166\n",
      "True False\n",
      "ABDEAJC KLM\n",
      "abdeajc klm\n",
      "AbdeaJC Klm\n",
      "Abdeajc klm\n",
      "True\n",
      "True\n",
      "avd\n"
     ]
    }
   ],
   "source": [
    "st = \"i`m handsome!\"\n",
    "st2 = st.replace('handsome','ugly')\n",
    "print(st)\n",
    "print(st2)\n",
    "st = 'hahaha'\n",
    "st2 = st.replace('ha','he',2)\n",
    "print(st2)\n",
    "# str.replace(old,new,count)：修改字符串，count：更换几个\n",
    "\n",
    "st = \"poi01,116.446238,39.940166\"\n",
    "lst = st.split(',')\n",
    "print(lst)\n",
    "# str.split(obj)：拆分字符串，生成列表\n",
    "\n",
    "lst = ['poi01', '116.446238', '39.940166']\n",
    "m = '-'\n",
    "st = m.join(lst)\n",
    "print(st)\n",
    "# str.join()：连接字符串，对象为序列\n",
    "\n",
    "st = 'abcdefg'\n",
    "print(st.startswith('a'), st.endswith('f'))\n",
    "# str.startswith(“str”)  判断是否以“str”开头；str.endswith (“str”)  判断是否以“str”结尾\n",
    "\n",
    "st = 'aBDEAjc kLM'\n",
    "print(st.upper())  # 全部大写\n",
    "print(st.lower())  # 全部小写\n",
    "print(st.swapcase())  # 大小写互换\n",
    "print(st.capitalize())  # 首字母大写\n",
    "\n",
    "\n",
    "st = '1234567'\n",
    "print(st.isnumeric())  # 如果 string 只包含数字则返回 True,否则返回 False.\n",
    "\n",
    "st = 'DNVAK'\n",
    "print(st.isalpha())  # 如果 string 至少有一个字符并且所有字符都是字母则返回 True,否则返回 False\n",
    "\n",
    "st = 'avd   '\n",
    "print(st.rstrip())  # 删除字符末尾的空格\n",
    "\n",
    "\n",
    "\n",
    "\n"
   ]
  },
  {
   "cell_type": "code",
   "execution_count": 126,
   "metadata": {},
   "outputs": [
    {
     "name": "stdout",
     "output_type": "stream",
     "text": [
      "FATBIRD is 好人\n",
      "this is 4\n",
      "this is hehe\n",
      "this is 4.200000\n"
     ]
    }
   ],
   "source": [
    "# 格式化字符：在字符串中插入变量\n",
    "\n",
    "name = \"FATBIRD\"\n",
    "truth = \"%s is 好人\" %name\n",
    "print(truth)\n",
    "# %s 表示我们这里要插入一个变量（字符串），%name代表这里我们插入name → 所以，两个%解决问题\n",
    "\n",
    "x = 4   \n",
    "y = \"hehe\"  \n",
    "z = 4.2\n",
    "print(\"this is %i\" %x)\n",
    "print(\"this is %s\" %y)\n",
    "print(\"this is %f\" %z)\n",
    "# %s的s有什么含义：%s %z %f都是格式化字符串，s/i/f分别代表插入字符串的源数据类型：整型/字符型/浮点型\n"
   ]
  },
  {
   "cell_type": "code",
   "execution_count": 1,
   "metadata": {},
   "outputs": [
    {
     "name": "stdout",
     "output_type": "stream",
     "text": [
      "pi is 3.141593\n",
      "pi is 3.14\n",
      "pi is 10\n",
      "pi is 11\n",
      "have fun +100\n",
      "have fun -0.01\n",
      "have fun  100\n",
      "have fun +100\n",
      "have fun -0.01\n",
      "have fun 1.23e+02\n",
      "have fun 1.2312E+02\n",
      "have fun 123.123\n",
      "have fun 1.2\n"
     ]
    }
   ],
   "source": [
    "# 格式化字符：数字格式化的那些坑\n",
    "\n",
    "m = 3.1415926 \n",
    "print(\"pi is %f\"  %m)\n",
    "print(\"pi is %.2f\" %m)\n",
    "# 我只想输出2位小数:%.2f，此处是四舍五入！\n",
    "\n",
    "m = 10.6\n",
    "print(\"pi is %i\"  %m)\n",
    "print(\"pi is %.0f\" %m)\n",
    "# 区别：%i 不四舍五入，直接切掉小数部分\n",
    "\n",
    "m = 100 \n",
    "print(\"have fun %+i\"  %m)\n",
    "print(\"have fun %.2f\"  % -0.01)\n",
    "# 显示正号，负号根据数字直接显示\n",
    "\n",
    "m = 100 \n",
    "print(\"have fun % i\"  %m)\n",
    "print(\"have fun % +i\"  %m)\n",
    "print(\"have fun % .2f\"  %-0.01)\n",
    "# 加空格，空格和正好只能显示一个\n",
    "\n",
    "m = 123.123123123 \n",
    "print(\"have fun %.2e\"  %m)\n",
    "print(\"have fun %.4E\"  %m)\n",
    "# 科学计数法 %e  %E\n",
    "\n",
    "m1 = 123.123123123\n",
    "m2 = 1.2\n",
    "print(\"have fun %g\"  %m1)\n",
    "print(\"have fun %g\"  %m2)\n",
    "# 小数位数少的时候自动识别用浮点数，数据复杂的时候自动识别用科学计数法"
   ]
  },
  {
   "cell_type": "code",
   "execution_count": 10,
   "metadata": {},
   "outputs": [
    {
     "name": "stdout",
     "output_type": "stream",
     "text": [
      "今天的天气怎么样？---非常好\n",
      "您好！谢谢\n",
      "ab \n",
      " abbc \n",
      "\n"
     ]
    }
   ],
   "source": [
    "# 更强大的格式化方法：format\n",
    "\n",
    "print('今天的天气怎么样？{}'.format('---非常好'))\n",
    "st = '您好！{}'\n",
    "print(st.format(\"谢谢\"))\n",
    "\n",
    "print(\"{}{}\".format('a','b','c'),'\\n',\n",
    "     \"{0}{1}{1}{2}\".format('a','b','c'),'\\n')\n"
   ]
  },
  {
   "cell_type": "code",
   "execution_count": 18,
   "metadata": {},
   "outputs": [
    {
     "name": "stdout",
     "output_type": "stream",
     "text": [
      "========答案①=======================\n",
      "有提行的文本\n",
      "    这是有提行的文本\n",
      "\n",
      "========答案②=======================\n",
      "usr/matao/work/yanxuan\n",
      "\n",
      "========答案③=======================\n",
      "55\n",
      "2255\n",
      "\n",
      "========答案④=======================\n",
      "\n",
      "========答案⑤=======================\n",
      "\n",
      "========答案⑥=======================\n",
      "\n",
      "========答案⑦=======================\n",
      "\n",
      "========答案⑧=======================\n",
      "\n",
      "========答案⑨=======================\n"
     ]
    }
   ],
   "source": [
    "# 小作业\n",
    "\n",
    "# ① 三引号创建一个有提行的文本，print()函数输出\n",
    "print('========答案①=======================')\n",
    "print('''有提行的文本\n",
    "    这是有提行的文本''')\n",
    "\n",
    "# ② 申明一个字符串变量，值为一个文件路径，注意操作习惯\n",
    "print('\\n========答案②=======================')\n",
    "st = 'usr/matao/work/yanxuan'\n",
    "print(st)\n",
    "\n",
    "# ③ 以下输出分别是多少：33+\"22\"; 33+int(\"22\"); \"22\" + str(55);\n",
    "print('\\n========答案③=======================')\n",
    "#print(33+\"22\")\n",
    "print(33+int(\"22\"))\n",
    "print(\"22\" + str(55))\n",
    "\n",
    "# ④ m=“a,b,c”,m.split()会输出什么结果？（不加\",\"）\n",
    "print('\\n========答案④=======================')\n",
    "\n",
    "\n",
    "# ⑤ 再回想一下：.split和.join的输出分别是什么类型的数据\n",
    "print('\\n========答案⑤=======================')\n",
    "\n",
    "\n",
    "# ⑥ 如果我想打%怎么办？\n",
    "print('\\n========答案⑥=======================')\n",
    "\n",
    "\n",
    "# ⑦ 这样书写正确吗，为什么？ print(\"abc%s\") % \"nn\"\n",
    "print('\\n========答案⑦=======================')\n",
    "\n",
    "\n",
    "# ⑧ 这样书写正确吗，为什么？ print(245%f % 123)\n",
    "print('\\n========答案⑧=======================')\n",
    "\n",
    "\n",
    "# ⑨ \"我的工作是…我喜欢…\" 把…替换成正确的内容\n",
    "print('\\n========答案⑨=======================')\n"
   ]
  }
 ],
 "metadata": {
  "kernelspec": {
   "display_name": "Python 3",
   "language": "python",
   "name": "python3"
  },
  "language_info": {
   "codemirror_mode": {
    "name": "ipython",
    "version": 3
   },
   "file_extension": ".py",
   "mimetype": "text/x-python",
   "name": "python",
   "nbconvert_exporter": "python",
   "pygments_lexer": "ipython3",
   "version": "3.6.3"
  }
 },
 "nbformat": 4,
 "nbformat_minor": 2
}
