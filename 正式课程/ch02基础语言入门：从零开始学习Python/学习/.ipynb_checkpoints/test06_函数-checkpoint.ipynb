{
 "cells": [
  {
   "cell_type": "code",
   "execution_count": 50,
   "metadata": {},
   "outputs": [
    {
     "name": "stdout",
     "output_type": "stream",
     "text": [
      "=========答案1============\n",
      "h\n",
      "e\n",
      "l\n",
      "l\n",
      "o\n",
      "=========答案2============\n",
      "-9\n",
      "=========答案3============\n",
      "1.0\n",
      "1.5\n",
      "2.0\n",
      "2.5\n",
      "3.0\n",
      "3.5\n",
      "=========答案4============\n",
      "矩形面积： 6\n",
      "圆形面积： 50.24\n",
      "=========答案5============\n",
      "请输入一个列表：1,2,3,4,5,6\n"
     ]
    },
    {
     "data": {
      "text/plain": [
       "{1: 0, 2: 0, 3: 0, 4: 0, 5: 0, 6: 0}"
      ]
     },
     "execution_count": 50,
     "metadata": {},
     "output_type": "execute_result"
    }
   ],
   "source": [
    "# 小作业\n",
    "# ① 函数f（x），输入一个字符串，分别print出每个字母\n",
    "print('=========答案1============') \n",
    "def f1(x): \n",
    "    for i in x: \n",
    "        print(i)\n",
    "\n",
    "str1 = 'hello' \n",
    "f1(str1)\n",
    "\n",
    "print('=========答案2============')\n",
    "\n",
    "# ② f(x,y,z),函数内部算法：生成 ((x+y)(x-y))*z\n",
    "def f2(x,y,z): \n",
    "    s = ((x+y)*(x-y))*z \n",
    "    print(s)\n",
    "\n",
    "a = 1 \n",
    "b = 2 \n",
    "c = 3\n",
    "\n",
    "f2(a,b,c)\n",
    "\n",
    "# ③ 编写一个求平均值的函数 f(*m)\n",
    "print('=========答案3============') \n",
    "def f3(*m): \n",
    "    s = 0 \n",
    "    n=0 \n",
    "    for i in m: \n",
    "        s = s + i \n",
    "        n = n+1 \n",
    "        avg = s/n \n",
    "        print(avg) \n",
    "f3(1,2,3,4,5,6)\n",
    "\n",
    "# ④ 定义一个函数，用于求矩形面积、圆形面积\n",
    "print('=========答案4============') \n",
    "def f4(x, a, b=0): \n",
    "    if x==1:# 矩形面积 \n",
    "        w = a*b \n",
    "    elif x==2: #圆形面积 \n",
    "        w = 3.14*a*a \n",
    "    return w\n",
    "\n",
    "juxing = f4(1,2,3) \n",
    "print('矩形面积：',juxing) \n",
    "yuan = f4(2,4) \n",
    "print('圆形面积：',yuan)\n",
    "\n",
    "# ⑤ 定义一个函数，函数的作用是把输入的列表变成一连串字典的key，并生成字典，需要用input输入\n",
    "print('=========答案5============') \n",
    "lst = eval(input('请输入一个列表：')) \n",
    "def f5(lt):\n",
    "    return(dict.fromkeys(lt,0))\n",
    "\n",
    "f5(lst)"
   ]
  },
  {
   "cell_type": "code",
   "execution_count": 44,
   "metadata": {},
   "outputs": [
    {
     "data": {
      "text/plain": [
       "'\\n【课程6.3】  局部变量及全局变量\\n\\n定义在函数内部的变量拥有一个局部作用域，定义在函数外的拥有全局作用域。\\n\\n局部变量只能在其被声明的函数内部访问，而全局变量可以在整个程序范围内访问。调用函数时，所有在函数内声明的变量名称都将被加入到作用域中\\n\\n'"
      ]
     },
     "execution_count": 44,
     "metadata": {},
     "output_type": "execute_result"
    }
   ],
   "source": [
    "'''\n",
    "【课程6.3】  局部变量及全局变量\n",
    "\n",
    "定义在函数内部的变量拥有一个局部作用域，定义在函数外的拥有全局作用域。\n",
    "\n",
    "局部变量只能在其被声明的函数内部访问，而全局变量可以在整个程序范围内访问。调用函数时，所有在函数内声明的变量名称都将被加入到作用域中\n",
    "\n",
    "'''"
   ]
  },
  {
   "cell_type": "code",
   "execution_count": 52,
   "metadata": {
    "collapsed": true
   },
   "outputs": [],
   "source": [
    "# global语句  --- 把局部变量变为全局变量\n",
    "\n",
    "\n",
    "\n",
    "\n"
   ]
  },
  {
   "cell_type": "code",
   "execution_count": 53,
   "metadata": {},
   "outputs": [
    {
     "data": {
      "text/plain": [
       "'\\n【课程6.4】  匿名函数Lambda\\n\\nlambda 语句创建匿名函数。\\n\\n'"
      ]
     },
     "execution_count": 53,
     "metadata": {},
     "output_type": "execute_result"
    }
   ],
   "source": [
    "'''\n",
    "【课程6.4】  匿名函数Lambda\n",
    "\n",
    "lambda 语句创建匿名函数。\n",
    "\n",
    "'''\n",
    "# lambda作为匿名函数，是不需要函数名的 → 需要一个函数，又不想动脑筋去想名字，这就是匿名函数\n",
    "# lambda的主体是一个表达式，而不是一个代码块。\n",
    "# lambda只有一行，仅仅能在lambda表达式中封装有限的逻辑进去。\n",
    "\n",
    "\n",
    "\n",
    "\n",
    "\n"
   ]
  },
  {
   "cell_type": "code",
   "execution_count": 64,
   "metadata": {},
   "outputs": [
    {
     "name": "stdout",
     "output_type": "stream",
     "text": [
      "7\n",
      "[6, 5, 4, 3, 2, 1]\n"
     ]
    }
   ],
   "source": [
    "# 小作业\n",
    "\n",
    "# ① 用lambda创建一个求元素个数的匿名函数\n",
    "\n",
    "count = lambda s : len(s)\n",
    "print(count([1,2,3,4,5,6,7]))\n",
    "\n",
    "# ② 定义一个函数，可将输入的所有数字从大到小依次排序\n",
    "#lst = input('请输入一个列表：')\n",
    "def fun1(*var):\n",
    "    lst = list(var)\n",
    "    lst_re = sorted(lst, reverse=True)\n",
    "    return(lst_re)\n",
    "\n",
    "print(fun1(1,2,3,4,5,6))\n",
    "\n",
    "# ③ 定义一个函数，随机输入一个学生的成绩后，学习成绩>=90分的同学用A表示，60-89分之间的用B表示，60分以下的用C表示，最后输出成绩评分\n",
    "\n",
    "# ④ 定义一个函数，可统计出输入任意的字符中英文字母、空格、数字和其它字符的个数\n",
    "\n",
    "st.isalpha()\n",
    "st.isspace()\n",
    "st.isdigit()\n",
    "\n",
    "\n"
   ]
  }
 ],
 "metadata": {
  "kernelspec": {
   "display_name": "Python 3",
   "language": "python",
   "name": "python3"
  },
  "language_info": {
   "codemirror_mode": {
    "name": "ipython",
    "version": 3
   },
   "file_extension": ".py",
   "mimetype": "text/x-python",
   "name": "python",
   "nbconvert_exporter": "python",
   "pygments_lexer": "ipython3",
   "version": "3.6.3"
  }
 },
 "nbformat": 4,
 "nbformat_minor": 2
}
