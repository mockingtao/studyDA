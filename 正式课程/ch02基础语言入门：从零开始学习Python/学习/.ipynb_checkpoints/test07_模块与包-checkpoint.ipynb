{
 "cells": [
  {
   "cell_type": "code",
   "execution_count": 2,
   "metadata": {},
   "outputs": [
    {
     "data": {
      "text/plain": [
       "'\\n【课程7.2】  模块创建及import指令运用\\n\\nPython 模块(Module)，是一个 Python 文件，以 .py 结尾，包含了 Python 对象定义和Python语句\\n\\n'"
      ]
     },
     "execution_count": 2,
     "metadata": {},
     "output_type": "execute_result"
    }
   ],
   "source": [
    "'''\n",
    "【课程7.2】  模块创建及import指令运用\n",
    "\n",
    "Python 模块(Module)，是一个 Python 文件，以 .py 结尾，包含了 Python 对象定义和Python语句\n",
    "\n",
    "'''"
   ]
  },
  {
   "cell_type": "code",
   "execution_count": 3,
   "metadata": {},
   "outputs": [
    {
     "name": "stdout",
     "output_type": "stream",
     "text": [
      "/Users/matao/anaconda3/lib/python3.6/site-packages/pandas/__init__.py\n"
     ]
    }
   ],
   "source": [
    "# 模块路径问题\n",
    "\n",
    "import pandas\n",
    "print(pandas.__file__)\n",
    "# 查看现有包所在路径，将自己创建的包存入改路径\n",
    "\n",
    "import sys\n",
    "sys.path.append('C:/Users/Hjx/Desktop/')\n",
    "# 加载sys包，把新建的testmodel所在路径添加上"
   ]
  },
  {
   "cell_type": "code",
   "execution_count": 5,
   "metadata": {},
   "outputs": [
    {
     "name": "stdout",
     "output_type": "stream",
     "text": [
      "0.8064547834121593 8.926498049238027\n",
      "2\n",
      "8 a\n",
      "[16, 5, 2, 12, 10]\n",
      "[5, 3, 13, 1, 11, 9, 7]\n"
     ]
    }
   ],
   "source": [
    "# python标准模块 —— random随机数\n",
    "\n",
    "import random\n",
    "\n",
    "x = random.random()\n",
    "y = random.random()\n",
    "print(x,y*10)\n",
    "# random.random()随机生成一个[0:1)的随机数\n",
    "\n",
    "m = random.randint(0,10)\n",
    "print(m)\n",
    "# random.randint()随机生成一个[0:10]的整数\n",
    "\n",
    "st1 = random.choice(list(range(10)))\n",
    "st2 = random.choice('abcdnehgjla')\n",
    "print(st1,st2)\n",
    "# random.choice()随机获取()中的一个元素，()种必须是一个有序类型\n",
    "\n",
    "lst = list(range(20))\n",
    "sli = random.sample(lst,5)\n",
    "print(sli)\n",
    "# random.sample(a,b)随机获取a中指定b长度的片段，不会改变原序列\n",
    "\n",
    "lst = [1,3,5,7,9,11,13]\n",
    "random.shuffle(lst)\n",
    "print(lst)\n",
    "# random.shuffle(list)将一个列表内的元素打乱"
   ]
  },
  {
   "cell_type": "code",
   "execution_count": null,
   "metadata": {
    "collapsed": true
   },
   "outputs": [],
   "source": [
    "# python标准模块 —— time时间模块\n",
    "\n",
    "import time\n",
    "\n",
    "for i in range(2):\n",
    "    print('hello')\n",
    "    time.sleep(1)\n",
    "# time.sleep()程序休息()秒\n",
    "\n",
    "print(time.ctime())\n",
    "print(type(time.ctime()))\n",
    "# 将当前时间转换为一个字符串\n",
    "\n",
    "print(time.localtime())\n",
    "print(type(time.localtime()))\n",
    "# 将当前时间转为当前时区的struct_time\n",
    "# wday 0-6表示周日到周六\n",
    "# ydat 1-366 一年中的第几天\n",
    "# isdst 是否为夏令时，默认为-1\n",
    "\n",
    "print(time.strftime('%Y-%m-%d %H:%M:%S',time.localtime()))\n",
    "# time.strftime(a,b)\n",
    "# a为格式化字符串格式\n",
    "# b为时间戳，一般用localtime()\n",
    "\n",
    "\n",
    "\n",
    "# %y 两位数的年份表示（00-99）\n",
    "\n",
    "# %Y 四位数的年份表示（000-9999）\n",
    "\n",
    "# %m 月份（01-12）\n",
    "\n",
    "# %d 月内中的一天（0-31）\n",
    "\n",
    "# %H 24小时制小时数（0-23）\n",
    "\n",
    "# %I 12小时制小时数（01-12）\n",
    "\n",
    "# %M 分钟数（00=59）\n",
    "\n",
    "# %S 秒（00-59）\n",
    "\n",
    "# %a 本地简化星期名称\n",
    "\n",
    "# %A 本地完整星期名称\n",
    "\n",
    "# %b 本地简化的月份名称\n",
    "\n",
    "# %B 本地完整的月份名称\n",
    "\n",
    "# %c 本地相应的日期表示和时间表示\n",
    "\n",
    "# %j 年内的一天（001-366）\n",
    "\n",
    "# %p 本地A.M.或P.M.的等价符\n",
    "\n",
    "# %U 一年中的星期数（00-53）星期天为星期的开始\n",
    "\n",
    "# %w 星期（0-6），星期天为星期的开始\n",
    "\n",
    "# %W 一年中的星期数（00-53）星期一为星期的开始\n",
    "\n",
    "# %x 本地相应的日期表示\n",
    "\n",
    "# %X 本地相应的时间表示\n",
    "\n",
    "# %Z 当前时区的名称\n",
    "\n",
    "# %% %号本身"
   ]
  }
 ],
 "metadata": {
  "kernelspec": {
   "display_name": "Python 3",
   "language": "python",
   "name": "python3"
  },
  "language_info": {
   "codemirror_mode": {
    "name": "ipython",
    "version": 3
   },
   "file_extension": ".py",
   "mimetype": "text/x-python",
   "name": "python",
   "nbconvert_exporter": "python",
   "pygments_lexer": "ipython3",
   "version": "3.6.3"
  }
 },
 "nbformat": 4,
 "nbformat_minor": 2
}
