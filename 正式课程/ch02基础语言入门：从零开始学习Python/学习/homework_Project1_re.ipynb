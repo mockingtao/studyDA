{
 "cells": [
  {
   "cell_type": "code",
   "execution_count": 1,
   "metadata": {},
   "outputs": [
    {
     "data": {
      "text/plain": [
       "\"\\n【项目01】  商铺数据加载及存储\\n\\n1、成功读取“商铺数据.csv”文件\\n2、解析数据，存成列表字典格式：[{'var1':value1,'var2':value2,'var3':values,...},...,{}]\\n3、数据清洗：\\n① comment，price两个字段清洗成数字\\n② 清除字段缺失的数据\\n③ commentlist拆分成三个字段，并且清洗成数字\\n4、结果存为.pkl文件\\n\""
      ]
     },
     "execution_count": 1,
     "metadata": {},
     "output_type": "execute_result"
    }
   ],
   "source": [
    "'''\n",
    "【项目01】  商铺数据加载及存储\n",
    "\n",
    "1、成功读取“商铺数据.csv”文件\n",
    "2、解析数据，存成列表字典格式：[{'var1':value1,'var2':value2,'var3':values,...},...,{}]\n",
    "3、数据清洗：\n",
    "① comment，price两个字段清洗成数字\n",
    "② 清除字段缺失的数据\n",
    "③ commentlist拆分成三个字段，并且清洗成数字\n",
    "4、结果存为.pkl文件\n",
    "'''"
   ]
  },
  {
   "cell_type": "code",
   "execution_count": 1,
   "metadata": {},
   "outputs": [
    {
     "ename": "FileNotFoundError",
     "evalue": "[Errno 2] No such file or directory: '~/Study/data_Analyst/data_ch02_1/商铺数据.csv'",
     "output_type": "error",
     "traceback": [
      "\u001b[0;31m---------------------------------------------------------------------------\u001b[0m",
      "\u001b[0;31mFileNotFoundError\u001b[0m                         Traceback (most recent call last)",
      "\u001b[0;32m<ipython-input-1-fe3c0bc90250>\u001b[0m in \u001b[0;36m<module>\u001b[0;34m()\u001b[0m\n\u001b[1;32m      2\u001b[0m \u001b[0mpath\u001b[0m \u001b[0;34m=\u001b[0m \u001b[0;34m'~/Study/data_Analyst/data_ch02_1/商铺数据.csv'\u001b[0m\u001b[0;34m\u001b[0m\u001b[0m\n\u001b[1;32m      3\u001b[0m \u001b[0mpath_pkl\u001b[0m \u001b[0;34m=\u001b[0m \u001b[0;34m'~/Study/data_Analyst/data_ch02_1/store_data.pkl'\u001b[0m\u001b[0;34m\u001b[0m\u001b[0m\n\u001b[0;32m----> 4\u001b[0;31m \u001b[0mf\u001b[0m \u001b[0;34m=\u001b[0m \u001b[0mopen\u001b[0m\u001b[0;34m(\u001b[0m\u001b[0mpath\u001b[0m\u001b[0;34m,\u001b[0m \u001b[0;34m'r'\u001b[0m\u001b[0;34m,\u001b[0m\u001b[0mencoding\u001b[0m\u001b[0;34m=\u001b[0m\u001b[0;34m'utf8'\u001b[0m\u001b[0;34m)\u001b[0m\u001b[0;34m\u001b[0m\u001b[0m\n\u001b[0m\u001b[1;32m      5\u001b[0m \u001b[0mf\u001b[0m\u001b[0;34m.\u001b[0m\u001b[0mseek\u001b[0m\u001b[0;34m(\u001b[0m\u001b[0;36m0\u001b[0m\u001b[0;34m)\u001b[0m\u001b[0;34m\u001b[0m\u001b[0m\n\u001b[1;32m      6\u001b[0m \u001b[0mfinal_data\u001b[0m \u001b[0;34m=\u001b[0m \u001b[0;34m[\u001b[0m\u001b[0;34m]\u001b[0m\u001b[0;34m\u001b[0m\u001b[0m\n",
      "\u001b[0;31mFileNotFoundError\u001b[0m: [Errno 2] No such file or directory: '~/Study/data_Analyst/data_ch02_1/商铺数据.csv'"
     ]
    }
   ],
   "source": [
    "import pickle\n",
    "path = '/Users/matao/Study/data_Analyst/data_ch02_1/商铺数据.csv'\n",
    "path_pkl = '/Users/matao/Study/data_Analyst/data_ch02_1/store_data.pkl'\n",
    "f = open(path, 'r',encoding='utf8')\n",
    "f.seek(0)\n",
    "final_data = []\n",
    "\n",
    "def clean_comment(s):\n",
    "    if '条' in s:\n",
    "        return int(s.split(' ')[0])\n",
    "    else:\n",
    "        return '无效数据' \n",
    "    \n",
    "def clean_price(s):\n",
    "    if '￥' in s:\n",
    "        return int(s.split('￥')[-1])\n",
    "    else:\n",
    "        return '无效数据'\n",
    "    \n",
    "def clean_commentlist(s):\n",
    "    if '\\n' in s:\n",
    "        return('无效数据')\n",
    "    else:\n",
    "        taste = float(s[0][2:])\n",
    "        enviroment = float(s[1][2:])\n",
    "        service = float(s[2][2:5])\n",
    "        return([taste, enviroment, service])\n",
    "        \n",
    "    \n",
    "for line in f.readlines()[1:]:\n",
    "    data = line.split(',')\n",
    "    classify = data[0]\n",
    "    name = data[1]\n",
    "    comment = clean_comment(data[2])\n",
    "    star = data[3]\n",
    "    price = clean_price(data[4])\n",
    "    address = data[5]\n",
    "    commentlist = clean_commentlist(data[-1].split('                                '))\n",
    "    taste = commentlist[0]\n",
    "    enviroment = commentlist[1]\n",
    "    service = commentlist[2]\n",
    "    if '无效数据' not in [comment,price,commentlist]:\n",
    "        final_data2 = [[\"classify\", classify], \n",
    "                    [\"name\",name], \n",
    "                    [\"comment\", comment],\n",
    "                    [\"star\",star],\n",
    "                    [\"price\", price],\n",
    "                    [\"address\",address],\n",
    "                    [\"taste\",taste],\n",
    "                    [\"enviroment\",enviroment],\n",
    "                    [\"service\",service]]\n",
    "        final_data.append(dict(final_data2))\n",
    "        #print(dict(final_data2))\n",
    "    else:\n",
    "        continue\n",
    "\n",
    "f2 = open(path_pkl, 'wb')\n",
    "pickle.dump(final_data,f2)\n",
    "f2.close()\n",
    "f.close()\n",
    "print('finish!')\n",
    "\n",
    "        "
   ]
  },
  {
   "cell_type": "code",
   "execution_count": null,
   "metadata": {
    "collapsed": true
   },
   "outputs": [],
   "source": []
  },
  {
   "cell_type": "code",
   "execution_count": null,
   "metadata": {
    "collapsed": true
   },
   "outputs": [],
   "source": []
  }
 ],
 "metadata": {
  "kernelspec": {
   "display_name": "Python 3",
   "language": "python",
   "name": "python3"
  },
  "language_info": {
   "codemirror_mode": {
    "name": "ipython",
    "version": 3
   },
   "file_extension": ".py",
   "mimetype": "text/x-python",
   "name": "python",
   "nbconvert_exporter": "python",
   "pygments_lexer": "ipython3",
   "version": "3.6.3"
  }
 },
 "nbformat": 4,
 "nbformat_minor": 2
}
