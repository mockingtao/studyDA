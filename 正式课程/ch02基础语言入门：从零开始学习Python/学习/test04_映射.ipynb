{
 "cells": [
  {
   "cell_type": "code",
   "execution_count": 2,
   "metadata": {},
   "outputs": [
    {
     "data": {
      "text/plain": [
       "'\\n【课程4.1】  字典dict基本概念\\n\\n字典是另一种可变容器模型，且可存储任意类型对象。\\n字典的每个键值(key=>value)对用冒号(:)分割，每个对之间用逗号(,)分割，整个字典包括在花括号({})中 \\n\\n键必须是唯一的，但值则不必。\\n\\n'"
      ]
     },
     "execution_count": 2,
     "metadata": {},
     "output_type": "execute_result"
    }
   ],
   "source": [
    "'''\n",
    "【课程4.1】  字典dict基本概念\n",
    "\n",
    "字典是另一种可变容器模型，且可存储任意类型对象。\n",
    "字典的每个键值(key=>value)对用冒号(:)分割，每个对之间用逗号(,)分割，整个字典包括在花括号({})中 \n",
    "\n",
    "键必须是唯一的，但值则不必。\n",
    "\n",
    "'''"
   ]
  },
  {
   "cell_type": "code",
   "execution_count": null,
   "metadata": {
    "collapsed": true
   },
   "outputs": [],
   "source": []
  },
  {
   "cell_type": "code",
   "execution_count": 5,
   "metadata": {},
   "outputs": [
    {
     "name": "stdout",
     "output_type": "stream",
     "text": [
      "{'a': 2}\n",
      "{'var': 10}\n",
      "{20: 'hello'}\n",
      "{(1, 2, 3): 'hello'}\n",
      "{'var1': 1, 'var2': 'hello', 'var3': [1, 2, 3], 'var4': {'a': 1, 'b': 2}}\n",
      "{'var2': 'hello', 'var3': [1, 2, 3], 'var4': '任意修改其中一个值', 'var5': '添加一个值'}\n",
      "{}\n"
     ]
    }
   ],
   "source": [
    "# 字典的特点\n",
    "\n",
    "dic = {'a':1,'b':2,'c':3}\n",
    "# 键值对，一定共同出现，不能只有一个\n",
    "\n",
    "dic = {'a':1,'a':2}\n",
    "print(dic)\n",
    "# 不允许同一个键出现两次：创建时如果同一个键被赋值两次，后一个值会被记住\n",
    "\n",
    "dic = {'var1':1, 'var2':'hello', 'var3':[1,2,3], 'var4':{'a':1,'b':2}}\n",
    "# key必须是不可变的对象，value则可以是任意对象：数值，字符串，序列，字典\n",
    "# 不可变的对象有：字符串、数字、元组\n",
    "# 可变的对象有：列表\n",
    "dic1 = {'var':10}\n",
    "dic2 = {20: 'hello'}\n",
    "dic3 = {(1,2,3): 'hello'}\n",
    "print(dic1)\n",
    "print(dic2)\n",
    "print(dic3)\n",
    "\n",
    "\n",
    "print(dic)\n",
    "# 字典是一个无序集合,序列由于没有key来做对应，所以以顺序来对应值\n",
    "# 序列有顺序，字典没有！\n",
    "\n",
    "dic['var5'] = '添加一个值'  # 任意添加元素\n",
    "dic['var4'] = '任意修改其中一个值'  # 任意修改元素\n",
    "del dic['var1']  # 任意删除元素\n",
    "print(dic)\n",
    "\n",
    "dic.clear()  # 清空词典所有条目\n",
    "print(dic)\n",
    "\n",
    "del dic  # 删除词典\n",
    "#print(dic)  "
   ]
  },
  {
   "cell_type": "code",
   "execution_count": 7,
   "metadata": {},
   "outputs": [
    {
     "name": "stdout",
     "output_type": "stream",
     "text": [
      "{'m': 10, 'n': 'aa', 'h': [1, 2, 3]}\n",
      "{'a': 'fff', 'b': 'ggg'} {'c': 1, 'd': 2} {'e': [1, 2], 'f': [3, 4]}\n",
      "{'a': None, 'b': None, 'c': None} {'a': 'hello', 'b': 'hello', 'c': 'hello'}\n"
     ]
    }
   ],
   "source": [
    "# 申明一个字典\n",
    "\n",
    "dic = {'a':1,'b':2}\n",
    "# 最简单直接的方式，手动书写申明一个字典变量，注意是：不是=\n",
    "\n",
    "dic = dict(m = 10 ,n = 'aa', h = [1,2,3])\n",
    "print(dic)\n",
    "# dict()函数\n",
    "\n",
    "lst1=[(\"a\",\"fff\"),(\"b\",\"ggg\")]\n",
    "lst2=[[\"c\",1],[\"d\",2]]\n",
    "lst3=((\"e\",[1,2]),(\"f\",[3,4]))\n",
    "dic1 = dict(lst1)\n",
    "dic2 = dict(lst2)\n",
    "dic3 = dict(lst3)\n",
    "print(dic1,dic2,dic3)\n",
    "# dict()由序列生成一个字典，嵌套序列，可以是list或者tuple\n",
    "\n",
    "keys = [\"a\", \"b\", \"c\"]\n",
    "dic1 = dict.fromkeys(keys)\n",
    "dic2 = dict.fromkeys(keys, 'hello')\n",
    "print(dic1,dic2)\n",
    "# 只有key，直接生成一个字典"
   ]
  },
  {
   "cell_type": "code",
   "execution_count": 1,
   "metadata": {},
   "outputs": [
    {
     "name": "stdout",
     "output_type": "stream",
     "text": [
      "{'a': 1, 'b': 2, 'c': 3}\n",
      "{'a': 1, 'b': 2}\n",
      "{'a': 'fff', 'b': 'ggg', 'e': [1, 2], 'f': [3, 4]}\n",
      "{'语文': 100, '数学': 100, '外语': 100, '物理': 100, '化学': 100}\n"
     ]
    }
   ],
   "source": [
    "# 小作业\n",
    "\n",
    "# ① 用dict函数的时候，和直接申明一个字典，操作上什么区别？\n",
    "dic4 = dict(a=1,b=2,c=3)\n",
    "print(dic4)\n",
    "\n",
    "# ② 用dict()函数从序列创建字典的时候，对序列有要求吗？必须是列表吗？\n",
    "lst1=(\"a\",1),(\"b\",2) # 所以由此可见，不一定是列表，这个是个元组。\n",
    "dic1 = dict(lst1)\n",
    "print(dic1)\n",
    "# 那么问题来了？dict()函数有没有什么特殊的要求？\n",
    "\n",
    "\n",
    "\n",
    "# ③ 字典是无序的，强化一下\n",
    "wuxu1=[(\"a\",\"fff\"),(\"b\",\"ggg\"),(\"e\",[1,2]),(\"f\",[3,4])]\n",
    "print(dict(wuxu1))\n",
    "\n",
    "\n",
    "# ④ 以dict()函数生成一个人的成绩单，包括语文，数学，外语，物理，化学几个元素\n",
    "score = dict(语文=100, 数学=100, 外语=100, 物理=100, 化学=100)\n",
    "print(score)\n",
    "\n",
    "# 有个这个报错很有意思：\n",
    "\n",
    "# File \"<ipython-input-18-e0e45b1076de>\", line 21\n",
    "#     score = dict('语文'=100, '数学'=100, '外语'=100, '物理'=100, '化学'=100)\n",
    "#                 ^\n",
    "# SyntaxError: keyword can't be an expression\n",
    "\n",
    "# 就是说，dict()函数里面的关键字不能是个“引用”\n"
   ]
  },
  {
   "cell_type": "code",
   "execution_count": 3,
   "metadata": {},
   "outputs": [
    {
     "data": {
      "text/plain": [
       "'\\n【课程4.2】  字典常用操作\\n\\n字典内置函数&方法\\n\\n'"
      ]
     },
     "execution_count": 3,
     "metadata": {},
     "output_type": "execute_result"
    }
   ],
   "source": [
    "'''\n",
    "【课程4.2】  字典常用操作\n",
    "\n",
    "字典内置函数&方法\n",
    "\n",
    "'''"
   ]
  },
  {
   "cell_type": "code",
   "execution_count": 14,
   "metadata": {},
   "outputs": [
    {
     "name": "stdout",
     "output_type": "stream",
     "text": [
      "{'a': 1, 'b': 2, 'c': 3, 'd': 4} {'c': 3, 'd': 4}\n",
      "{'m': 1, 'n': 2, 'p': 3, 'q': 4} {'m': 1, 'n': 2, 'p': 3, 'q': 4}\n",
      "{'m': 1, 'n': 2, 'p': 3, 'q': 4} {'m': 1, 'n': 2, 'p': 3}\n",
      "4\n",
      "True\n",
      "False\n"
     ]
    }
   ],
   "source": [
    "dic1 = {\"a\":1, \"b\":2}\n",
    "dic2 = {\"c\":3, \"d\":4}\n",
    "dic1.update(dic2)\n",
    "print(dic1,dic2)\n",
    "\n",
    "\n",
    "a = {'m':1 , 'n':2 , 'p':3}\n",
    "b = a\n",
    "a.update({'q':4})\n",
    "print(a,b)\n",
    "\n",
    "a = {'m':1 , 'n':2 , 'p':3}\n",
    "b = a.copy()\n",
    "a.update({'q':4})\n",
    "print(a,b)\n",
    "\n",
    "print(len(a))\n",
    "\n",
    "print('m' in a)\n",
    "print(2 in a)"
   ]
  },
  {
   "cell_type": "code",
   "execution_count": 1,
   "metadata": {},
   "outputs": [
    {
     "data": {
      "text/plain": [
       "'\\n【课程4.3】  字典的元素访问及遍历\\n\\n如何读取字典？\\n\\n'"
      ]
     },
     "execution_count": 1,
     "metadata": {},
     "output_type": "execute_result"
    }
   ],
   "source": [
    "'''\n",
    "【课程4.3】  字典的元素访问及遍历\n",
    "\n",
    "如何读取字典？\n",
    "\n",
    "'''\n"
   ]
  },
  {
   "cell_type": "code",
   "execution_count": 13,
   "metadata": {
    "scrolled": true
   },
   "outputs": [
    {
     "name": "stdout",
     "output_type": "stream",
     "text": [
      "1\n",
      "somewhere\n",
      "shop\n",
      "nothing\n",
      "None\n",
      "dict_keys(['name', 'city', 'information']) <class 'dict_keys'>\n",
      "['name', 'city', 'information']\n",
      "dict_values(['shop', 'shanghai', {'address': 'somewhere', 'num': 66663333}]) <class 'dict_values'>\n",
      "['shop', 'shanghai', {'address': 'somewhere', 'num': 66663333}]\n",
      "dict_items([('name', 'shop'), ('city', 'shanghai'), ('information', {'address': 'somewhere', 'num': 66663333})]) <class 'dict_items'>\n",
      "[('name', 'shop'), ('city', 'shanghai'), ('information', {'address': 'somewhere', 'num': 66663333})]\n"
     ]
    }
   ],
   "source": [
    "dic = {'a':1, \"b\":2, \"c\":3}\n",
    "print(dic['a'])\n",
    "\n",
    "poi = {'name':'shop', 'city':'shanghai', 'information':{'address':'somewhere', 'num':66663333}}\n",
    "print(poi['information']['address'])\n",
    "\n",
    "print(poi.get('name'))\n",
    "print(poi.get('type',print('nothing')))\n",
    "\n",
    "print(poi.keys(),type(poi.keys()))  #可以通过keys()函数，拿到键\n",
    "print(list(poi.keys())) #通过list将keys作为列表打印出\n",
    "\n",
    "print(poi.values(),type(poi.values())) #同样，可以通过values()拿到 键值\n",
    "print(list(poi.values()))\n",
    "\n",
    "print(poi.items(),type(poi.items()))\n",
    "print(list(poi.items()))\n"
   ]
  },
  {
   "cell_type": "code",
   "execution_count": 22,
   "metadata": {},
   "outputs": [
    {
     "name": "stdout",
     "output_type": "stream",
     "text": [
      "name\n",
      "city\n",
      "information\n",
      "----------\n",
      "shop\n",
      "shanghai\n",
      "{'address': 'somewhere', 'num': 66663333}\n",
      "-----------\n",
      "name shop\n",
      "city shanghai\n",
      "information {'address': 'somewhere', 'num': 66663333}\n"
     ]
    }
   ],
   "source": [
    "poi = {'name':'shop', 'city':'shanghai', 'information':{'address':'somewhere', 'num':66663333}}\n",
    "for key in poi.keys():\n",
    "    print(key)\n",
    "print('----------')\n",
    "\n",
    "for value in poi.values():\n",
    "    print(value)\n",
    "print('-----------')\n",
    "\n",
    "for (k,v) in poi.items():\n",
    "    print(k,v)\n"
   ]
  },
  {
   "cell_type": "code",
   "execution_count": 23,
   "metadata": {},
   "outputs": [
    {
     "name": "stdout",
     "output_type": "stream",
     "text": [
      "在的\n"
     ]
    }
   ],
   "source": [
    "# 小作业\n",
    "\n",
    "# ① dict.keys()生成的是不是列表？\n",
    "# 答：不是列表，应该是dict_keys类型的数据，可以转化成列表\n",
    "\n",
    "\n",
    "# ② 如何判断一个value是否存在于字典中？\n",
    "for value in poi.values():\n",
    "    if value == 'shanghai':\n",
    "        print('在的')\n"
   ]
  },
  {
   "cell_type": "code",
   "execution_count": null,
   "metadata": {
    "collapsed": true
   },
   "outputs": [],
   "source": []
  },
  {
   "cell_type": "code",
   "execution_count": null,
   "metadata": {
    "collapsed": true
   },
   "outputs": [],
   "source": []
  },
  {
   "cell_type": "code",
   "execution_count": null,
   "metadata": {
    "collapsed": true
   },
   "outputs": [],
   "source": []
  }
 ],
 "metadata": {
  "kernelspec": {
   "display_name": "Python 3",
   "language": "python",
   "name": "python3"
  },
  "language_info": {
   "codemirror_mode": {
    "name": "ipython",
    "version": 3
   },
   "file_extension": ".py",
   "mimetype": "text/x-python",
   "name": "python",
   "nbconvert_exporter": "python",
   "pygments_lexer": "ipython3",
   "version": "3.6.3"
  }
 },
 "nbformat": 4,
 "nbformat_minor": 2
}
