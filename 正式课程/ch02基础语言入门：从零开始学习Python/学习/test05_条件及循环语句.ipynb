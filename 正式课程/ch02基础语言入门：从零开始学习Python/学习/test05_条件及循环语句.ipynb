{
 "cells": [
  {
   "cell_type": "code",
   "execution_count": 1,
   "metadata": {},
   "outputs": [
    {
     "data": {
      "text/plain": [
       "'\\n【课程5.2】  条件判断：if语句\\n\\nPython条件语句是通过一条或多条语句的执行结果（True或者False）来决定执行的代码块。\\n\\nif 判断条件：\\n    执行语句……\\nelse：\\n    执行语句……\\n    \\n** 开始有缩进的概念\\n\\n'"
      ]
     },
     "execution_count": 1,
     "metadata": {},
     "output_type": "execute_result"
    }
   ],
   "source": [
    "'''\n",
    "【课程5.2】  条件判断：if语句\n",
    "\n",
    "Python条件语句是通过一条或多条语句的执行结果（True或者False）来决定执行的代码块。\n",
    "\n",
    "if 判断条件：\n",
    "    执行语句……\n",
    "else：\n",
    "    执行语句……\n",
    "    \n",
    "** 开始有缩进的概念\n",
    "\n",
    "'''"
   ]
  },
  {
   "cell_type": "code",
   "execution_count": 13,
   "metadata": {
    "collapsed": true
   },
   "outputs": [],
   "source": [
    "# 小作业1\n",
    "\n",
    "# ① 编写一个简单的判断语句代码：输入某个成绩，如果成绩分数大于或等于60分，则返回及格，小于60分，则返回不及格\n",
    "\n",
    "\n",
    "\n",
    "# ② 编写猜数字小游戏的代码：输入一个数字，分别针对猜对数字、猜错数字、输入错误给予判断"
   ]
  },
  {
   "cell_type": "code",
   "execution_count": null,
   "metadata": {
    "collapsed": true
   },
   "outputs": [],
   "source": [
    "'''\n",
    "【课程5.3】  循环语句：for循环\n",
    "\n",
    "for循环可以遍历任何序列的项目，如一个列表或者一个字符串。\n",
    "\n",
    "迭代\n",
    "\n",
    "'''"
   ]
  },
  {
   "cell_type": "code",
   "execution_count": 27,
   "metadata": {},
   "outputs": [
    {
     "name": "stdout",
     "output_type": "stream",
     "text": [
      "['a', 1]\n",
      "['b', 2]\n",
      "['c', 3]\n",
      "[['a', 1], ['b', 2], ['c', 3]]\n",
      "{'a': 1, 'b': 2, 'c': 3}\n"
     ]
    }
   ],
   "source": [
    "# 小作业\n",
    "\n",
    "# ① 生成一个数值列表，用for循环打印出所有元素\n",
    "\n",
    "# ② 用for循环遍历一个字符串，打印出各个字母\n",
    "\n",
    "# ③ 生成一个字典，分别打印出key和value\n",
    "\n",
    "# ④ 用input输入一个循环次数n，打印hello world n遍\n",
    "\n",
    "# ⑤ 码一个等差数列，四个变量：首项a，项数n，公差d，求和s，这几个参数都可通过input()输入\n",
    "\n",
    "# a = float(input('请输入首项a：')) \n",
    "# n = int(input('请输入项数n：')) \n",
    "# d = float(input('请输入公差d：')) \n",
    "# s_list=[] \n",
    "# for i in range(n): \n",
    "#     an = a + d*i \n",
    "#     s = s+an \n",
    "#     print(s_list)\n",
    "    \n",
    "\n",
    "    \n",
    "\n",
    "# ⑥ 两组列表[\"a\", \"b\", \"c\"],[1,2,3]，用for循环把它们组成一个字典，一一对应\n",
    "\n",
    "\n",
    "lis1 = [\"a\", \"b\", \"c\"] \n",
    "lis2 = [1,2,3]\n",
    "m = []\n",
    "for i in range(len(lis1)): #用for循环遍历元素\n",
    "    lsti = [lis1[i],lis2[i]]\n",
    "    print(lsti)\n",
    "    m.append(lsti)\n",
    "print(m)\n",
    "dic = dict(m)\n",
    "print(dic)\n",
    "# 总结，把两个列表组成一个字典，思路就是：\n",
    "# 1、两个列表先合并为一个二维列表 （这一步，只要掌握列表的创建和链接，也相对来说比较简单）\n",
    "# 2、再将这个二维列表 转化成 字典 （这一步是很简单的）\n",
    "# 所以，以上就是讲复杂问题，简化成两个小问题。\n",
    "\n",
    "\n",
    "\n"
   ]
  },
  {
   "cell_type": "code",
   "execution_count": 28,
   "metadata": {},
   "outputs": [
    {
     "data": {
      "text/plain": [
       "'\\n【课程5.4】  循环语句：while循环\\n\\n执行语句可以是单个语句或语句块\\n\\n判断条件可以是任何表达式，任何非零、或非空（null）的值均为true。\\n\\n当判断条件假false时，循环结束。\\n\\n'"
      ]
     },
     "execution_count": 28,
     "metadata": {},
     "output_type": "execute_result"
    }
   ],
   "source": [
    "'''\n",
    "【课程5.4】  循环语句：while循环\n",
    "\n",
    "执行语句可以是单个语句或语句块\n",
    "\n",
    "判断条件可以是任何表达式，任何非零、或非空（null）的值均为true。\n",
    "\n",
    "当判断条件假false时，循环结束。\n",
    "\n",
    "'''"
   ]
  },
  {
   "cell_type": "code",
   "execution_count": 29,
   "metadata": {},
   "outputs": [
    {
     "data": {
      "text/plain": [
       "'\\n【课程5.5】  循环控制语句\\n\\nbreak：在语句块执行过程中终止循环，并且跳出整个循环\\n\\ncontinue：在语句块执行过程中跳出该次循环，执行下一次循环\\n\\npass：pass是空语句，是为了保持程序结构的完整性\\n\\n'"
      ]
     },
     "execution_count": 29,
     "metadata": {},
     "output_type": "execute_result"
    }
   ],
   "source": [
    "'''\n",
    "【课程5.5】  循环控制语句\n",
    "\n",
    "break：在语句块执行过程中终止循环，并且跳出整个循环\n",
    "\n",
    "continue：在语句块执行过程中跳出该次循环，执行下一次循环\n",
    "\n",
    "pass：pass是空语句，是为了保持程序结构的完整性\n",
    "\n",
    "'''"
   ]
  },
  {
   "cell_type": "code",
   "execution_count": 40,
   "metadata": {},
   "outputs": [
    {
     "name": "stdout",
     "output_type": "stream",
     "text": [
      "190\n",
      "第1次计算结果：0\n",
      "第2次计算结果：0\n",
      "第3次计算结果：0\n",
      "第4次计算结果：0\n",
      "第5次计算结果：0\n",
      "第6次计算结果：0\n",
      "第7次计算结果：1\n",
      "第8次计算结果：3\n",
      "第9次计算结果：6\n",
      "第10次计算结果：10\n",
      "第11次计算结果：10\n",
      "第12次计算结果：12\n",
      "第13次计算结果：16\n",
      "第14次计算结果：22\n",
      "第15次计算结果：22\n",
      "第16次计算结果：22\n",
      "第17次计算结果：22\n",
      "第18次计算结果：22\n",
      "第19次计算结果：22\n",
      "第20次计算结果：22\n",
      "第21次计算结果：22\n",
      "结果为22\n"
     ]
    }
   ],
   "source": [
    "# break语句\n",
    "\n",
    "s = 0\n",
    "n = 1\n",
    "while n>0:\n",
    "    s = s+n\n",
    "    n = n+1\n",
    "    if n == 20:\n",
    "        break\n",
    "print(s)\n",
    "# break语句用来终止循环语句，即便循环条件没有False条件或者序列还没被完全递归完，也会停止执行循环语句。\n",
    "# 可以将break作为一个循环的保险，如果有一个特定的条件必须终止循环，可以使用break停止循环，如上。\n",
    "\n",
    "s = 0\n",
    "count=0\n",
    "for i in range(10):\n",
    "    for j in range(5):\n",
    "        s = s+(i*j)\n",
    "        count +=1 \n",
    "        print('第%i次计算结果：%i' %(count, s))\n",
    "#     if s>20:\n",
    "#         break #为什么是在s=22结束的，但是后面还继续执行了一步？？？？？？？？？？？？？？\n",
    "        if s>20:\n",
    "            break # 把上面的语句注释了，是因为这个地方就是上面问题的答案，要把if语句在第二个for循环中，这样就不会出现如上的问题。\n",
    "            #不然还是会多执行一些步骤的。（这里是多执行了一步for循环，之后才被break掉）\n",
    "        \n",
    "print('结果为%i' %s)\n",
    "# 如果使用嵌套循环，break语句将停止执行最深层的循环，并开始执行下一行代码\n",
    "\n"
   ]
  },
  {
   "cell_type": "code",
   "execution_count": 49,
   "metadata": {},
   "outputs": [
    {
     "name": "stdout",
     "output_type": "stream",
     "text": [
      "当前字母： P\n",
      "当前字母： y\n",
      "当前字母： t\n",
      "当前字母：h，但是我pass了\n",
      "当前字母： h\n",
      "当前字母： o\n",
      "当前字母： n\n",
      "Good bye!\n"
     ]
    }
   ],
   "source": [
    "# pass语句\n",
    "\n",
    "for letter in 'Python':\n",
    "    if letter == 'h':\n",
    "        pass\n",
    "        print('当前字母：h，但是我pass了') #pass之后，还会执行后面的print，以及后面的代码,使用continue的话，continue之后的语句不会再执行\n",
    "    print('当前字母：', letter)\n",
    "print(\"Good bye!\")\n",
    "\n",
    "\n"
   ]
  },
  {
   "cell_type": "code",
   "execution_count": 46,
   "metadata": {},
   "outputs": [
    {
     "name": "stdout",
     "output_type": "stream",
     "text": [
      "第0次计算\n",
      "第1次计算\n",
      "第2次计算\n",
      "第3次计算\n",
      "第4次计算\n",
      "第5次计算\n",
      "第6次计算\n",
      "第7次计算\n",
      "第8次计算\n",
      "第9次计算\n",
      "第10次计算\n",
      "第11次计算\n",
      "第12次计算\n",
      "第13次计算\n",
      "第14次计算\n",
      "第15次计算\n",
      "第16次计算\n",
      "第17次计算\n",
      "第18次计算\n",
      "第19次计算\n",
      "第20次计算\n",
      "第21次计算\n",
      "第22次计算\n",
      "第23次计算\n",
      "第24次计算\n",
      "结果为600\n"
     ]
    }
   ],
   "source": [
    "# continue语句\n",
    "\n",
    "s = 0\n",
    "for i in range(50):\n",
    "    if i%2 ==0:\n",
    "        s += i\n",
    "    else:\n",
    "        continue\n",
    "    print('第%i次计算' %(i/2))\n",
    "print('结果为%i' %s)\n",
    "\n"
   ]
  },
  {
   "cell_type": "code",
   "execution_count": 47,
   "metadata": {},
   "outputs": [
    {
     "name": "stdout",
     "output_type": "stream",
     "text": [
      "n等于0\n",
      "n等于1\n",
      "n等于2\n",
      "n等于3\n",
      "n等于4\n",
      "n等于5\n",
      "n等于6\n",
      "n等于7\n",
      "n等于8\n",
      "n等于9\n",
      "n等于12\n",
      "n等于13\n",
      "n等于14\n",
      "n等于15\n",
      "n等于16\n",
      "n等于17\n",
      "n等于18\n",
      "n等于19\n"
     ]
    }
   ],
   "source": [
    "\n",
    "n = 0\n",
    "while n < 20:\n",
    "    if n == 10:\n",
    "        n =12\n",
    "        continue\n",
    "    print('n等于%i'%n)\n",
    "    n+= 1"
   ]
  }
 ],
 "metadata": {
  "kernelspec": {
   "display_name": "Python 3",
   "language": "python",
   "name": "python3"
  },
  "language_info": {
   "codemirror_mode": {
    "name": "ipython",
    "version": 3
   },
   "file_extension": ".py",
   "mimetype": "text/x-python",
   "name": "python",
   "nbconvert_exporter": "python",
   "pygments_lexer": "ipython3",
   "version": "3.6.3"
  }
 },
 "nbformat": 4,
 "nbformat_minor": 2
}
