{
 "cells": [
  {
   "cell_type": "code",
   "execution_count": 2,
   "metadata": {},
   "outputs": [
    {
     "data": {
      "text/plain": [
       "'\\n【课程1.2】  Numpy基础数据结构\\n\\nNumPy数组是一个多维数组对象，称为ndarray。其由两部分组成：\\n① 实际的数据\\n② 描述这些数据的元数据\\n\\n'"
      ]
     },
     "execution_count": 2,
     "metadata": {},
     "output_type": "execute_result"
    }
   ],
   "source": [
    "'''\n",
    "【课程1.2】  Numpy基础数据结构\n",
    "\n",
    "NumPy数组是一个多维数组对象，称为ndarray。其由两部分组成：\n",
    "① 实际的数据\n",
    "② 描述这些数据的元数据\n",
    "\n",
    "'''"
   ]
  },
  {
   "cell_type": "code",
   "execution_count": 3,
   "metadata": {},
   "outputs": [
    {
     "name": "stdout",
     "output_type": "stream",
     "text": [
      "[1 2 3 4 5 6 7]\n",
      "ndim: 1\n",
      "shape: (7,)\n",
      "size: 7\n",
      "int64\n",
      "8\n",
      "<memory at 0x1124c9888>\n"
     ]
    },
    {
     "data": {
      "text/plain": [
       "array([1, 2, 3, 4, 5, 6, 7])"
      ]
     },
     "execution_count": 3,
     "metadata": {},
     "output_type": "execute_result"
    }
   ],
   "source": [
    "# 多维数组ndarray\n",
    "\n",
    "import numpy as np\n",
    "\n",
    "ar = np.array([1,2,3,4,5,6,7])\n",
    "print(ar)   # 输出数组，数组的格式：中括号，元素之间没有逗号（和列表进行区分）\n",
    "print('ndim:',ar.ndim) #数组维度的个数（轴数），维度的数量也称rank\n",
    "print('shape:',ar.shape)  # 数组的维度，对于n行m列的数组，shape为(n,m)\n",
    "print('size:',ar.size)  #数组的元素总数，对于n行m列的数组，元素总数为n*m\n",
    "print(ar.dtype) #数组中元素的类型，类似type()，需要注意的是type()是函数，.dtype是方法\n",
    "print(ar.itemsize) #数组中每个元素的字节大小，int321类型字节为4，float64的字节为8\n",
    "print(ar.data) #包含实际元素数组的缓冲区（可以理解为生成数据之后，数据的内存位置）\n",
    "ar"
   ]
  },
  {
   "cell_type": "code",
   "execution_count": 24,
   "metadata": {},
   "outputs": [
    {
     "name": "stdout",
     "output_type": "stream",
     "text": [
      "[0 1 2 3 4 5 6 7 8 9] <class 'numpy.ndarray'> int64\n",
      "[ 1.    2.    3.14  4.    5.  ] <class 'numpy.ndarray'> float64\n",
      "[['1' '2' '3']\n",
      " ['a' 'b' 'c']] (2, 3) 2 6\n",
      "[list([1, 2, 3]) ('a', 'b', 'c', 'd')] (2,) 1 2\n"
     ]
    }
   ],
   "source": [
    "# 创建数组：array()函数，括号内可以是列表、元祖、数组、生成器等\n",
    "\n",
    "ar1 = np.array(range(10))\n",
    "ar2 = np.array([1,2,3.14,4,5])\n",
    "ar3 = np.array([[1,2,3],('a','b','c')]) # 二维数组：元素可以是列表，也可以是元组，也可以混搭\n",
    "ar4 = np.array([[1,2,3],('a','b','c','d')])  # 嵌套序列，元素数量不一样会怎样？\n",
    "print(ar1,type(ar1),ar1.dtype)\n",
    "print(ar2,type(ar2), ar2.dtype)\n",
    "print(ar3,ar3.shape,ar3.ndim,ar3.size)\n",
    "print(ar4,ar4.shape,ar4.ndim,ar4.size) # 元素数量不一样，将会是个一维数组，两列（两个元素）"
   ]
  },
  {
   "cell_type": "code",
   "execution_count": 30,
   "metadata": {},
   "outputs": [
    {
     "name": "stdout",
     "output_type": "stream",
     "text": [
      "[0 1 2 3 4 5 6 7 8 9]\n",
      "[ 0.  1.  2.  3.  4.  5.  6.  7.  8.  9.]\n",
      "[ 5  6  7  8  9 10 11]\n",
      "[ 5  7  9 11]\n",
      "[   0    1    2 ..., 9997 9998 9999]\n"
     ]
    }
   ],
   "source": [
    "# 创建数组：arange() -- 和上面不一样哦，类似range()，在给定间隔内返回均匀间隔的值。\n",
    "\n",
    "print(np.arange(10))\n",
    "print(np.arange(10.0))\n",
    "print(np.arange(5,12))\n",
    "print(np.arange(5,12,2))  # 返回5.0-12.0，步长为2\n",
    "print(np.arange(10000)) # 如果数组太大而无法打印，NumPy会自动跳过数组的中心部分，并只打印边角："
   ]
  },
  {
   "cell_type": "code",
   "execution_count": 34,
   "metadata": {},
   "outputs": [
    {
     "name": "stdout",
     "output_type": "stream",
     "text": [
      "[ 2.    2.25  2.5   2.75  3.  ] <class 'numpy.ndarray'>\n",
      "[ 2.   2.2  2.4  2.6  2.8]\n",
      "(array([ 2.  ,  2.25,  2.5 ,  2.75,  3.  ]), 0.25) <class 'tuple'>\n"
     ]
    }
   ],
   "source": [
    "# 创建数组：linspace():返回在间隔[开始，停止]上计算的num个均匀间隔的样本。\n",
    "# 用法：\n",
    "# numpy.linspace(start, stop, num=50, endpoint=True, retstep=False, dtype=None)\n",
    "# start：起始值，stop：结束值\n",
    "# num：生成样本数，默认为50\n",
    "# endpoint：如果为真，则停止是最后一个样本。否则，不包括在内。默认值为True。\n",
    "# retstep：如果为真，返回（样本，步骤），其中步长是样本之间的间距 → 输出为一个包含2个元素的元祖，第一个元素为array，第二个为步长实际值\n",
    "\n",
    "ar1 = np.linspace(2.0, 3.0, num=5)\n",
    "ar2 = np.linspace(2.0, 3.0, num=5, endpoint=False)\n",
    "ar3 = np.linspace(2.0, 3.0, num=5, retstep=True)\n",
    "print(ar1, type(ar1))\n",
    "print(ar2)\n",
    "print(ar3, type(ar3))\n"
   ]
  },
  {
   "cell_type": "code",
   "execution_count": 43,
   "metadata": {},
   "outputs": [
    {
     "name": "stdout",
     "output_type": "stream",
     "text": [
      "----\n",
      "===============\n",
      "数组： [ 0.  0.  0.  0.  0.]\n",
      "数组dtype： float64\n",
      "数组shape： (5,)\n",
      "数组ndim： 1\n",
      "数组size： 5\n",
      "数组itemsize： 8\n",
      "===============\n",
      "\n",
      "===============\n",
      "数组： [[0 0]\n",
      " [0 0]]\n",
      "数组dtype： int64\n",
      "数组shape： (2, 2)\n",
      "数组ndim： 2\n",
      "数组size： 4\n",
      "数组itemsize： 8\n",
      "===============\n",
      "\n",
      "===============\n",
      "数组： [[0 1 2 3 4]\n",
      " [5 6 7 8 9]]\n",
      "数组dtype： int64\n",
      "数组shape： (2, 5)\n",
      "数组ndim： 2\n",
      "数组size： 10\n",
      "数组itemsize： 8\n",
      "===============\n",
      "\n",
      "===============\n",
      "数组： [[0 0 0 0 0]\n",
      " [0 0 0 0 0]]\n",
      "数组dtype： int64\n",
      "数组shape： (2, 5)\n",
      "数组ndim： 2\n",
      "数组size： 10\n",
      "数组itemsize： 8\n",
      "===============\n",
      "\n",
      "===============\n",
      "数组： [[1 1 1 1 1]\n",
      " [1 1 1 1 1]]\n",
      "数组dtype： int64\n",
      "数组shape： (2, 5)\n",
      "数组ndim： 2\n",
      "数组size： 10\n",
      "数组itemsize： 8\n",
      "===============\n",
      "\n"
     ]
    }
   ],
   "source": [
    "# 创建数组：zeros()/zeros_like()/ones()/ones_like()\n",
    "ar1 = np.zeros(5)\n",
    "ar2 = np.zeros((2,2), dtype=np.int)\n",
    "# print(ar1,ar1.dtype,ar1.shape,ar1.ndim,ar1.size,ar1.itemsize)\n",
    "# print(ar2,ar2.dtype,ar2.shape,ar2.ndim,ar2.size,ar2.itemsize)\n",
    "print('----')\n",
    "def arr_info(s):\n",
    "    print('===============')\n",
    "    print('数组：',s)\n",
    "    print('数组dtype：',s.dtype)\n",
    "    print('数组shape：',s.shape)\n",
    "    print('数组ndim：',s.ndim)\n",
    "    print('数组size：',s.size)\n",
    "    print('数组itemsize：',s.itemsize)\n",
    "    print('===============\\n')\n",
    "\n",
    "arr_info(ar1)\n",
    "arr_info(ar2)\n",
    "\n",
    "#ar3 = np.array([list(range(5)), list(range(5,10))])\n",
    "ar4 = np.zeros_like(ar3)\n",
    "arr_info(ar3)\n",
    "arr_info(ar4)\n",
    "\n",
    "ar5 = np.ones(9)\n",
    "ar6 = np.ones((2,3,4)) # 4-一维数组元素个数，3-二维数组元素个数， 2-三维数组元素个数\n",
    "#ar7 = np.ones_like(ar3)\n",
    "arr_info(ar7)\n"
   ]
  },
  {
   "cell_type": "code",
   "execution_count": 68,
   "metadata": {},
   "outputs": [
    {
     "name": "stdout",
     "output_type": "stream",
     "text": [
      "===============\n",
      "数组： [[ 1.  0.  0.  0.  0.]\n",
      " [ 0.  1.  0.  0.  0.]\n",
      " [ 0.  0.  1.  0.  0.]\n",
      " [ 0.  0.  0.  1.  0.]\n",
      " [ 0.  0.  0.  0.  1.]]\n",
      "数组dtype： float64\n",
      "数组shape： (5, 5)\n",
      "数组ndim： 2\n",
      "数组size： 25\n",
      "数组itemsize： 8\n",
      "===============\n",
      "\n"
     ]
    }
   ],
   "source": [
    "# 创建数组：eye()\n",
    "# 创建一个正方的N*N的单位矩阵，对角线值为1，其余为0\n",
    "\n",
    "ar1 = np.eye(5)\n",
    "miaoshu(ar1)"
   ]
  },
  {
   "cell_type": "code",
   "execution_count": 1,
   "metadata": {
    "collapsed": true
   },
   "outputs": [],
   "source": [
    "# ndarray的数据类型\n",
    "\n",
    "# bool 用一个字节存储的布尔类型（True或False）\n",
    "\n",
    "# inti 由所在平台决定其大小的整数（一般为int32或int64）\n",
    "\n",
    "# int8 一个字节大小，-128 至 127\n",
    "\n",
    "# int16 整数，-32768 至 32767\n",
    "\n",
    "# int32 整数，-2 31 至 2 32 -1\n",
    "\n",
    "# int64 整数，-2 63 至 2 63 - 1\n",
    "\n",
    "# uint8 无符号整数，0 至 255\n",
    "\n",
    "# uint16 无符号整数，0 至 65535\n",
    "\n",
    "# uint32 无符号整数，0 至 2 ** 32 - 1\n",
    "\n",
    "# uint64 无符号整数，0 至 2 ** 64 - 1\n",
    "\n",
    "# float16 半精度浮点数：16位，正负号1位，指数5位，精度10位\n",
    "\n",
    "# float32 单精度浮点数：32位，正负号1位，指数8位，精度23位\n",
    "\n",
    "# float64或float 双精度浮点数：64位，正负号1位，指数11位，精度52位\n",
    "\n",
    "# complex64 复数，分别用两个32位浮点数表示实部和虚部\n",
    "\n",
    "# complex128或complex 复数，分别用两个64位浮点数表示实部和虚部"
   ]
  },
  {
   "cell_type": "code",
   "execution_count": 32,
   "metadata": {},
   "outputs": [
    {
     "name": "stdout",
     "output_type": "stream",
     "text": [
      "===============\n",
      "数组： [1 2 'a' 'hello' list([1, 2, 3]) {'two': 200, 'one': 100}]\n",
      "数组dtype： object\n",
      "数组shape： (6,)\n",
      "数组ndim： 1\n",
      "数组size： 6\n",
      "数组itemsize： 8\n",
      "===============\n",
      "\n",
      "===============\n",
      "数组： [['0' '1' '2' '3' '4' '5']\n",
      " ['a' 'b' 'c' 'd' 'e' 'f']\n",
      " ['True' 'False' 'True' 'False' 'True' 'True']]\n",
      "数组dtype： <U5\n",
      "数组shape： (3, 6)\n",
      "数组ndim： 2\n",
      "数组size： 18\n",
      "数组itemsize： 20\n",
      "===============\n",
      "\n"
     ]
    }
   ],
   "source": [
    "#作业1：分别按照要求，生成一个一维数组、二维数组，并且查看其shape\n",
    "\n",
    "hw_ar1 = np.array([1,2,'a','hello',[1,2,3],{'two':200, 'one':100}])\n",
    "arr_info(hw_ar1)\n",
    "\n",
    "lst1 = ['0','1','2','3','4','5']\n",
    "lst2 = ['a','b','c','d','e','f']\n",
    "lst3 = ['True','False','True','False','True','True']\n",
    "hw_ar2 = np.array([lst1,lst2,lst3])\n",
    "arr_info(hw_ar2)"
   ]
  },
  {
   "cell_type": "code",
   "execution_count": 38,
   "metadata": {},
   "outputs": [
    {
     "name": "stdout",
     "output_type": "stream",
     "text": [
      "===============\n",
      "数组： [ 5  6  7  8  9 10 11 12 13 14]\n",
      "数组dtype： int64\n",
      "数组shape： (10,)\n",
      "数组ndim： 1\n",
      "数组size： 10\n",
      "数组itemsize： 8\n",
      "===============\n",
      "\n"
     ]
    }
   ],
   "source": [
    "#作业2：生成一个一维数组，起始值为5，终点值为15，样本数为10个\n",
    "\n",
    "hw_ar3 = np.linspace(5,15,num=10,dtype=int,endpoint=False)\n",
    "arr_info(hw_ar3)\n",
    "\n",
    "\n"
   ]
  },
  {
   "cell_type": "code",
   "execution_count": 54,
   "metadata": {},
   "outputs": [
    {
     "name": "stdout",
     "output_type": "stream",
     "text": [
      "===============\n",
      "数组： [[ 0.  0.  0.  0.]\n",
      " [ 0.  0.  0.  0.]\n",
      " [ 0.  0.  0.  0.]\n",
      " [ 0.  0.  0.  0.]]\n",
      "数组dtype： float64\n",
      "数组shape： (4, 4)\n",
      "数组ndim： 2\n",
      "数组size： 16\n",
      "数组itemsize： 8\n",
      "===============\n",
      "\n",
      "===============\n",
      "数组： [[ 1.  1.  1.]\n",
      " [ 1.  1.  1.]]\n",
      "数组dtype： float64\n",
      "数组shape： (2, 3)\n",
      "数组ndim： 2\n",
      "数组size： 6\n",
      "数组itemsize： 8\n",
      "===============\n",
      "\n",
      "===============\n",
      "数组： [[1 0 0]\n",
      " [0 1 0]\n",
      " [0 0 1]]\n",
      "数组dtype： int64\n",
      "数组shape： (3, 3)\n",
      "数组ndim： 2\n",
      "数组size： 9\n",
      "数组itemsize： 8\n",
      "===============\n",
      "\n"
     ]
    }
   ],
   "source": [
    "#作业3：按照要求创建以下数组\n",
    "hw_ar4 = np.zeros((4,4))\n",
    "arr_info(hw_ar4)\n",
    "\n",
    "hw_ar5 = np.ones((2,3))\n",
    "arr_info(hw_ar5)\n",
    "\n",
    "hw_ar6 = np.eye(3,dtype=int)\n",
    "\n",
    "arr_info(hw_ar6)"
   ]
  }
 ],
 "metadata": {
  "kernelspec": {
   "display_name": "Python 3",
   "language": "python",
   "name": "python3"
  },
  "language_info": {
   "codemirror_mode": {
    "name": "ipython",
    "version": 3
   },
   "file_extension": ".py",
   "mimetype": "text/x-python",
   "name": "python",
   "nbconvert_exporter": "python",
   "pygments_lexer": "ipython3",
   "version": "3.6.3"
  }
 },
 "nbformat": 4,
 "nbformat_minor": 2
}
