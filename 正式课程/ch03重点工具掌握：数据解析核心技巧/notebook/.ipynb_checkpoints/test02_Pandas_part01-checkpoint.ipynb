{
 "cells": [
  {
   "cell_type": "code",
   "execution_count": 1,
   "metadata": {},
   "outputs": [
    {
     "data": {
      "text/plain": [
       "'\\n【课程2.2】  Pandas数据结构Series：基本概念及创建\\n\\n\"一维数组\"Serise\\n\\n'"
      ]
     },
     "execution_count": 1,
     "metadata": {},
     "output_type": "execute_result"
    }
   ],
   "source": [
    "'''\n",
    "【课程2.2】  Pandas数据结构Series：基本概念及创建\n",
    "\n",
    "\"一维数组\"Serise\n",
    "\n",
    "'''"
   ]
  },
  {
   "cell_type": "code",
   "execution_count": 9,
   "metadata": {},
   "outputs": [
    {
     "name": "stdout",
     "output_type": "stream",
     "text": [
      "0    0.002822\n",
      "1    0.003793\n",
      "2    0.404432\n",
      "3    0.776498\n",
      "4    0.835476\n",
      "dtype: float64\n",
      "<class 'pandas.core.series.Series'>\n",
      "RangeIndex(start=0, stop=5, step=1) <class 'pandas.core.indexes.range.RangeIndex'>\n",
      "[ 0.00282167  0.00379346  0.4044321   0.77649828  0.83547603] <class 'numpy.ndarray'>\n"
     ]
    }
   ],
   "source": [
    "# Series 数据结构\n",
    "# Series 是带有标签的一维数组，可以保存任何数据类型（整数，字符串，浮点数，Python对象等）,轴标签统称为索引\n",
    "\n",
    "import numpy as np\n",
    "import pandas as pd\n",
    "\n",
    "a = np.random.rand(5)\n",
    "s = pd.Series(np.random.rand(5))\n",
    "# print(a)\n",
    "print(s)\n",
    "print(type(s))\n",
    "\n",
    "print(s.index, type(s.index))\n",
    "print(s.values, type(s.values))\n",
    "\n",
    "# 核心：series相比于ndarray，是一个自带索引index的数组 --- 一维数组+对应缩影\n",
    "# 当只看series的值时，就是一个ndarray\n",
    "# series和ndarray较相似，索引切片功能差别不大\n",
    "# series和dict相比，series更像是一个有顺序的字典（dict本身不存在顺序），其索引原理与字典相似（一个用key，一个用index）"
   ]
  },
  {
   "cell_type": "code",
   "execution_count": 12,
   "metadata": {},
   "outputs": [
    {
     "name": "stdout",
     "output_type": "stream",
     "text": [
      "4    4\n",
      "5    5\n",
      "a    1\n",
      "b    2\n",
      "c    3\n",
      "dtype: int64\n"
     ]
    }
   ],
   "source": [
    "# Series 创建方法一：由字典创建，字典的key就是index，values就是values\n",
    "dic = {'a':1, 'b':2, 'c':3, '4':4, '5':5}\n",
    "s = pd.Series(dic)\n",
    "print(s)\n",
    "\n",
    "# 注意：key肯定是字符串，假如values类型不止一个会怎么样？ → dic = {'a':1 ,'b':'hello' , 'c':3, '4':4, '5':5}\n",
    "# 答：dtype类型就会成为object，dtype是指元素类型，实际就是value类型。"
   ]
  },
  {
   "cell_type": "code",
   "execution_count": 16,
   "metadata": {},
   "outputs": [
    {
     "name": "stdout",
     "output_type": "stream",
     "text": [
      "[ 0.48735682  1.5453247  -0.48978331 -0.36366626  0.46184828]\n",
      "0    0.487357\n",
      "1    1.545325\n",
      "2   -0.489783\n",
      "3   -0.363666\n",
      "4    0.461848\n",
      "dtype: float64\n",
      "a    0.487357\n",
      "b     1.54532\n",
      "c   -0.489783\n",
      "d   -0.363666\n",
      "e    0.461848\n",
      "dtype: object\n"
     ]
    }
   ],
   "source": [
    "# Series 创建方法二：由数组创建(一维数组)\n",
    "\n",
    "arr = np.random.randn(5)\n",
    "s = pd.Series(arr)\n",
    "print(arr)\n",
    "print(s)  # 默认index是从0开始，步长为1的数字\n",
    "\n",
    "s = pd.Series(arr, index=['a','b','c','d','e'],dtype = np.object)\n",
    "print(s)\n",
    "# index参数：设置index，长度保持一致\n",
    "# dtype参数：设置数值类型\n",
    "\n"
   ]
  },
  {
   "cell_type": "code",
   "execution_count": 20,
   "metadata": {},
   "outputs": [
    {
     "name": "stdout",
     "output_type": "stream",
     "text": [
      "0    10\n",
      "1    10\n",
      "2    10\n",
      "3    10\n",
      "dtype: int64\n"
     ]
    }
   ],
   "source": [
    "# Series 创建方法三：由标量创建\n",
    "s = pd.Series(10, index=range(4))\n",
    "print(s)\n",
    "# 如果data是标量值，则必须提供索引。该值会重复，来匹配索引的长度\n",
    "\n"
   ]
  },
  {
   "cell_type": "code",
   "execution_count": 28,
   "metadata": {},
   "outputs": [
    {
     "name": "stdout",
     "output_type": "stream",
     "text": [
      "0    0.268387\n",
      "1    0.119931\n",
      "2   -0.113960\n",
      "3   -2.511740\n",
      "4   -2.294571\n",
      "dtype: float64\n",
      "--------------\n",
      "0    1.535083\n",
      "1   -1.022214\n",
      "2   -1.533679\n",
      "3    0.896778\n",
      "4    0.637185\n",
      "Name: test, dtype: float64\n",
      "None test <class 'str'>\n",
      "--------------\n",
      "0    1.535083\n",
      "1   -1.022214\n",
      "2   -1.533679\n",
      "3    0.896778\n",
      "4    0.637185\n",
      "Name: hehehe, dtype: float64\n",
      "hehehe test\n"
     ]
    }
   ],
   "source": [
    "# Series 名称属性：name\n",
    "\n",
    "s1 = pd.Series(np.random.randn(5))\n",
    "print(s1)\n",
    "print('--------------')\n",
    "\n",
    "s2 = pd.Series(np.random.randn(5), name='test')\n",
    "print(s2)\n",
    "print(s1.name, s2.name,type(s2.name))\n",
    "# name为Series的一个参数，创建一个数组的 名称\n",
    "# .name方法：输出数组的名称，输出格式为str，如果没用定义输出名称，输出为None\n",
    "print('--------------')\n",
    "\n",
    "s3 = s2.rename('hehehe')\n",
    "print(s3)\n",
    "print(s3.name, s2.name)\n",
    "# .rename()重命名一个数组的名称，并且新指向一个数组，原数组不变"
   ]
  },
  {
   "cell_type": "code",
   "execution_count": 37,
   "metadata": {},
   "outputs": [
    {
     "name": "stdout",
     "output_type": "stream",
     "text": [
      "Jack     90.0\n",
      "Marry    92.0\n",
      "Tom      89.0\n",
      "Zack     65.0\n",
      "Name: 作业1, dtype: float64\n",
      "\n",
      "----------------\n",
      "Jack     90.0\n",
      "Marry    92.0\n",
      "Tom      89.0\n",
      "Zack     65.0\n",
      "Name: 作业1, dtype: float64\n"
     ]
    }
   ],
   "source": [
    "#作业1：分别由字典、数组的方式，创建以下要求的Series\n",
    "# 字典创建\n",
    "hw_dic = {'Jack':90.0, 'Marry':92.0, 'Tom':89.0, 'Zack':65.0}\n",
    "hw_s = pd.Series(hw_dic, name='作业1')\n",
    "print(hw_s)\n",
    "\n",
    "print('\\n----------------')\n",
    "hw_array = np.array([90.0,92.0,89.0,65.0])\n",
    "hw_s2 = pd.Series(hw_array, index=['Jack','Marry','Tom','Zack'],name='作业1')\n",
    "#print(hw_array)\n",
    "print(hw_s2)\n"
   ]
  },
  {
   "cell_type": "code",
   "execution_count": 38,
   "metadata": {},
   "outputs": [
    {
     "data": {
      "text/plain": [
       "'\\n【课程2.3】  Pandas数据结构Series：索引\\n\\n位置下标 / 标签索引 / 切片索引 / 布尔型索引\\n\\n'"
      ]
     },
     "execution_count": 38,
     "metadata": {},
     "output_type": "execute_result"
    }
   ],
   "source": [
    "'''\n",
    "【课程2.3】  Pandas数据结构Series：索引\n",
    "\n",
    "位置下标 / 标签索引 / 切片索引 / 布尔型索引\n",
    "\n",
    "'''"
   ]
  },
  {
   "cell_type": "code",
   "execution_count": 44,
   "metadata": {},
   "outputs": [
    {
     "name": "stdout",
     "output_type": "stream",
     "text": [
      "0    0.968103\n",
      "1    0.128263\n",
      "2    0.146090\n",
      "3    0.254480\n",
      "4    0.185369\n",
      "dtype: float64\n",
      "0.968103462541 <class 'numpy.float64'> float64\n",
      "0.9681034625413697 <class 'float'>\n",
      "0.128263392159\n"
     ]
    }
   ],
   "source": [
    "# 位置下标，类似序列\n",
    "s = pd.Series(np.random.rand(5))\n",
    "print(s)\n",
    "print(s[0], type(s[0]), s[0].dtype)\n",
    "print(float(s[0]),type(float(s[0])))\n",
    "#numpy.float 和float 还不太一样,所占用字节不同\n",
    "print(s[1])\n"
   ]
  },
  {
   "cell_type": "code",
   "execution_count": 55,
   "metadata": {},
   "outputs": [
    {
     "name": "stdout",
     "output_type": "stream",
     "text": [
      "a    0.623252\n",
      "b    0.011051\n",
      "c    0.603826\n",
      "d    0.003702\n",
      "e    0.097704\n",
      "dtype: float64\n",
      "0.623252036719 <class 'numpy.float64'> float64\n",
      "\n",
      "-----------\n",
      "a    0.623252\n",
      "b    0.011051\n",
      "c    0.603826\n",
      "dtype: float64 <class 'pandas.core.series.Series'>\n"
     ]
    }
   ],
   "source": [
    "# 标签索引\n",
    "\n",
    "s = pd.Series(np.random.rand(5), index=['a','b','c','d','e'])\n",
    "print(s)\n",
    "print(s['a'], type(s['a']), s['a'].dtype)\n",
    "\n",
    "print('\\n-----------')\n",
    "sci = s[['a','b','c']]\n",
    "# 如果需要选择多个标签的值，用[[]]来表示（相当于[]中包含一个列表）\n",
    "\n",
    "print(sci, type(sci))# 多标签索引结果是新的数组"
   ]
  },
  {
   "cell_type": "code",
   "execution_count": 69,
   "metadata": {},
   "outputs": [
    {
     "name": "stdout",
     "output_type": "stream",
     "text": [
      "a    0.587683\n",
      "b    0.547840\n",
      "c    0.997436\n",
      "d    0.268206\n",
      "e    0.151828\n",
      "dtype: float64\n",
      "a    0.587683\n",
      "b    0.547840\n",
      "c    0.997436\n",
      "d    0.268206\n",
      "dtype: float64\n",
      "a    0.587683\n",
      "c    0.997436\n",
      "e    0.151828\n",
      "dtype: float64\n"
     ]
    }
   ],
   "source": [
    "# 切片索引\n",
    "\n",
    "s1 = pd.Series(np.random.rand(5))\n",
    "s2 = pd.Series(np.random.rand(5), index=['a','b','c','d','e'])\n",
    "\n",
    "# print(s1)\n",
    "# print('\\n--------')\n",
    "# print(s1[1:4], s1[4])\n",
    "# print('\\n--------')\n",
    "# print(s2)\n",
    "# print('\\n--------')\n",
    "# print(s2['a':'c'], s2['c'])\n",
    "# print('\\n--------')\n",
    "# print(s2[0:3], s2[3])\n",
    "print(s2)\n",
    "print(s2[:-1])\n",
    "print(s2[::2])\n",
    "# 下标索引做切片，和list写法一样\n",
    "\n"
   ]
  },
  {
   "cell_type": "code",
   "execution_count": 18,
   "metadata": {},
   "outputs": [
    {
     "name": "stdout",
     "output_type": "stream",
     "text": [
      "0    34.1147\n",
      "1    64.9117\n",
      "2    47.8986\n",
      "3       None\n",
      "dtype: object\n",
      "\n",
      "----------\n",
      "0    False\n",
      "1     True\n",
      "2    False\n",
      "3    False\n",
      "dtype: bool <class 'pandas.core.series.Series'> bool\n",
      "\n",
      "----------\n",
      "0    False\n",
      "1    False\n",
      "2    False\n",
      "3     True\n",
      "dtype: bool <class 'pandas.core.series.Series'> bool\n",
      "\n",
      "----------\n",
      "0     True\n",
      "1     True\n",
      "2     True\n",
      "3    False\n",
      "dtype: bool <class 'pandas.core.series.Series'> bool\n",
      "\n",
      "----------\n",
      "1    64.9117\n",
      "dtype: object\n",
      "\n",
      "----------\n",
      "0    34.1147\n",
      "1    64.9117\n",
      "2    47.8986\n",
      "dtype: object\n"
     ]
    }
   ],
   "source": [
    "# 布尔型索引\n",
    "\n",
    "s = pd.Series(np.random.rand(3)*100)\n",
    "s[3] = None\n",
    "print(s)\n",
    "print('\\n----------')\n",
    "bs1 = s>50\n",
    "print(bs1, type(bs1), bs1.dtype)\n",
    "print('\\n----------')\n",
    "\n",
    "bs2 = s.isnull()\n",
    "print(bs2,type(bs2), bs2.dtype)\n",
    "print('\\n----------')\n",
    "\n",
    "bs3 = s.notnull()\n",
    "print(bs3, type(bs3), bs3.dtype)\n",
    "print('\\n----------')\n",
    "# 数组做判断之后，返回的是一个由布尔值组成的新的数组\n",
    "# .isnull() / .notnull() 判断是否为空值 (None代表空值，NaN代表有问题的数值，两个都会识别为空值)\n",
    "\n",
    "print(s[s>50])\n",
    "print('\\n----------')\n",
    "\n",
    "print(s[bs3])\n",
    "# 布尔型索引方法：用[判断条件]表示，其中判断条件可以是 一个语句，或者是 一个布尔型数组！\n",
    "\n"
   ]
  },
  {
   "cell_type": "code",
   "execution_count": 30,
   "metadata": {},
   "outputs": [
    {
     "name": "stdout",
     "output_type": "stream",
     "text": [
      "a    38.320888\n",
      "b    64.835095\n",
      "c    60.931004\n",
      "d    33.953937\n",
      "e    90.712952\n",
      "f    54.412811\n",
      "g    20.007865\n",
      "h    52.342705\n",
      "i    87.615377\n",
      "j    77.341810\n",
      "dtype: float64\n",
      "标签为b的值为： 64.8350952388\n",
      "标签为c的值为： 60.9310038657\n",
      "e    90.712952\n",
      "f    54.412811\n",
      "g    20.007865\n",
      "dtype: float64\n",
      "a    False\n",
      "b     True\n",
      "c     True\n",
      "d    False\n",
      "e     True\n",
      "f     True\n",
      "g    False\n",
      "h     True\n",
      "i     True\n",
      "j     True\n",
      "dtype: bool\n",
      "b    64.835095\n",
      "c    60.931004\n",
      "e    90.712952\n",
      "f    54.412811\n",
      "h    52.342705\n",
      "i    87.615377\n",
      "j    77.341810\n",
      "dtype: float64\n"
     ]
    }
   ],
   "source": [
    "# 作业1：创建一个Series，包含10个元素，且每个值为0-100的均匀分布随机值，index为a-j，请分别筛选出：\n",
    "# ① 标签为b，c的值为多少\n",
    "# ② Series中第4到6个值是哪些？\n",
    "# ③ Series中大于50的值有哪些？\n",
    "import pandas as pd\n",
    "import numpy as np\n",
    "\n",
    "\n",
    "index_data=['a','b','c','d','e','f','g','h','i','j']\n",
    "hw_s1 = pd.Series(np.random.rand(10)*100,index=index_data)\n",
    "print(hw_s1)\n",
    "print('标签为b的值为：',hw_s1['b'])\n",
    "print('标签为c的值为：',hw_s1['c'])\n",
    "\n",
    "hw_s2 = hw_s1[4:7]\n",
    "print(hw_s2)\n",
    "\n",
    "bool_data = hw_s1 > 50\n",
    "print(bool_data)\n",
    "print(hw_s1[bool_data])"
   ]
  },
  {
   "cell_type": "code",
   "execution_count": null,
   "metadata": {
    "collapsed": true
   },
   "outputs": [],
   "source": []
  },
  {
   "cell_type": "code",
   "execution_count": 87,
   "metadata": {},
   "outputs": [
    {
     "data": {
      "text/plain": [
       "'\\n【课程2.4】  Pandas数据结构Series：基本技巧\\n\\n数据查看 / 重新索引 / 对齐 / 添加、修改、删除值\\n\\n'"
      ]
     },
     "execution_count": 87,
     "metadata": {},
     "output_type": "execute_result"
    }
   ],
   "source": [
    "'''\n",
    "【课程2.4】  Pandas数据结构Series：基本技巧\n",
    "\n",
    "数据查看 / 重新索引 / 对齐 / 添加、修改、删除值\n",
    "\n",
    "'''"
   ]
  },
  {
   "cell_type": "code",
   "execution_count": 92,
   "metadata": {},
   "outputs": [
    {
     "name": "stdout",
     "output_type": "stream",
     "text": [
      "45    0.136188\n",
      "46   -1.342179\n",
      "47   -1.484076\n",
      "48    0.346419\n",
      "49   -1.616931\n",
      "dtype: float64\n"
     ]
    }
   ],
   "source": [
    "# 数据查看\n",
    "\n",
    "s = pd.Series(np.random.randn(50))\n",
    "#print(s.head(10))\n",
    "print(s.tail())"
   ]
  },
  {
   "cell_type": "code",
   "execution_count": 99,
   "metadata": {},
   "outputs": [
    {
     "name": "stdout",
     "output_type": "stream",
     "text": [
      "a    0.280266\n",
      "b    0.022508\n",
      "c    0.413540\n",
      "dtype: float64\n",
      "c    0.413540\n",
      "b    0.022508\n",
      "a    0.280266\n",
      "d         NaN\n",
      "dtype: float64\n",
      "c    0.413540\n",
      "b    0.022508\n",
      "a    0.280266\n",
      "d    0.000000\n",
      "dtype: float64\n"
     ]
    }
   ],
   "source": [
    "# 重新索引reindex\n",
    "# .reindex将会根据索引重新排序，如果当前索引不存在，则引入缺失值\n",
    "\n",
    "s = pd.Series(np.random.rand(3), index=['a', 'b','c'])\n",
    "print(s)\n",
    "\n",
    "s1 = s.reindex(['c','b','a','d'])\n",
    "print(s1)\n",
    "# .reindex()中也是写列表\n",
    "# 这里'd'索引不存在，所以值为NaN\n",
    "\n",
    "s2 = s.reindex(['c','b','a','d'], fill_value=0)\n",
    "print(s2)\n",
    "# fill_value参数：填充缺失值的值\n"
   ]
  },
  {
   "cell_type": "code",
   "execution_count": 110,
   "metadata": {},
   "outputs": [
    {
     "name": "stdout",
     "output_type": "stream",
     "text": [
      "Jack     0.344448\n",
      "Marry    0.617981\n",
      "Tom      0.462684\n",
      "dtype: float64\n",
      "duye         0.636023\n",
      "spiderman    0.136397\n",
      "Marry        0.737337\n",
      "dtype: float64\n",
      "Jack              NaN\n",
      "Marry        1.355318\n",
      "Tom               NaN\n",
      "duye              NaN\n",
      "spiderman         NaN\n",
      "dtype: float64\n"
     ]
    }
   ],
   "source": [
    "# Series对齐\n",
    "s1 = pd.Series(np.random.rand(3), index=['Jack','Marry','Tom'])\n",
    "s2 = pd.Series(np.random.rand(3), index = ['duye','spiderman','Marry'])\n",
    "print(s1)\n",
    "print(s2)\n",
    "print(s1+s2)\n",
    "# Series 和 ndarray 之间的主要区别是，Series 上的操作会根据标签自动对齐\n",
    "# index顺序不会影响数值计算，以标签来计算\n",
    "# 空值和任何值计算结果扔为空值"
   ]
  },
  {
   "cell_type": "code",
   "execution_count": 7,
   "metadata": {},
   "outputs": [
    {
     "name": "stdout",
     "output_type": "stream",
     "text": [
      "n    0.646238\n",
      "g    0.399686\n",
      "j    0.298753\n",
      "u    0.194457\n",
      "r    0.090970\n",
      "dtype: float64\n",
      "g    0.399686\n",
      "j    0.298753\n",
      "u    0.194457\n",
      "r    0.090970\n",
      "dtype: float64\n",
      "j    0.298753\n",
      "u    0.194457\n",
      "r    0.090970\n",
      "dtype: float64\n",
      "n    0.646238\n",
      "g    0.399686\n",
      "j    0.298753\n",
      "u    0.194457\n",
      "r    0.090970\n",
      "dtype: float64\n"
     ]
    }
   ],
   "source": [
    "# 删除：.drop\n",
    "import pandas as pd\n",
    "import numpy as np\n",
    "s = pd.Series(np.random.rand(5), index=list('ngjur')) #list的这个方式得到index还是不错的。比较方便。\n",
    "print(s)\n",
    "\n",
    "s1 = s.drop('n')\n",
    "print(s1)\n",
    "\n",
    "s2 = s.drop(['n','g'])\n",
    "#drop只是删除副本的元素，或者可以理解为将元素数据经过过滤成为一个副本，这对原始数据没有影响。\n",
    "print(s2)\n",
    "print(s)"
   ]
  },
  {
   "cell_type": "code",
   "execution_count": 14,
   "metadata": {},
   "outputs": [
    {
     "name": "stdout",
     "output_type": "stream",
     "text": [
      "0    0.397505\n",
      "1    0.227703\n",
      "2    0.394056\n",
      "3    0.772800\n",
      "4    0.181246\n",
      "dtype: float64\n",
      "n    0.460224\n",
      "g    0.874152\n",
      "f    0.701207\n",
      "i    0.522388\n",
      "d    0.563329\n",
      "dtype: float64\n",
      "0      0.397505\n",
      "1      0.227703\n",
      "2      0.394056\n",
      "3      0.772800\n",
      "4      0.181246\n",
      "5    100.000000\n",
      "dtype: float64\n",
      "n      0.460224\n",
      "g      0.874152\n",
      "f      0.701207\n",
      "i      0.522388\n",
      "d      0.563329\n",
      "a    100.000000\n",
      "dtype: float64\n",
      "-----\n",
      "\n",
      "0      0.397505\n",
      "1      0.227703\n",
      "2      0.394056\n",
      "3      0.772800\n",
      "4      0.181246\n",
      "5    100.000000\n",
      "n      0.460224\n",
      "g      0.874152\n",
      "f      0.701207\n",
      "i      0.522388\n",
      "d      0.563329\n",
      "a    100.000000\n",
      "dtype: float64\n"
     ]
    }
   ],
   "source": [
    "# 添加\n",
    "\n",
    "s1 = pd.Series(np.random.rand(5))\n",
    "s2 = pd.Series(np.random.rand(5), index=list('ngfid'))\n",
    "print(s1)\n",
    "print(s2)\n",
    "\n",
    "s1[5]= 100\n",
    "print(s1)\n",
    "\n",
    "s2['a'] = 100\n",
    "print(s2)\n",
    "print('-----\\n')\n",
    "\n",
    "\n",
    "s3 = s1.append(s2)\n",
    "print(s3)\n",
    "\n",
    "# 通过.append方法，直接添加一个数组\n",
    "# .append方法生成一个新的数组，不改变之前的数组"
   ]
  },
  {
   "cell_type": "code",
   "execution_count": 17,
   "metadata": {},
   "outputs": [
    {
     "name": "stdout",
     "output_type": "stream",
     "text": [
      "a    0.409926\n",
      "b    0.888213\n",
      "c    0.508766\n",
      "dtype: float64\n",
      "a    100.0\n",
      "b    200.0\n",
      "c    200.0\n",
      "dtype: float64\n"
     ]
    }
   ],
   "source": [
    "# 修改\n",
    "s = pd.Series(np.random.rand(3), index=['a', 'b', 'c'])\n",
    "print(s)\n",
    "s['a'] = 100\n",
    "s[['b','c']] = 200\n",
    "print(s)\n",
    "\n",
    "# 通过索引直接修改，类似序列\n"
   ]
  },
  {
   "cell_type": "code",
   "execution_count": 41,
   "metadata": {},
   "outputs": [
    {
     "name": "stdout",
     "output_type": "stream",
     "text": [
      "[0 1 2 3 4 5 6 7 8 9]\n",
      "a    0\n",
      "b    1\n",
      "c    2\n",
      "d    3\n",
      "e    4\n",
      "f    5\n",
      "g    6\n",
      "h    7\n",
      "i    8\n",
      "j    9\n",
      "dtype: int64\n",
      "a    0\n",
      "c    2\n",
      "d    3\n",
      "e    4\n",
      "f    5\n",
      "g    6\n",
      "h    7\n",
      "i    8\n",
      "j    9\n",
      "dtype: int64\n",
      "a    100\n",
      "c      2\n",
      "d      3\n",
      "e    100\n",
      "f    100\n",
      "g      6\n",
      "h      7\n",
      "i      8\n",
      "j      9\n",
      "dtype: int64\n"
     ]
    }
   ],
   "source": [
    "# 作业1：如图创建Series，并按照要求修改得到结果\n",
    "\n",
    "test = np.array(range(10))\n",
    "print(test)\n",
    "hw_s4 = pd.Series(test,index = index_data)\n",
    "print(hw_s4)\n",
    "\n",
    "hw_s5 = hw_s4.drop('b')\n",
    "print(hw_s5)\n",
    "\n",
    "hw_s5[['a','e','f']]=100\n",
    "print(hw_s5)"
   ]
  },
  {
   "cell_type": "code",
   "execution_count": 47,
   "metadata": {},
   "outputs": [
    {
     "name": "stdout",
     "output_type": "stream",
     "text": [
      "0    6.765922\n",
      "1    1.280036\n",
      "2    9.273928\n",
      "3    5.271131\n",
      "4    8.595053\n",
      "5    9.243022\n",
      "6    3.356177\n",
      "7    3.639906\n",
      "8    0.265652\n",
      "9    3.056494\n",
      "dtype: float64 0    6.692804\n",
      "1    3.783086\n",
      "2    0.388111\n",
      "3    6.987669\n",
      "4    2.513236\n",
      "5    6.244528\n",
      "6    6.752833\n",
      "7    0.281015\n",
      "8    4.533885\n",
      "9    0.317131\n",
      "dtype: float64\n",
      "0    13.458726\n",
      "1     5.063121\n",
      "2     9.662039\n",
      "3    12.258800\n",
      "4    11.108289\n",
      "5    15.487550\n",
      "6    10.109010\n",
      "7     3.920921\n",
      "8     4.799538\n",
      "9     3.373625\n",
      "dtype: float64\n"
     ]
    }
   ],
   "source": [
    "# 作业2：已有s1，s2（值为0-10的随机数），请求出s1+s2的值\t\n",
    "\n",
    "hw_s6 = pd.Series(np.random.rand(10)*10)\n",
    "hw_s7 = pd.Series(np.random.rand(10)*10)\n",
    "sum = hw_s6+hw_s7\n",
    "print(hw_s6,hw_s7)\n",
    "print(sum)"
   ]
  },
  {
   "cell_type": "code",
   "execution_count": 48,
   "metadata": {},
   "outputs": [
    {
     "data": {
      "text/plain": [
       "'\\n【课程2.5】  Pandas数据结构Dataframe：基本概念及创建\\n\\n\"二维数组\"Dataframe：是一个表格型的数据结构，包含一组有序的列，其列的值类型可以是数值、字符串、布尔值等。\\n\\nDataframe中的数据以一个或多个二维块存放，不是列表、字典或一维数组结构。\\n\\n'"
      ]
     },
     "execution_count": 48,
     "metadata": {},
     "output_type": "execute_result"
    }
   ],
   "source": [
    "'''\n",
    "【课程2.5】  Pandas数据结构Dataframe：基本概念及创建\n",
    "\n",
    "\"二维数组\"Dataframe：是一个表格型的数据结构，包含一组有序的列，其列的值类型可以是数值、字符串、布尔值等。\n",
    "\n",
    "Dataframe中的数据以一个或多个二维块存放，不是列表、字典或一维数组结构。\n",
    "\n",
    "'''"
   ]
  },
  {
   "cell_type": "code",
   "execution_count": 59,
   "metadata": {},
   "outputs": [
    {
     "name": "stdout",
     "output_type": "stream",
     "text": [
      "   age gender   name\n",
      "0   18      m   Jack\n",
      "1   19      m    Tom\n",
      "2   20      w  Marry\n",
      "<class 'pandas.core.frame.DataFrame'>\n",
      "----------\n",
      "RangeIndex(start=0, stop=3, step=1) \n",
      "该数据类型为： <class 'pandas.core.indexes.range.RangeIndex'>\n",
      "----------\n",
      "Index(['age', 'gender', 'name'], dtype='object') \n",
      "该数据类型为： <class 'pandas.core.indexes.base.Index'>\n",
      "----------\n",
      "[[18 'm' 'Jack']\n",
      " [19 'm' 'Tom']\n",
      " [20 'w' 'Marry']] \n",
      "该数据类型为： <class 'numpy.ndarray'>\n"
     ]
    }
   ],
   "source": [
    "# Dataframe 数据结构\n",
    "# Dataframe是一个表格型的数据结构，“带有标签的二维数组”。\n",
    "# Dataframe带有index（行标签）和columns（列标签）\n",
    "\n",
    "data = {'name':['Jack', 'Tom','Marry'],\n",
    "        'age':[18,19,20],\n",
    "        'gender':['m','m','w']}\n",
    "\n",
    "frame = pd.DataFrame(data)\n",
    "print(frame) \n",
    "print(type(frame))\n",
    "print('----------')\n",
    "print(frame.index, '\\n该数据类型为：', type(frame.index))\n",
    "print('----------')\n",
    "print(frame.columns, '\\n该数据类型为：', type(frame.columns)) #列的索引，其实就是第一行了。貌似还给索引列按字母顺序排了个序。\n",
    "print('----------')\n",
    "print(frame.values, '\\n该数据类型为：', type(frame.values))\n",
    "\n",
    "# 总结：\n",
    "# 查看数据，数据类型为dataframe\n",
    "# .index查看行标签\n",
    "# .columns查看列标签\n",
    "# .values查看值，数据类型为ndarray"
   ]
  },
  {
   "cell_type": "code",
   "execution_count": 72,
   "metadata": {},
   "outputs": [
    {
     "name": "stdout",
     "output_type": "stream",
     "text": [
      "{'a': [1, 2, 3], 'b': [3, 4, 5], 'c': [5, 6, 7]}\n",
      "{'one': array([ 0.53290169,  0.30478584,  0.2752767 ]), 'two': array([ 0.72832138,  0.6511841 ,  0.52699416])}\n",
      "   a  b  c\n",
      "0  1  3  5\n",
      "1  2  4  6\n",
      "2  3  5  7\n",
      "        one       two\n",
      "0  0.532902  0.728321\n",
      "1  0.304786  0.651184\n",
      "2  0.275277  0.526994\n",
      "   b  c  a    w\n",
      "0  3  5  1  NaN\n",
      "1  4  6  2  NaN\n",
      "2  5  7  3  NaN\n",
      "   b  c\n",
      "0  3  5\n",
      "1  4  6\n",
      "2  5  7\n",
      "         one       two\n",
      "f1  0.532902  0.728321\n",
      "f2  0.304786  0.651184\n",
      "f3  0.275277  0.526994\n"
     ]
    }
   ],
   "source": [
    "# Dataframe 创建方法一：由数组/list组成的字典，如上面，value是list，整体是字典。\n",
    "# 创建方法:pandas.Dataframe()\n",
    "\n",
    "data1 = {'a': [1,2,3],\n",
    "        'b': [3,4,5],\n",
    "        'c': [5,6,7]}\n",
    "data2 = {'one': np.random.rand(3),\n",
    "        'two': np.random.rand(3)}\n",
    "\n",
    "print(data1)\n",
    "print(data2)\n",
    "\n",
    "df1 = pd.DataFrame(data1)\n",
    "print(df1)\n",
    "df2 = pd.DataFrame(data2)\n",
    "print(df2)\n",
    "# 由数组/list组成的字典 创建Dataframe，columns为字典key，index为默认数字标签\n",
    "# 字典的值的长度必须保持一致！\n",
    "\n",
    "df1 = pd.DataFrame(data1, columns = ['b', 'c','a','w'])\n",
    "# columns参数：可以重新指定列的顺序，格式为list，如果现有数据中没有该列（比如'd'），则产生NaN值\n",
    "print(df1)\n",
    "\n",
    "\n",
    "df1 = pd.DataFrame(data1, columns = ['b', 'c'])\n",
    "# 如果columns重新指定时候，列的数量可以少于原数据\n",
    "print(df1)\n",
    "\n",
    "\n",
    "df2 = pd.DataFrame(data2, index=['f1','f2','f3'])\n",
    "# index参数：重新定义index，格式为list，长度必须保持一致！！！，不信你试试！！！\n",
    "print(df2)\n",
    "\n"
   ]
  },
  {
   "cell_type": "code",
   "execution_count": 84,
   "metadata": {},
   "outputs": [
    {
     "name": "stdout",
     "output_type": "stream",
     "text": [
      "0    0.487299\n",
      "1    0.248292\n",
      "dtype: float64\n",
      "RangeIndex(start=0, stop=2, step=1)\n",
      "{'one': 0    0.245784\n",
      "1    0.714185\n",
      "dtype: float64, 'two': 0    0.739909\n",
      "1    0.605161\n",
      "2    0.504743\n",
      "dtype: float64}\n",
      "        one       two\n",
      "0  0.245784  0.739909\n",
      "1  0.714185  0.605161\n",
      "2       NaN  0.504743\n",
      "RangeIndex(start=0, stop=3, step=1)\n",
      "\n",
      "-----------\n",
      "{'one': a    0.713935\n",
      "b    0.578689\n",
      "dtype: float64, 'two': a    0.462539\n",
      "c    0.437535\n",
      "d    0.361085\n",
      "dtype: float64}\n",
      "        one       two\n",
      "a  0.713935  0.462539\n",
      "b  0.578689       NaN\n",
      "c       NaN  0.437535\n",
      "d       NaN  0.361085\n"
     ]
    }
   ],
   "source": [
    "# Dataframe 创建方法二：由Series组成的字典\n",
    "test = pd.Series(np.random.rand(2))\n",
    "print(test)\n",
    "print(test.index)\n",
    "                 \n",
    "data1 = {'one': pd.Series(np.random.rand(2)),\n",
    "        'two': pd.Series(np.random.rand(3))}\n",
    "print(data1)\n",
    "df1 = pd.DataFrame(data1)\n",
    "print(df1)\n",
    "print(df1.index)\n",
    "print('\\n-----------')\n",
    "\n",
    "data2 = {'one': pd.Series(np.random.rand(2), index=['a','b']),\n",
    "        'two': pd.Series(np.random.rand(3), index=['a','c','d'])}\n",
    "print(data2)\n",
    "df2 = pd.DataFrame(data2)\n",
    "print(df2)\n",
    "\n",
    "# 总结，对最后的DataFrame来说：\n",
    "# 1、字典的key永远是DataFrame的列索引（即第一行）\n",
    "# 2、DataFrame的index为Series的标签（index）---- 这俩货index保持一致，如果Series没有指定标签，则是默认数字标签）\n",
    "# 3、DataFrame的index会自动补齐，如果没有值就用NaN代替。Series可以长度不一样，生成的Dataframe会出现NaN值\n"
   ]
  },
  {
   "cell_type": "code",
   "execution_count": 94,
   "metadata": {},
   "outputs": [
    {
     "name": "stdout",
     "output_type": "stream",
     "text": [
      "[[ 0.68849549  0.11350411  0.63605199]\n",
      " [ 0.28566386  0.39905659  0.69097651]\n",
      " [ 0.10305428  0.7528511   0.44701631]]\n",
      "--------\n",
      "          0         1         2\n",
      "0  0.688495  0.113504  0.636052\n",
      "1  0.285664  0.399057  0.690977\n",
      "2  0.103054  0.752851  0.447016\n",
      "--------\n",
      "        one       two     three\n",
      "a  0.688495  0.113504  0.636052\n",
      "b  0.285664  0.399057  0.690977\n",
      "c  0.103054  0.752851  0.447016\n"
     ]
    }
   ],
   "source": [
    "# Dataframe 创建方法三：通过二维数组直接创建\n",
    "\n",
    "ar = np.random.rand(9).reshape(3,3)\n",
    "print(ar)\n",
    "print('--------')\n",
    "df1 = pd.DataFrame(ar)\n",
    "print(df1)\n",
    "print('--------')\n",
    "df2 = pd.DataFrame(ar, index=['a','b','c'], columns=['one','two','three'])\n",
    "print(df2)\n",
    "\n",
    "# 总结：\n",
    "# 1、通过二维数组直接创建Dataframe，得到一样形状的结果数据，如果不指定index和columns，两者均返回默认数字格式\n",
    "# 2、index和colunms指定长度与原数组保持一致，不然会报错。"
   ]
  },
  {
   "cell_type": "code",
   "execution_count": 113,
   "metadata": {},
   "outputs": [
    {
     "name": "stdout",
     "output_type": "stream",
     "text": [
      "[{'one': 1, 'two': 2}, {'one': 5, 'two': 10, 'three': 20}]\n",
      "   one  three  two\n",
      "0    1    NaN    2\n",
      "1    5   20.0   10\n",
      "-----------\n",
      "   one  three  two\n",
      "a    1    NaN    2\n",
      "b    5   20.0   10\n",
      "-----------\n",
      "   one  two  three\n",
      "0    1    2    NaN\n",
      "1    5   10   20.0\n"
     ]
    }
   ],
   "source": [
    "# Dataframe 创建方法四：由字典组成的列表\n",
    "\n",
    "data = [{'one': 1, 'two': 2}, {'one': 5, 'two': 10, 'three': 20}]\n",
    "print(data) # 列表中的字典可以长度不一样，等生成DataFrame之后，空的值可以用NaN表示，\n",
    "            # 但是下面index和columns的长度不能超过这里 列表元素数量（index对应）和字典长度（columns对应） 最大值。\n",
    "\n",
    "df1 = pd.DataFrame(data)\n",
    "print(df1)\n",
    "print('-----------')\n",
    "df2 = pd.DataFrame(data, index=['a', 'b']) # 没错，就是index，不能超过 列表元素数量 的最大值，目前是2，如上有两个列表元素\n",
    "print(df2)\n",
    "print('-----------')\n",
    "df3 = pd.DataFrame(data, columns=['one', 'two','three'])# 没错，就是columns，不能超过 字典最大长度，目前最大是3，\n",
    "                                                        # 如上第二个列表元素的字典元素数量为3\n",
    "print(df3)\n",
    "\n",
    "\n"
   ]
  },
  {
   "cell_type": "code",
   "execution_count": null,
   "metadata": {
    "collapsed": true
   },
   "outputs": [],
   "source": [
    "# Dataframe 创建方法五：由字典组成的字典\n",
    "\n"
   ]
  }
 ],
 "metadata": {
  "kernelspec": {
   "display_name": "Python 3",
   "language": "python",
   "name": "python3"
  },
  "language_info": {
   "codemirror_mode": {
    "name": "ipython",
    "version": 3
   },
   "file_extension": ".py",
   "mimetype": "text/x-python",
   "name": "python",
   "nbconvert_exporter": "python",
   "pygments_lexer": "ipython3",
   "version": "3.6.3"
  }
 },
 "nbformat": 4,
 "nbformat_minor": 2
}
