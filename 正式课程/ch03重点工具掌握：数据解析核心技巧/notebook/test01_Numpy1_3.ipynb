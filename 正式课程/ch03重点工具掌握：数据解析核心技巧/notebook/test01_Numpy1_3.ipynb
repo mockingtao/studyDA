{
 "cells": [
  {
   "cell_type": "code",
   "execution_count": 4,
   "metadata": {},
   "outputs": [
    {
     "data": {
      "text/plain": [
       "'\\n【课程1.3】  Numpy通用函数\\n\\n基本操作\\n\\n'"
      ]
     },
     "execution_count": 4,
     "metadata": {},
     "output_type": "execute_result"
    }
   ],
   "source": [
    "'''\n",
    "【课程1.3】  Numpy通用函数\n",
    "\n",
    "基本操作\n",
    "\n",
    "'''\n"
   ]
  },
  {
   "cell_type": "code",
   "execution_count": 34,
   "metadata": {},
   "outputs": [
    {
     "name": "stdout",
     "output_type": "stream",
     "text": [
      "[[0 1 2 3]\n",
      " [4 0 1 2]\n",
      " [3 4 0 1]]\n"
     ]
    }
   ],
   "source": [
    "# 数组形状：.T/.reshape()/.resize()\n",
    "import numpy as np\n",
    "ar1 = np.arange(10)\n",
    "ar2 = np.ones((5,2))\n",
    "# print(ar1, '\\n', ar1.T)\n",
    "# print(ar2, '\\n', ar2.T)\n",
    "\n",
    "def arr_info(s):\n",
    "    print('===============')\n",
    "    print('数组：',s)\n",
    "    print('数组dtype：',s.dtype)\n",
    "    print('数组shape：',s.shape)\n",
    "    print('数组ndim：',s.ndim)\n",
    "    print('数组size：',s.size)\n",
    "    print('数组itemsize：',s.itemsize)\n",
    "    print('===============\\n')\n",
    "\n",
    "# reshape用法\n",
    "# numpy.reshape(a, newshape, order='C')：为数组提供新形状，而不更改其数据，所以元素数量需要一致！！\n",
    "ar3 = ar1.reshape(2,5) # 用法1：直接将已有数组改变形状\n",
    "ar4 = np.zeros((4,6)).reshape(3,8) # 用法2：生成数组后直接改变形状\n",
    "ar5 = np.reshape(np.arange(12),(3,4)) # 用法3：参数内添加数组和目标形状---如第一个参数就是一个要生成的一维数组，第二个参数是新的shape的形状\n",
    "# print(ar1,'\\n',ar3)\n",
    "# print(ar4)\n",
    "# print(ar5)\n",
    "# print('------')\n",
    "\n",
    "# resize用法\n",
    "# numpy.resize(a, new_shape)：返回具有指定形状的新数组，如有必要可重复填充所需数量的元素。\n",
    "ar6= np.resize(np.arange(5),(3,4))\n",
    "print(ar6)\n",
    "\n",
    "# 注意了：.T/.reshape()/.resize()都是生成新的数组！！！"
   ]
  },
  {
   "cell_type": "code",
   "execution_count": 41,
   "metadata": {},
   "outputs": [
    {
     "name": "stdout",
     "output_type": "stream",
     "text": [
      "True\n",
      "[0 1 9 3 4 5 6 7 8 9] [0 1 9 3 4 5 6 7 8 9]\n",
      "False\n",
      "[9 1 9 3 4 5 6 7 8 9] [0 1 9 3 4 5 6 7 8 9]\n"
     ]
    }
   ],
   "source": [
    "# 数组的复制\n",
    "\n",
    "ar1 = np.arange(10)\n",
    "ar2 = ar1 # 所以这个过程，就是ar2指向和ar1同样的那个数组。\n",
    "print(ar2 is ar1)\n",
    "ar1[2] = 9\n",
    "print(ar1, ar2)\n",
    "\n",
    "ar3 = ar1.copy() # 所以这个过程：生成数组及其数据的完整拷贝\n",
    "print(ar3 is ar1)\n",
    "ar1[0] = 9\n",
    "print(ar1, ar3)\n"
   ]
  },
  {
   "cell_type": "code",
   "execution_count": 43,
   "metadata": {},
   "outputs": [
    {
     "name": "stdout",
     "output_type": "stream",
     "text": [
      "[ 0.  1.  2.  3.  4.  5.  6.  7.  8.  9.] float64\n",
      "----------\n",
      "[0 1 2 3 4 5 6 7 8 9] int32\n",
      "[ 0.  1.  2.  3.  4.  5.  6.  7.  8.  9.] float64\n"
     ]
    }
   ],
   "source": [
    "# 数组类型转换：.astype()\n",
    "\n",
    "ar1 = np.arange(10, dtype=float)\n",
    "print(ar1, ar1.dtype)\n",
    "print('----------')\n",
    "\n",
    "ar2 = ar1.astype(np.int32)\n",
    "print(ar2, ar2.dtype)\n",
    "print(ar1, ar1.dtype)\n"
   ]
  },
  {
   "cell_type": "code",
   "execution_count": 62,
   "metadata": {},
   "outputs": [
    {
     "name": "stdout",
     "output_type": "stream",
     "text": [
      "[0 1 2 3 4] (5,)\n",
      "[5 6 7 8 9] (5,)\n",
      "[[0 1 2 3 4]\n",
      " [5 6 7 8 9]] (2, 5)\n",
      "[[0 5]\n",
      " [1 6]\n",
      " [2 7]\n",
      " [3 8]\n",
      " [4 9]] (5, 2)\n"
     ]
    }
   ],
   "source": [
    "# 数组堆叠\n",
    "\n",
    "# numpy.hstack(tup)：水平（按列顺序）堆叠数组\n",
    "a = np.arange(5)\n",
    "b = np.arange(5, 9)\n",
    "ar1 = np.hstack((a,b)) # 注意:((a,b))，这里形状可以不一样\n",
    "# print(a, a.shape)\n",
    "# print(b, b.shape)\n",
    "# print(ar1, ar1.shape)\n",
    "\n",
    "a = np.array([[1],[2],[3]])\n",
    "b = np.array([['a'],['b'],['c']])\n",
    "ar2 = np.hstack((a,b)) # 注意:((a,b))，这里形状必须一样\n",
    "# print(a, a.shape)\n",
    "# print('----------')\n",
    "# print(b, b.shape)\n",
    "# print('----------')\n",
    "# print(ar2, ar2.shape)\n",
    "# print('----------')\n",
    "\n",
    "\n",
    "# numpy.vstack(tup)：垂直（按列顺序）堆叠数组\n",
    "a = np.arange(5)\n",
    "b = np.arange(5, 10)\n",
    "ar1 = np.vstack((a,b))  # 注意:((a,b))，这里形状必须一样\n",
    "# print(a, a.shape)\n",
    "# print(b, b.shape)\n",
    "# print(ar1, ar1.shape)\n",
    "\n",
    "a = np.array([[1],[2],[3]])\n",
    "b = np.array([['a'],['b'],['c'],['d']])\n",
    "ar2 = np.vstack((a,b))   # 这里形状可以不一样,正好和平行堆叠相反的。\n",
    "                        #如果再复杂一点，通过画图就很容易理解。需要记住区分vstack是垂直，hstack是平行\n",
    "# print(a, a.shape)\n",
    "# print(b, b.shape)\n",
    "# print(ar2, ar2.shape)\n",
    "\n",
    "# numpy.stack(arrays, axis=0)：沿着新轴连接数组的序列，形状必须一样！\n",
    "a = np.arange(5)\n",
    "b = np.arange(5, 10)\n",
    "ar1 = np.stack((a,b))\n",
    "ar2 = np.stack((a,b), axis = 1) #对二维数组来说，就两个轴，x轴（0轴），y轴（1轴）\n",
    "print(a,a.shape)\n",
    "print(b,b.shape)\n",
    "print(ar1,ar1.shape)\n",
    "print(ar2,ar2.shape)\n",
    "\n",
    "# 重点解释axis参数的意思，假设两个数组[1 2 3]和[4 5 6]，shape均为(3,0)\n",
    "# axis=0：[[1 2 3] [4 5 6]]，shape为(2,3)\n",
    "# axis=1：[[1 4] [2 5] [3 6]]，shape为(3,2)！！！！！！！\n",
    "\n",
    "\n"
   ]
  },
  {
   "cell_type": "code",
   "execution_count": 76,
   "metadata": {},
   "outputs": [
    {
     "name": "stdout",
     "output_type": "stream",
     "text": [
      "[[ 0  1  2  3]\n",
      " [ 4  5  6  7]\n",
      " [ 8  9 10 11]\n",
      " [12 13 14 15]]\n",
      "[array([[0, 1, 2, 3]]), array([[4, 5, 6, 7]]), array([[ 8,  9, 10, 11]]), array([[12, 13, 14, 15]])] <class 'list'>\n"
     ]
    }
   ],
   "source": [
    "# 数组拆分 \n",
    "\n",
    "ar = np.arange(16).reshape(4,4)\n",
    "ar1 = np.hsplit(ar,2)\n",
    "print(ar)\n",
    "# print(ar1,type(ar1))\n",
    "\n",
    "ar2 = np.vsplit(ar, 4)\n",
    "print(ar2, type(ar2))\n"
   ]
  },
  {
   "cell_type": "code",
   "execution_count": 98,
   "metadata": {},
   "outputs": [
    {
     "name": "stdout",
     "output_type": "stream",
     "text": [
      "平均值： 2.5\n",
      "最大值： 5\n",
      "最小值： 0\n",
      "标准差： 1.70782512766\n",
      "方差： 2.91666666667\n",
      "求和： 15\n",
      "按列求和： [3 5 7]\n",
      "按行求和： [ 3 12]\n",
      "排序1 [1 2 3 4 5 6]\n",
      "排序2 [[1 3 4]\n",
      " [2 5 6]]\n"
     ]
    }
   ],
   "source": [
    "# 数组简单运算\n",
    "\n",
    "ar = np.arange(6).reshape(2,3)\n",
    "# print(ar + 10)\n",
    "# print(ar * 2)\n",
    "# print(1 / (ar+1))\n",
    "# print(ar**0.5)\n",
    "\n",
    "print('平均值：',ar.mean())\n",
    "print('最大值：',ar.max())\n",
    "print('最小值：',ar.min())\n",
    "print('标准差：',ar.std())\n",
    "print('方差：',ar.var())\n",
    "print('求和：',ar.sum())\n",
    "print('按列求和：',np.sum(ar,axis=0))\n",
    "print('按行求和：',np.sum(ar,axis=1))\n",
    "print('排序1',np.sort(np.array([1,4,3,2,5,6])))\n",
    "print('排序2',np.sort(np.array([[1,4,3],[2,5,6]])))"
   ]
  },
  {
   "cell_type": "code",
   "execution_count": 108,
   "metadata": {},
   "outputs": [
    {
     "name": "stdout",
     "output_type": "stream",
     "text": [
      "[[ 0  1  2  3  4]\n",
      " [ 5  6  7  8  9]\n",
      " [10 11 12 13 14]\n",
      " [15 16 17 18 19]]\n",
      "----------\n",
      "[[ 0  1  2  3  4  5]\n",
      " [ 6  7  8  9 10 11]\n",
      " [12 13 14 15 16 17]\n",
      " [18 19  0  1  2  3]\n",
      " [ 4  5  6  7  8  9]]\n"
     ]
    }
   ],
   "source": [
    "#作业1：创建一个20个元素的数组，分别改变成两个形状：(4,5),(5,6) （提示：超出范围用resize）\n",
    "\n",
    "hw_ar1 = np.arange(20).reshape(4,5)\n",
    "print(hw_ar1)\n",
    "print('----------')\n",
    "\n",
    "hw_ar2 = np.resize(np.arange(20),(5,6))\n",
    "print(hw_ar2)\n",
    "\n",
    "\n"
   ]
  },
  {
   "cell_type": "code",
   "execution_count": 113,
   "metadata": {},
   "outputs": [
    {
     "name": "stdout",
     "output_type": "stream",
     "text": [
      "[['0' '1' '2' '3']\n",
      " ['4' '5' '6' '7']\n",
      " ['8' '9' '10' '11']\n",
      " ['12' '13' '14' '15']]\n"
     ]
    }
   ],
   "source": [
    "#作业2：创建一个(4,4)的数组，把其元素类型改为字符型\n",
    "\n",
    "hw_ar3 = np.arange(16).reshape(4,4).astype(str)\n",
    "print(hw_ar3)\n",
    "\n"
   ]
  },
  {
   "cell_type": "code",
   "execution_count": 123,
   "metadata": {},
   "outputs": [
    {
     "name": "stdout",
     "output_type": "stream",
     "text": [
      "[[ 0  1  2  3]\n",
      " [ 4  5  6  7]\n",
      " [ 8  9 10 11]\n",
      " [12 13 14 15]]\n",
      "-----------\n",
      "[[100 110 120 130]\n",
      " [140 150 160 170]\n",
      " [180 190 200 210]\n",
      " [220 230 240 250]]\n",
      "-----------\n",
      "175.0\n",
      "-----------\n",
      "2800\n"
     ]
    }
   ],
   "source": [
    "#作业3：根据要求创建数组，运用数组的运算方法得到结果：result = ar * 10 +100，并求出result的均值及求和\n",
    "\n",
    "hw_ar4 = np.arange(16).reshape(4,4)\n",
    "print(hw_ar4)\n",
    "\n",
    "print('-----------')\n",
    "result = hw_ar4*10 +100\n",
    "print(result)\n",
    "print('-----------')\n",
    "avg = result.sum()/16\n",
    "print(avg)\n",
    "print('-----------')\n",
    "print(result.sum())\n"
   ]
  }
 ],
 "metadata": {
  "kernelspec": {
   "display_name": "Python 3",
   "language": "python",
   "name": "python3"
  },
  "language_info": {
   "codemirror_mode": {
    "name": "ipython",
    "version": 3
   },
   "file_extension": ".py",
   "mimetype": "text/x-python",
   "name": "python",
   "nbconvert_exporter": "python",
   "pygments_lexer": "ipython3",
   "version": "3.6.3"
  }
 },
 "nbformat": 4,
 "nbformat_minor": 2
}
