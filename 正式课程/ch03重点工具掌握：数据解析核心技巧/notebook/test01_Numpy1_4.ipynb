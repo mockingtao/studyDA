{
 "cells": [
  {
   "cell_type": "code",
   "execution_count": 4,
   "metadata": {},
   "outputs": [
    {
     "data": {
      "text/plain": [
       "'\\n【课程1.4】  Numpy索引及切片\\n\\n核心：基本索引及切片 / 布尔型索引及切片\\n\\n'"
      ]
     },
     "execution_count": 4,
     "metadata": {},
     "output_type": "execute_result"
    }
   ],
   "source": [
    "'''\n",
    "【课程1.4】  Numpy索引及切片\n",
    "\n",
    "核心：基本索引及切片 / 布尔型索引及切片\n",
    "\n",
    "'''"
   ]
  },
  {
   "cell_type": "code",
   "execution_count": 30,
   "metadata": {},
   "outputs": [
    {
     "name": "stdout",
     "output_type": "stream",
     "text": [
      "\n",
      "============一维数组==============\n",
      "[ 0  1  2  3  4  5  6  7  8  9 10 11 12 13 14 15 16 17 18 19]\n",
      "4\n",
      "[3 4 5]\n",
      "\n",
      "=============二维数组==============\n",
      "[[ 0  1  2  3]\n",
      " [ 4  5  6  7]\n",
      " [ 8  9 10 11]\n",
      " [12 13 14 15]] 数组ndim为：2\n",
      "[ 8  9 10 11] 数组轴数为1\n",
      "9\n",
      "[[ 4  5  6  7]\n",
      " [ 8  9 10 11]] 数组轴数为2\n",
      "10\n",
      "[[1 2 3]\n",
      " [5 6 7]]\n",
      "\n",
      "============三维数组==============\n",
      "[[[0 1]\n",
      "  [2 3]]\n",
      "\n",
      " [[4 5]\n",
      "  [6 7]]] 数组轴数为3\n",
      "[[0 1]\n",
      " [2 3]] 数组轴数为2\n",
      "[0 1] 数组轴数为1\n",
      "1 数组轴数为0\n"
     ]
    }
   ],
   "source": [
    "# 基本索引及切片\n",
    "import numpy as np\n",
    "\n",
    "print('\\n============一维数组==============')\n",
    "ar = np.arange(20)\n",
    "print(ar)\n",
    "print(ar[4]) # 一维数组索引\n",
    "print(ar[3:6]) # 一维数组切片\n",
    "\n",
    "print('\\n=============二维数组==============')\n",
    "ar = np.arange(16).reshape(4,4)\n",
    "print(ar,'数组ndim为：%i' %ar.ndim) \n",
    "print(ar[2], '数组轴数为%i' %ar[2].ndim)# 二维数组索引，切片为一个一维数组\n",
    "print(ar[2][1]) # 二次索引，得到一维数组中的一个值\n",
    "print(ar[1:3],'数组轴数为%i' %ar[1:3].ndim) # 二位数组切片，切片还是为二位数组，只是元素数目有变化\n",
    "print(ar[2,2]) # 切片，同二次索引\n",
    "print(ar[:2,1:])# 参数1：横向数据，纵向对比向下，参数2：纵向数据，横向对比向右（简单记忆：参数1-向下，参数2-向右）\n",
    "\n",
    "print('\\n============三维数组==============')\n",
    "ar = np.arange(8).reshape(2,2,2)\n",
    "print(ar, '数组轴数为%i' %ar.ndim) \n",
    "print(ar[0],'数组轴数为%i' %ar[0].ndim) #三维数组的第一个元素---二维数组\n",
    "print(ar[0][0],'数组轴数为%i' %ar[0][0].ndim) # 由上得到的二位数组的第一个元素 --- 一维数组\n",
    "print(ar[0][0][1],'数组轴数为%i' %ar[0][0][1].ndim) # 最后由一位数组通过索引找到元素。\n"
   ]
  },
  {
   "cell_type": "code",
   "execution_count": 44,
   "metadata": {},
   "outputs": [
    {
     "name": "stdout",
     "output_type": "stream",
     "text": [
      "[[ 0  1  2  3]\n",
      " [ 4  5  6  7]\n",
      " [ 8  9 10 11]]\n",
      "[[False False False False]\n",
      " [False False  True  True]\n",
      " [ True  True  True  True]]\n",
      "[ 6  7  8  9 10 11]\n"
     ]
    }
   ],
   "source": [
    "# 布尔型索引及切片\n",
    "\n",
    "ar = np.arange(12).reshape(3,4)\n",
    "i = np.array([True, False, True])\n",
    "j = np.array([True, True, False, False])\n",
    "print(ar)\n",
    "# print(i)\n",
    "# print(j)\n",
    "\n",
    "# print(ar[i,:]) # 参数1：向下，简单书写格式：ar[i,:] = ar[i]\n",
    "# print(ar[:,j]) # 参数2：向右，这个没有简单书写格式，默认第一个元素为参数1，参数1只能向下，向右的话，元素数量多了，会报错。\n",
    "\n",
    "\n",
    "m = ar > 5   # 这个地方很有意思！！！！可以直接生成一个矩阵\n",
    "print(m) # 这里m是一个判断矩阵\n",
    "print(ar[m])  # # 用m判断矩阵去筛选ar数组中>5的元素 → 重点！后面的pandas判断方式原理就来自此处 !!!!!!!\n"
   ]
  },
  {
   "cell_type": "code",
   "execution_count": 52,
   "metadata": {},
   "outputs": [
    {
     "name": "stdout",
     "output_type": "stream",
     "text": [
      "[0 1 2 3 4 5 6 7 8 9]\n",
      "[  0   1   2   3   4   5   6 200 200   9]\n"
     ]
    }
   ],
   "source": [
    "# 数组索引及切片的值更改、复制\n",
    "\n",
    "ar = np.arange(10)\n",
    "#print(ar)\n",
    "ar[5] = 100\n",
    "ar[7:9] = 200\n",
    "#print(ar)\n",
    "# 一个标量赋值给一个索引/切片时，会自动改变/传播原始数组\n",
    "# 也就是说给数组的元素负值，会修改数组的原始数据\n",
    "\n",
    "ar = np.arange(10)\n",
    "b = ar.copy()\n",
    "b[7:9] = 200\n",
    "print(ar)\n",
    "print(b)\n"
   ]
  },
  {
   "cell_type": "code",
   "execution_count": 59,
   "metadata": {},
   "outputs": [
    {
     "name": "stdout",
     "output_type": "stream",
     "text": [
      "[[ 0  1  2  3  4]\n",
      " [ 5  6  7  8  9]\n",
      " [10 11 12 13 14]\n",
      " [15 16 17 18 19]\n",
      " [20 21 22 23 24]]\n",
      "[20 21 22 23 24]\n",
      "[[3 4]\n",
      " [8 9]]\n",
      "17\n"
     ]
    }
   ],
   "source": [
    "# 作业1：按照要求创建数组，通过索引，其ar[4]、ar[:2,3:]、ar[3][2]分别是多少\n",
    "\n",
    "hw_ar1 = np.arange(25).reshape(5,5)\n",
    "print(hw_ar1)\n",
    "print(hw_ar1[4])\n",
    "print(hw_ar1[:2,3:])\n",
    "print(hw_ar1[3][2])\n",
    "\n",
    "#记住一个规则，不管是切片还是索引，参数1：向下，参数2：向右"
   ]
  },
  {
   "cell_type": "code",
   "execution_count": 63,
   "metadata": {},
   "outputs": [
    {
     "name": "stdout",
     "output_type": "stream",
     "text": [
      "[[0 1 2 3 4]\n",
      " [5 6 7 8 9]]\n",
      "[[False False False False False]\n",
      " [False  True  True  True  True]]\n",
      "[6 7 8 9]\n"
     ]
    }
   ],
   "source": [
    "#作业2：按照要求创建数组，筛选出元素值大于5的值并生成新的数组\n",
    "hw_ar2 = np.arange(10).reshape(2,5)\n",
    "print(hw_ar2)\n",
    "\n",
    "x = hw_ar2 > 5\n",
    "print(x)\n",
    "\n",
    "print(hw_ar2[x])\n"
   ]
  }
 ],
 "metadata": {
  "kernelspec": {
   "display_name": "Python 3",
   "language": "python",
   "name": "python3"
  },
  "language_info": {
   "codemirror_mode": {
    "name": "ipython",
    "version": 3
   },
   "file_extension": ".py",
   "mimetype": "text/x-python",
   "name": "python",
   "nbconvert_exporter": "python",
   "pygments_lexer": "ipython3",
   "version": "3.6.3"
  }
 },
 "nbformat": 4,
 "nbformat_minor": 2
}
