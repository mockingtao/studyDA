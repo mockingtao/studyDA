{
 "cells": [
  {
   "cell_type": "code",
   "execution_count": 1,
   "metadata": {},
   "outputs": [
    {
     "data": {
      "text/plain": [
       "'\\n【课程1.6】  Numpy数据的输入输出\\n\\nnumpy读取/写入数组数据、文本数据\\n\\n'"
      ]
     },
     "execution_count": 1,
     "metadata": {},
     "output_type": "execute_result"
    }
   ],
   "source": [
    "'''\n",
    "【课程1.6】  Numpy数据的输入输出\n",
    "\n",
    "numpy读取/写入数组数据、文本数据\n",
    "\n",
    "'''"
   ]
  },
  {
   "cell_type": "code",
   "execution_count": 5,
   "metadata": {},
   "outputs": [
    {
     "name": "stdout",
     "output_type": "stream",
     "text": [
      "[[ 0.85650202  0.29047888  0.20880459  0.33690116  0.27922114]\n",
      " [ 0.56478631  0.24139015  0.04206617  0.00854643  0.10071381]\n",
      " [ 0.07261429  0.63334495  0.6893219   0.03869285  0.04465471]\n",
      " [ 0.02719811  0.78531457  0.79617979  0.05300653  0.25290716]\n",
      " [ 0.30157953  0.46946735  0.90277693  0.6016807   0.82201841]]\n"
     ]
    }
   ],
   "source": [
    "# 存储数组数据 .npy文件\n",
    "\n",
    "import os\n",
    "import numpy as np\n",
    "path = '/Users/matao/Study/data_Analyst/data_ch03'\n",
    "os.chdir(path)\n",
    "\n",
    "ar = np.random.rand(5,5)\n",
    "print(ar)\n",
    "np.save('arraydata_test02.npy', ar)\n"
   ]
  },
  {
   "cell_type": "code",
   "execution_count": 6,
   "metadata": {},
   "outputs": [
    {
     "name": "stdout",
     "output_type": "stream",
     "text": [
      "[[ 0.85650202  0.29047888  0.20880459  0.33690116  0.27922114]\n",
      " [ 0.56478631  0.24139015  0.04206617  0.00854643  0.10071381]\n",
      " [ 0.07261429  0.63334495  0.6893219   0.03869285  0.04465471]\n",
      " [ 0.02719811  0.78531457  0.79617979  0.05300653  0.25290716]\n",
      " [ 0.30157953  0.46946735  0.90277693  0.6016807   0.82201841]]\n"
     ]
    }
   ],
   "source": [
    "# 读取数组数据 .npy文件\n",
    "ar_load = np.load('arraydata_test02.npy')\n",
    "print(ar_load)\n"
   ]
  },
  {
   "cell_type": "code",
   "execution_count": 10,
   "metadata": {},
   "outputs": [
    {
     "name": "stdout",
     "output_type": "stream",
     "text": [
      "[[ 0.23494559  0.00620194  0.03769591  0.69010085  0.98198531]\n",
      " [ 0.21914959  0.75445098  0.32009283  0.80240473  0.49388489]\n",
      " [ 0.84384201  0.99639314  0.77370161  0.41478984  0.25882112]\n",
      " [ 0.35156219  0.32040508  0.33116534  0.48662238  0.94399471]\n",
      " [ 0.33931395  0.16955524  0.41925276  0.94892698  0.38255115]]\n"
     ]
    }
   ],
   "source": [
    "# 存储/读取文本文件\n",
    "\n",
    "# np.savetxt(fname, X, fmt='%.18e', delimiter=' ', newline='\\n', header='', footer='', comments='# ')：存储为文本txt文件\n",
    "ar = np.random.rand(5,5)\n",
    "np.savetxt('arraydata_test03.txt', ar, delimiter=',')\n",
    "\n",
    "ar_loadtxt = np.loadtxt('arraydata_test03.txt',delimiter=',')\n",
    "print(ar_loadtxt)\n"
   ]
  },
  {
   "cell_type": "code",
   "execution_count": 19,
   "metadata": {},
   "outputs": [
    {
     "name": "stdout",
     "output_type": "stream",
     "text": [
      "[[59 25 91 84 49 46 29 49 42 98]\n",
      " [63 75 20 89 62 52 60 39 94 62]\n",
      " [35 12 46  5 37  9  4 27 35 41]\n",
      " [ 4 15 19 66 42 81 88 33 27 98]\n",
      " [66  7 69 30 37 72 21 74 66 94]\n",
      " [24 87 30 81 86 10 96 74 11 73]\n",
      " [77 77 40 53 73 56 48 87 73 80]\n",
      " [20 39 26 88  9 11 10 95 98 29]\n",
      " [51 20  8  7 24 68 79 13 30 56]\n",
      " [29 12 10 67 13 63 86 68 88  7]]\n"
     ]
    }
   ],
   "source": [
    "#作业1：创建一个10*10的整数随机数组，取值范围为0-100，并存为txt文件，用逗号分开\n",
    "\n",
    "\n",
    "hw_ar1 = np.random.randint(0,100,size=(10,10))\n",
    "np.savetxt('homework1_6.txt',hw_ar1, fmt='%i', delimiter=',')\n",
    "#print(hw_ar1)\n",
    "\n",
    "hw_ar2 = np.loadtxt('homework1_6.txt',delimiter=',',dtype=int)\n",
    "print(hw_ar2)\n"
   ]
  }
 ],
 "metadata": {
  "kernelspec": {
   "display_name": "Python 3",
   "language": "python",
   "name": "python3"
  },
  "language_info": {
   "codemirror_mode": {
    "name": "ipython",
    "version": 3
   },
   "file_extension": ".py",
   "mimetype": "text/x-python",
   "name": "python",
   "nbconvert_exporter": "python",
   "pygments_lexer": "ipython3",
   "version": "3.6.3"
  }
 },
 "nbformat": 4,
 "nbformat_minor": 2
}
